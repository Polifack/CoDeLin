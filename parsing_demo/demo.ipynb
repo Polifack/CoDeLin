{
 "cells": [
  {
   "attachments": {},
   "cell_type": "markdown",
   "metadata": {},
   "source": [
    "# Dependency Parsing demo"
   ]
  },
  {
   "attachments": {},
   "cell_type": "markdown",
   "metadata": {},
   "source": [
    "## Universal Dependencies\n"
   ]
  },
  {
   "attachments": {},
   "cell_type": "markdown",
   "metadata": {},
   "source": [
    "- advmod => adverbial modifier (modificador adverbial)\n",
    "- nsubj => nominal subject (sujeto nominal)\n",
    "- dobj  => direct object (objeto directo)\n",
    "- iobj  => indirect object (objeto indirecto)\n",
    "- nummod => numeric modifier (modificador numeral)\n",
    "- appos => appositional modifier (modificador aposicional)\n",
    "- nmod => nominal modifier (modificador nominal)\n",
    "\n",
    "(...)\n",
    "\n",
    "<center><img src=\"ud.png\" width=\"600\"/></center>\n",
    "\n",
    "\n",
    "Más información:\n",
    "- https://universaldependencies.org/u/dep/\n",
    "- https://nlp.stanford.edu/pubs/USD_LREC14_paper_camera_ready.pdf\n",
    "\n",
    "### Objetivo: Representacion compatible entre diferentes lenguajes"
   ]
  },
  {
   "attachments": {},
   "cell_type": "markdown",
   "metadata": {},
   "source": [
    "## Representación de los textos"
   ]
  },
  {
   "attachments": {},
   "cell_type": "markdown",
   "metadata": {},
   "source": [
    "### Texto base "
   ]
  },
  {
   "cell_type": "code",
   "execution_count": 2,
   "metadata": {},
   "outputs": [
    {
     "name": "stdout",
     "output_type": "stream",
     "text": [
      "1\n",
      "En el texto, la autora habla de lo que son las bellísimas personas. Las define como gente que se\n",
      "calla lo que piensa por no discutir, por no crear discordia. Ella vivió rodeada por bellísimas\n",
      "personas, más ella no se considera parte de ellas. No tiene miedo de morderse la lengua para\n",
      "expresar su opinión. En el texto se pregunta si sería capaz de trabar amistad con gente que tiene\n",
      "ideales opuestos a los suyos, ideales que ella consideraría \"estúpidos\". ¿Sería yo amiga de\n",
      "alguien con ideas distintas a las mías?\n",
      "\n",
      "No viví rodeada de bellísimas personas, como la autora. Mi entorno han sido personas que\n",
      "sabían cuando debían callar y cuando hablar y dar su opinión. Personas que no se callaban lo\n",
      "que pensaban solo para gustar más, caer mejor a la gente o evitar disputas. Personas que van sin\n",
      "filtros, que te dicen las cosas como son. Personas que van con la más cruda verdad por delante,\n",
      "aunque duela, aunque lastime.\n",
      "\n",
      "Me gusta imaginarme que soy una de ellos, pero la presión social hay veces q\n"
     ]
    }
   ],
   "source": [
    "file_path = \"/home/droca1/Treebanks/corpus-eusebio.txt\"\n",
    "data_file = open(file_path, \"r\")\n",
    "data = data_file.read()\n",
    "\n",
    "print(data[:1000])"
   ]
  },
  {
   "attachments": {},
   "cell_type": "markdown",
   "metadata": {},
   "source": [
    "### Representacion de dependencias"
   ]
  },
  {
   "attachments": {},
   "cell_type": "markdown",
   "metadata": {},
   "source": [
    "<center><img src=\"demo.png\" width=\"1200\"/></center>"
   ]
  },
  {
   "attachments": {},
   "cell_type": "markdown",
   "metadata": {},
   "source": [
    "### Representacion para el ordenador (Universal Dependencies formato CONLL-U)"
   ]
  },
  {
   "cell_type": "code",
   "execution_count": 5,
   "metadata": {},
   "outputs": [
    {
     "name": "stdout",
     "output_type": "stream",
     "text": [
      "# text = En el texto , la autora habla de lo que son las bellísimas personas .\n",
      "1\tEn\t_\t_\t_\t_\t3\tcase\t_\t_\n",
      "2\tel\t_\t_\t_\t_\t3\tdet\t_\t_\n",
      "3\ttexto\t_\t_\t_\t_\t7\tobl\t_\t_\n",
      "4\t,\t_\t_\t_\t_\t3\tpunct\t_\t_\n",
      "5\tla\t_\t_\t_\t_\t6\tdet\t_\t_\n",
      "6\tautora\t_\t_\t_\t_\t7\tnsubj\t_\t_\n",
      "7\thabla\t_\t_\t_\t_\t0\troot\t_\t_\n",
      "8\tde\t_\t_\t_\t_\t14\tmark\t_\t_\n",
      "9\tlo\t_\t_\t_\t_\t14\tdet\t_\t_\n",
      "10\tque\t_\t_\t_\t_\t14\tnsubj\t_\t_\n",
      "11\tson\t_\t_\t_\t_\t14\tcop\t_\t_\n",
      "12\tlas\t_\t_\t_\t_\t14\tdet\t_\t_\n",
      "13\tbellísimas\t_\t_\t_\t_\t14\tamod\t_\t_\n",
      "14\tpersonas\t_\t_\t_\t_\t7\tccomp\t_\t_\n",
      "15\t.\t_\t_\t_\t_\t7\tpunct\t_\t_\n"
     ]
    }
   ],
   "source": [
    "conllu_file_path = \"./demo.conllu\"\n",
    "conllu_file = open(conllu_file_path, \"r\")\n",
    "\n",
    "# read until the first empty line\n",
    "conllu = conllu_file.read()\n",
    "conllu = conllu.split(\"\\n\\n\")\n",
    "conllu = conllu[0]\n",
    "\n",
    "print(conllu[:1000])"
   ]
  },
  {
   "attachments": {},
   "cell_type": "markdown",
   "metadata": {},
   "source": [
    "## Como pasar de texto a dependencias?"
   ]
  },
  {
   "attachments": {},
   "cell_type": "markdown",
   "metadata": {},
   "source": [
    "### 1 - Preprocesar las frases\n",
    "- Dejar una linea por frase\n",
    "- Separar los signos de puntuacion de las palabras\n",
    "- Eliminar espacios"
   ]
  },
  {
   "cell_type": "code",
   "execution_count": 33,
   "metadata": {},
   "outputs": [
    {
     "name": "stdout",
     "output_type": "stream",
     "text": [
      "En el texto , la autora habla de lo que son las bellísimas personas .\n",
      "Las define como gente que se calla lo que piensa por no discutir , por no crear discordia .\n",
      "Ella vivió rodeada por bellísimas personas , más ella no se considera parte de ellas .\n",
      "No tiene miedo de morderse la lengua para expresar su opinión .\n",
      "En el texto se pregunta si sería capaz de trabar amistad con gente que tiene ideales opuestos a los suyos , ideales que ella consideraría \" estúpidos \" .\n",
      "¿ Sería yo amiga de alguien con ideas distintas a las mías ?\n",
      "No viví rodeada de bellísimas personas , como la autora .\n",
      "Mi entorno han sido personas que sabían cuando debían callar y cuando hablar y dar su opinión .\n",
      "Personas que no se callaban lo que pensaban solo para gustar más , caer mejor a la gente o evitar disputas .\n",
      "Personas que van sin filtros , que te dicen las cosas como son .\n"
     ]
    }
   ],
   "source": [
    "import re\n",
    "\n",
    "file_path = \"/home/droca1/Treebanks/corpus-eusebio.txt\"\n",
    "data_file = open(file_path, \"r\")\n",
    "data = data_file.read()\n",
    "\n",
    "# remove <number>\\n using regex\n",
    "data = re.sub(r'\\d+\\n', '', data)\n",
    "\n",
    "# remove \\n\n",
    "data = data.replace(\"\\n\", \" \")\n",
    "\n",
    "# split into sentences using regex\n",
    "sentences = re.split(r'(?<!\\w\\.\\w.)(?<![A-Z][a-z]\\.)(?<=\\.|\\?)\\s', data)\n",
    "\n",
    "# sentences = [s + \".\" for s in sentences]\n",
    "sentences = [s.strip() for s in sentences]\n",
    "\n",
    "# close characters\n",
    "punctuation = [\".\", \",\", \";\", \":\", \"!\", \"?\", \"(\", \")\", \"[\", \"]\", \"{\", \"}\", \"”\"]\n",
    "for p in punctuation:\n",
    "    sentences = [s.replace(p, \" \" + p) for s in sentences]\n",
    "\n",
    "# open characters\n",
    "punctuation = [\"¿\", \"¡\", \"“\"]\n",
    "for p in punctuation:\n",
    "    sentences = [s.replace(p, p + \" \") for s in sentences]\n",
    "\n",
    "# bidirectional quotes\n",
    "punctuation = [\"\\\"\", \"'\"]\n",
    "for p in punctuation:\n",
    "    sentences = [s.replace(p, \" \" + p + \" \") for s in sentences]\n",
    "\n",
    "# remove extra spaces\n",
    "sentences = [re.sub(' +', ' ', s) for s in sentences]\n",
    "\n",
    "for s in sentences[:10]:\n",
    "    print(s)\n",
    "\n",
    "# write adding a root token\n",
    "output_file = \"./demo.raw\"\n",
    "with open(output_file, \"w\") as f:\n",
    "    for sent in sentences:\n",
    "        f.write(\"-ROOT- \" + sent + \"\\n\")"
   ]
  },
  {
   "attachments": {},
   "cell_type": "markdown",
   "metadata": {},
   "source": [
    "### 2 - Usar el modelo pre-entrenado para obtener las representaciones intermedias\n",
    "\n",
    "Usar un modelo que haya aprendido las etiquetas que representen una abstracción de las relaciones de dependencia entre palabras para asignarselas a las frases. El modelo ha sido entrenado usando https://universaldependencies.org/treebanks/es_ancora/index.html"
   ]
  },
  {
   "cell_type": "code",
   "execution_count": null,
   "metadata": {},
   "outputs": [],
   "source": [
    "# python ~/machamp/predict.py ./spanish-model/model.pt ./demo.raw ./demo.labels --raw_text"
   ]
  },
  {
   "cell_type": "code",
   "execution_count": 7,
   "metadata": {},
   "outputs": [
    {
     "name": "stdout",
     "output_type": "stream",
     "text": [
      "1\t-ROOT-\t/0\t-NOREL-\t_\t_\t_\t_\t_\t_\n",
      "2\tEn\t<0*\tcase\t_\t_\t_\t_\t_\t_\n",
      "3\tel\t<0\tdet\t_\t_\t_\t_\t_\t_\n",
      "4\ttexto\t\\0/0<0*\tobl\t_\t_\t_\t_\t_\t_\n",
      "5\t,\t>0*\tpunct\t_\t_\t_\t_\t_\t_\n",
      "6\tla\t<0*\tdet\t_\t_\t_\t_\t_\t_\n",
      "7\tautora\t\\0<0\tnsubj\t_\t_\t_\t_\t_\t_\n",
      "8\thabla\t\\0>0*/0\troot\t_\t_\t_\t_\t_\t_\n",
      "9\tde\t<0*\tmark\t_\t_\t_\t_\t_\t_\n",
      "10\tlo\t<0\tdet\t_\t_\t_\t_\t_\t_\n",
      "11\tque\t<0\tnsubj\t_\t_\t_\t_\t_\t_\n",
      "12\tson\t<0\tcop\t_\t_\t_\t_\t_\t_\n",
      "13\tlas\t<0\tdet\t_\t_\t_\t_\t_\t_\n",
      "14\tbellísimas\t<0\tamod\t_\t_\t_\t_\t_\t_\n",
      "15\tpersonas\t\\0>0\tccomp\t_\t_\t_\t_\t_\t_\n",
      "16\t.\t>0*\tpunct\t_\t_\t_\t_\t_\t_\n"
     ]
    }
   ],
   "source": [
    "postprocess_path = \"./demo.labels\"\n",
    "postprocess_file = open(postprocess_path, \"r\")\n",
    "postprocess = postprocess_file.read()\n",
    "# read until empty line\n",
    "postprocess = postprocess.split(\"\\n\\n\")[0]\n",
    "print(postprocess[:1000])"
   ]
  },
  {
   "attachments": {},
   "cell_type": "markdown",
   "metadata": {},
   "source": [
    "### 3- Limpiar las predicciones\n",
    "1. Añadir indicadores de \"principio de frase\"\n",
    "2. Añadir indicadores de \"final de frase\"\n",
    "3. Limpiar otros campos"
   ]
  },
  {
   "cell_type": "code",
   "execution_count": 8,
   "metadata": {},
   "outputs": [
    {
     "name": "stdout",
     "output_type": "stream",
     "text": [
      "-BOS-\t-BOS-\t-BOS-\t-BOS-\t\n",
      "-ROOT-\t_\t/0\t-NOREL-\n",
      "En\t_\t<0*\tcase\n",
      "el\t_\t<0\tdet\n",
      "texto\t_\t\\0/0<0*\tobl\n",
      ",\t_\t>0*\tpunct\n",
      "la\t_\t<0*\tdet\n",
      "autora\t_\t\\0<0\tnsubj\n",
      "habla\t_\t\\0>0*/0\troot\n",
      "de\t_\t<0*\tmark\n",
      "lo\t_\t<0\tdet\n",
      "que\t_\t<0\tnsubj\n",
      "son\t_\t<0\tcop\n",
      "las\t_\t<0\tdet\n",
      "bellísimas\t_\t<0\tamod\n",
      "personas\t_\t\\0>0\tccomp\n",
      ".\t_\t>0*\tpunct\n",
      "-EOS-\t-EOS-\t-EOS-\t-EOS-\t\n"
     ]
    }
   ],
   "source": [
    "\n",
    "postprocess_path = \"./demo_fix.labels\"\n",
    "is_new_sentence = True\n",
    "with open(postprocess_path, \"w\") as f:\n",
    "    for line in open(\"./demo.labels\", \"r\"):\n",
    "        fixed_line = []\n",
    "        \n",
    "        # add bos and eos\n",
    "        if is_new_sentence:\n",
    "            fixed_line.append(4*\"-BOS-\\t\")\n",
    "            is_new_sentence = False\n",
    "            fixed_line = '\\t'.join(fixed_line)\n",
    "            f.write(fixed_line+\"\\n\")\n",
    "        \n",
    "        if line == \"\\n\":\n",
    "            fixed_line.append(4*\"-EOS-\\t\")\n",
    "            is_new_sentence = True\n",
    "            fixed_line = '\\t'.join(fixed_line)\n",
    "            f.write(fixed_line+\"\\n\")\n",
    "            f.write(\"\\n\")\n",
    "            continue\n",
    "\n",
    "        fixed_line = line.split('\\t')[1:4]\n",
    "        fixed_line.insert(1, \"_\")\n",
    "        fixed_line = '\\t'.join(fixed_line)\n",
    "        f.write(fixed_line+\"\\n\")\n",
    "\n",
    "postprocess_path = \"./demo_fix.labels\"\n",
    "postprocess_file = open(postprocess_path, \"r\")\n",
    "postprocess = postprocess_file.read()\n",
    "# read until empty line\n",
    "postprocess = postprocess.split(\"\\n\\n\")[0]\n",
    "print(postprocess[:1000])"
   ]
  },
  {
   "attachments": {},
   "cell_type": "markdown",
   "metadata": {},
   "source": [
    "### 4- Restaurar las relaciones de dependencias desde las abstracciones"
   ]
  },
  {
   "attachments": {},
   "cell_type": "markdown",
   "metadata": {},
   "source": [
    "Esto va a generar un archivo .labels con las representaciones intermedias que abstraen las dependencias del .conllu"
   ]
  },
  {
   "cell_type": "code",
   "execution_count": null,
   "metadata": {},
   "outputs": [],
   "source": [
    "# python ~/CoDeLin/main.py DEPS DEC BRK_7B ./demo_fix.labels ./demo.conllu --multitask"
   ]
  },
  {
   "cell_type": "code",
   "execution_count": 37,
   "metadata": {},
   "outputs": [
    {
     "name": "stdout",
     "output_type": "stream",
     "text": [
      "0\t-ROOT-\t_\t-ROOT-\t_\t_\t0\t-NOREL-\t_\t_\n",
      "1\tEn\t_\t_\t_\t_\t3\tcase\t_\t_\n",
      "2\tel\t_\t_\t_\t_\t3\tdet\t_\t_\n",
      "3\ttexto\t_\t_\t_\t_\t7\tobl\t_\t_\n",
      "4\t,\t_\t_\t_\t_\t3\tpunct\t_\t_\n",
      "5\tla\t_\t_\t_\t_\t6\tdet\t_\t_\n",
      "6\tautora\t_\t_\t_\t_\t7\tnsubj\t_\t_\n",
      "7\thabla\t_\t_\t_\t_\t0\troot\t_\t_\n",
      "8\tde\t_\t_\t_\t_\t14\tmark\t_\t_\n",
      "9\tlo\t_\t_\t_\t_\t14\tdet\t_\t_\n",
      "10\tque\t_\t_\t_\t_\t14\tnsubj\t_\t_\n",
      "11\tson\t_\t_\t_\t_\t14\tcop\t_\t_\n",
      "12\tlas\t_\t_\t_\t_\t14\tdet\t_\t_\n",
      "13\tbellísimas\t_\t_\t_\t_\t14\tamod\t_\t_\n",
      "14\tpersonas\t_\t_\t_\t_\t7\tccomp\t_\t_\n",
      "15\t.\t_\t_\t_\t_\t7\tpunct\t_\t_\n",
      "\n",
      "\n",
      "\\begin{dependency}[theme = simple]\n",
      "\\begin{deptext}[row sep=.25em, column sep=1.5em]\n",
      "0 \\& 1 \\& 2 \\& 3 \\& 4 \\& 5 \\& 6 \\& 7 \\& 8 \\& 9 \\& 10 \\& 11 \\& 12 \\& 13 \\& 14 \\& 15 \\\\ \n",
      "-ROOT- \\& En \\& el \\& texto \\& , \\& la \\& autora \\& habla \\& de \\& lo \\& que \\& son \\& las \\& bellísimas \\& personas \\& . \\\\ \n",
      "\\end{deptext}\n",
      "\\depedge{4}{2}{case}\n",
      "\\depedge{4}{3}{det}\n",
      "\\depedge{8}{4}{obl}\n",
      "\\depedge{4}{5}{punct}\n",
      "\\depedge{7}{6}{det}\n",
      "\\depedge{8}{7}{nsubj}\n",
      "\\depedge{1}{8}{root}\n",
      "\\depedge{15}{9}{mark}\n",
      "\\depedge{15}{10}{det}\n",
      "\\depedge{15}{11}{nsubj}\n",
      "\\depedge{15}{12}{cop}\n",
      "\\depedge{15}{13}{det}\n",
      "\\depedge{15}{14}{amod}\n",
      "\\depedge{8}{15}{ccomp}\n",
      "\\depedge{8}{16}{punct}\n",
      "\\end{dependency}\n",
      "\n"
     ]
    }
   ],
   "source": [
    "from codelin.models.linearized_tree import LinearizedTree\n",
    "from codelin.models.deps_tree import D_Tree\n",
    "\n",
    "# read conllu decoded file\n",
    "conllu_file = \"./demo.conllu\"\n",
    "trees = D_Tree.read_conllu_file(conllu_file)\n",
    "\n",
    "# print sample\n",
    "print(trees[0])\n",
    "print(D_Tree.to_latex(trees[0]))"
   ]
  }
 ],
 "metadata": {
  "kernelspec": {
   "display_name": "tf",
   "language": "python",
   "name": "python3"
  },
  "language_info": {
   "codemirror_mode": {
    "name": "ipython",
    "version": 3
   },
   "file_extension": ".py",
   "mimetype": "text/x-python",
   "name": "python",
   "nbconvert_exporter": "python",
   "pygments_lexer": "ipython3",
   "version": "3.10.9"
  },
  "orig_nbformat": 4
 },
 "nbformat": 4,
 "nbformat_minor": 2
}
