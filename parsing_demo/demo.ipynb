{
 "cells": [
  {
   "attachments": {},
   "cell_type": "markdown",
   "metadata": {},
   "source": [
    "## Parsing demo"
   ]
  },
  {
   "cell_type": "code",
   "execution_count": 33,
   "metadata": {},
   "outputs": [
    {
     "name": "stdout",
     "output_type": "stream",
     "text": [
      "En el texto , la autora habla de lo que son las bellísimas personas .\n",
      "Las define como gente que se calla lo que piensa por no discutir , por no crear discordia .\n",
      "Ella vivió rodeada por bellísimas personas , más ella no se considera parte de ellas .\n",
      "No tiene miedo de morderse la lengua para expresar su opinión .\n",
      "En el texto se pregunta si sería capaz de trabar amistad con gente que tiene ideales opuestos a los suyos , ideales que ella consideraría \" estúpidos \" .\n",
      "¿ Sería yo amiga de alguien con ideas distintas a las mías ?\n",
      "No viví rodeada de bellísimas personas , como la autora .\n",
      "Mi entorno han sido personas que sabían cuando debían callar y cuando hablar y dar su opinión .\n",
      "Personas que no se callaban lo que pensaban solo para gustar más , caer mejor a la gente o evitar disputas .\n",
      "Personas que van sin filtros , que te dicen las cosas como son .\n"
     ]
    }
   ],
   "source": [
    "import re\n",
    "\n",
    "file_path = \"/home/droca1/Treebanks/corpus-eusebio.txt\"\n",
    "data_file = open(file_path, \"r\")\n",
    "data = data_file.read()\n",
    "\n",
    "# remove <number>\\n using regex\n",
    "data = re.sub(r'\\d+\\n', '', data)\n",
    "\n",
    "# remove \\n\n",
    "data = data.replace(\"\\n\", \" \")\n",
    "\n",
    "# split into sentences using regex\n",
    "sentences = re.split(r'(?<!\\w\\.\\w.)(?<![A-Z][a-z]\\.)(?<=\\.|\\?)\\s', data)\n",
    "\n",
    "# sentences = [s + \".\" for s in sentences]\n",
    "sentences = [s.strip() for s in sentences]\n",
    "\n",
    "# close characters\n",
    "punctuation = [\".\", \",\", \";\", \":\", \"!\", \"?\", \"(\", \")\", \"[\", \"]\", \"{\", \"}\", \"”\"]\n",
    "for p in punctuation:\n",
    "    sentences = [s.replace(p, \" \" + p) for s in sentences]\n",
    "\n",
    "# open characters\n",
    "punctuation = [\"¿\", \"¡\", \"“\"]\n",
    "for p in punctuation:\n",
    "    sentences = [s.replace(p, p + \" \") for s in sentences]\n",
    "\n",
    "# bidirectional quotes\n",
    "punctuation = [\"\\\"\", \"'\"]\n",
    "for p in punctuation:\n",
    "    sentences = [s.replace(p, \" \" + p + \" \") for s in sentences]\n",
    "\n",
    "# remove extra spaces\n",
    "sentences = [re.sub(' +', ' ', s) for s in sentences]\n",
    "\n",
    "for s in sentences[:10]:\n",
    "    print(s)\n",
    "\n",
    "# write adding a root token\n",
    "output_file = \"./demo.raw\"\n",
    "with open(output_file, \"w\") as f:\n",
    "    for sent in sentences:\n",
    "        f.write(\"-ROOT- \" + sent + \"\\n\")"
   ]
  },
  {
   "cell_type": "code",
   "execution_count": 34,
   "metadata": {},
   "outputs": [],
   "source": [
    "# python ~/machamp/predict.py ./spanish-model/model.pt ./demo.raw ./demo.labels --raw_text\n",
    "\n",
    "postprocess_path = \"./demo_fix.labels\"\n",
    "is_new_sentence = True\n",
    "with open(postprocess_path, \"w\") as f:\n",
    "    for line in open(\"./demo.labels\", \"r\"):\n",
    "        fixed_line = []\n",
    "        \n",
    "        # add bos and eos\n",
    "        if is_new_sentence:\n",
    "            fixed_line.append(4*\"-BOS-\\t\")\n",
    "            is_new_sentence = False\n",
    "            fixed_line = '\\t'.join(fixed_line)\n",
    "            f.write(fixed_line+\"\\n\")\n",
    "        \n",
    "        if line == \"\\n\":\n",
    "            fixed_line.append(4*\"-EOS-\\t\")\n",
    "            is_new_sentence = True\n",
    "            fixed_line = '\\t'.join(fixed_line)\n",
    "            f.write(fixed_line+\"\\n\")\n",
    "            f.write(\"\\n\")\n",
    "            continue\n",
    "\n",
    "        fixed_line = line.split('\\t')[1:4]\n",
    "        fixed_line.insert(1, \"_\")\n",
    "        fixed_line = '\\t'.join(fixed_line)\n",
    "        f.write(fixed_line+\"\\n\")"
   ]
  },
  {
   "cell_type": "code",
   "execution_count": 37,
   "metadata": {},
   "outputs": [
    {
     "name": "stdout",
     "output_type": "stream",
     "text": [
      "0\t-ROOT-\t_\t-ROOT-\t_\t_\t0\t-NOREL-\t_\t_\n",
      "1\tEn\t_\t_\t_\t_\t3\tcase\t_\t_\n",
      "2\tel\t_\t_\t_\t_\t3\tdet\t_\t_\n",
      "3\ttexto\t_\t_\t_\t_\t7\tobl\t_\t_\n",
      "4\t,\t_\t_\t_\t_\t3\tpunct\t_\t_\n",
      "5\tla\t_\t_\t_\t_\t6\tdet\t_\t_\n",
      "6\tautora\t_\t_\t_\t_\t7\tnsubj\t_\t_\n",
      "7\thabla\t_\t_\t_\t_\t0\troot\t_\t_\n",
      "8\tde\t_\t_\t_\t_\t14\tmark\t_\t_\n",
      "9\tlo\t_\t_\t_\t_\t14\tdet\t_\t_\n",
      "10\tque\t_\t_\t_\t_\t14\tnsubj\t_\t_\n",
      "11\tson\t_\t_\t_\t_\t14\tcop\t_\t_\n",
      "12\tlas\t_\t_\t_\t_\t14\tdet\t_\t_\n",
      "13\tbellísimas\t_\t_\t_\t_\t14\tamod\t_\t_\n",
      "14\tpersonas\t_\t_\t_\t_\t7\tccomp\t_\t_\n",
      "15\t.\t_\t_\t_\t_\t7\tpunct\t_\t_\n",
      "\n",
      "\n",
      "\\begin{dependency}[theme = simple]\n",
      "\\begin{deptext}[row sep=.25em, column sep=1.5em]\n",
      "0 \\& 1 \\& 2 \\& 3 \\& 4 \\& 5 \\& 6 \\& 7 \\& 8 \\& 9 \\& 10 \\& 11 \\& 12 \\& 13 \\& 14 \\& 15 \\\\ \n",
      "-ROOT- \\& En \\& el \\& texto \\& , \\& la \\& autora \\& habla \\& de \\& lo \\& que \\& son \\& las \\& bellísimas \\& personas \\& . \\\\ \n",
      "\\end{deptext}\n",
      "\\depedge{4}{2}{case}\n",
      "\\depedge{4}{3}{det}\n",
      "\\depedge{8}{4}{obl}\n",
      "\\depedge{4}{5}{punct}\n",
      "\\depedge{7}{6}{det}\n",
      "\\depedge{8}{7}{nsubj}\n",
      "\\depedge{1}{8}{root}\n",
      "\\depedge{15}{9}{mark}\n",
      "\\depedge{15}{10}{det}\n",
      "\\depedge{15}{11}{nsubj}\n",
      "\\depedge{15}{12}{cop}\n",
      "\\depedge{15}{13}{det}\n",
      "\\depedge{15}{14}{amod}\n",
      "\\depedge{8}{15}{ccomp}\n",
      "\\depedge{8}{16}{punct}\n",
      "\\end{dependency}\n",
      "\n"
     ]
    }
   ],
   "source": [
    "# python main.py DEPS DEC BRK_7B ./demo_fix.labels ./demo.conllu --multitask\n",
    "\n",
    "from codelin.models.linearized_tree import LinearizedTree\n",
    "from codelin.models.deps_tree import D_Tree\n",
    "\n",
    "# read conllu decoded file\n",
    "conllu_file = \"./demo.conllu\"\n",
    "trees = D_Tree.read_conllu_file(conllu_file)\n",
    "\n",
    "# print sample\n",
    "print(trees[0])\n",
    "print(D_Tree.to_latex(trees[0]))"
   ]
  }
 ],
 "metadata": {
  "kernelspec": {
   "display_name": "tf",
   "language": "python",
   "name": "python3"
  },
  "language_info": {
   "codemirror_mode": {
    "name": "ipython",
    "version": 3
   },
   "file_extension": ".py",
   "mimetype": "text/x-python",
   "name": "python",
   "nbconvert_exporter": "python",
   "pygments_lexer": "ipython3",
   "version": "3.10.9"
  },
  "orig_nbformat": 4
 },
 "nbformat": 4,
 "nbformat_minor": 2
}
