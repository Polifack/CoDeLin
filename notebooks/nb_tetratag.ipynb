{
 "cells": [
  {
   "cell_type": "code",
   "execution_count": 2,
   "metadata": {},
   "outputs": [
    {
     "name": "stdout",
     "output_type": "stream",
     "text": [
      "Original tree: (A (B (P1 w1) (P2 w2)) (C (P3 w3) (D (P4 w4) (P5 w5))) (E (P6 w6)))\n",
      "Decoded tree:  (A (B (P1 w1) (P2 w2)) (C (P3 w3) (D (P4 w4) (P5 w5))) (E (P6 w6)))\n",
      "Original tree: (A (B (P1 w1) (P2 w2)) (C (P3 w3) (D (P4 w4) (P5 w5))) (E (P6 w6)))\n",
      "Decoded tree:  (A (B (P1 w1) (P2 w2)) (C (P3 w3) (D (P4 w4) (P5 w5))) (E (P6 w6)))\n",
      "Original tree: (A (B (P1 w1) (P2 w2)) (C (P3 w3) (D (P4 w4) (P5 w5))) (E (P6 w6)))\n",
      "Decoded tree:  (A (B (P1 w1) (P2 w2)) (C (P3 w3) (D (P4 w4) (P5 w5))) (E (P6 w6)))\n"
     ]
    }
   ],
   "source": [
    "from codelin.models.const_tree import C_Tree\n",
    "from codelin.models.linearized_tree import LinearizedTree\n",
    "from codelin.utils.constants import C_STRAT_FIRST, C_STRAT_MAX\n",
    "from codelin.encs.enc_const import *\n",
    "\n",
    "# original_tree = (\"(S (NP (NNP Agent) (NNP Cooper)) (VP (VBZ loves) (NP (JJ black) (NN coffee))) (PUNCT .))\")\n",
    "# original_tree = (\"(S (NP (NP (JJ Influential) (NNS members)) (PP (IN of) (NP (DT the) (NNP House) (NNP Ways) (CC and) (NNP Means) (NNP Committee)))) (VP (VBD introduced) (NP (NP (NN legislation)) (SBAR (WHNP (WDT that)) (S (VP (MD would) (VP (VB restrict) (SBAR (WHADVP (WRB how)) (S (NP (DT the) (JJ new) (JJ savings-and-loan) (NN bailout) (NN agency)) (VP (MD can) (VP (VB raise) (NP (NN capital)))))) (, ,) (S (VP (VBG creating) (NP (NP (DT another) (JJ potential) (NN obstacle)) (PP (TO to) (NP (NP (NP (DT the) (NN government) (POS 's)) (NN sale)) (PP (IN of) (NP (JJ sick) (NNS thrifts)))))))))))))) (. .))\")\n",
    "original_tree = (\"(A (B (P1 w1) (P2 w2)) (C (P3 w3) (D (P4 w4) (P5 w5))) (E (P6 w6)))\")\n",
    "\n",
    "c_tree = C_Tree.from_string(original_tree)\n",
    "\n",
    "\n",
    "ec_tetratag_inorder = C_Tetratag(separator=\"[_]\", unary_joiner=\"[+]\", mode=\"inorder\", binary_marker=\"[b]\")\n",
    "ec_tetratag_preorder = C_Tetratag(separator=\"[_]\", unary_joiner=\"[+]\", mode=\"preorder\", binary_marker=\"[b]\")\n",
    "ec_tetratag_postorder = C_Tetratag(separator=\"[_]\", unary_joiner=\"[+]\", mode=\"postorder\", binary_marker=\"[b]\")\n",
    "\n",
    "\n",
    "encodings = [ec_tetratag_inorder, ec_tetratag_preorder, ec_tetratag_postorder]\n",
    "\n",
    "for encoding in encodings:\n",
    "    encoded_tree = encoding.encode(c_tree)\n",
    "    decoded_tree = encoding.decode(encoded_tree)\n",
    "    print(f\"Original tree: {c_tree}\")\n",
    "    print(f\"Decoded tree:  {decoded_tree}\")\n",
    "\n",
    "\n",
    "\n"
   ]
  }
 ],
 "metadata": {
  "kernelspec": {
   "display_name": "Python 3",
   "language": "python",
   "name": "python3"
  },
  "language_info": {
   "codemirror_mode": {
    "name": "ipython",
    "version": 3
   },
   "file_extension": ".py",
   "mimetype": "text/x-python",
   "name": "python",
   "nbconvert_exporter": "python",
   "pygments_lexer": "ipython3",
   "version": "3.11.9"
  }
 },
 "nbformat": 4,
 "nbformat_minor": 2
}
