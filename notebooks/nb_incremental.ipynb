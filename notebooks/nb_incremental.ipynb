{
 "cells": [
  {
   "cell_type": "code",
   "execution_count": 7,
   "metadata": {},
   "outputs": [
    {
     "name": "stdout",
     "output_type": "stream",
     "text": [
      "Constituent Naive Absolute Encoding || Incremental: False\n",
      "-BOS-\t-BOS-\t-BOS-\n",
      "w1\tP1\t2[_]B\n",
      "w2\tP2\t1[_]A\n",
      "w3\tP3\t2[_]C\n",
      "w4\tP4\t3[_]D\n",
      "w5\tP5\t1[_]A\n",
      "w6\tP6\t1[_]A[_]E\n",
      "-EOS-\t-EOS-\t-EOS-\n",
      "\n",
      "Constituent Naive Absolute Encoding || Incremental: True\n",
      "-BOS-\t-BOS-\t-BOS-\n",
      "w1\tP1\t1[_]A\n",
      "w2\tP2\t2[_]B\n",
      "w3\tP3\t1[_]A\n",
      "w4\tP4\t2[_]C\n",
      "w5\tP5\t3[_]D\n",
      "w6\tP6\t1[_]A[_]E\n",
      "-EOS-\t-EOS-\t-EOS-\n",
      "\n"
     ]
    }
   ],
   "source": [
    "from codelin.models.const_tree import C_Tree\n",
    "from codelin.models.linearized_tree import LinearizedTree\n",
    "from codelin.utils.constants import C_STRAT_FIRST, C_STRAT_MAX\n",
    "from codelin.encs.enc_const import *\n",
    "\n",
    "original_tree = (\"(A (B (P1 w1) (P2 w2)) (C (P3 w3) (D (P4 w4) (P5 w5))) (E (P6 w6)))\")\n",
    "c_tree = C_Tree.from_string(original_tree)\n",
    "\n",
    "\n",
    "abs_enc = C_NaiveAbsoluteEncoding(separator=\"[_]\", unary_joiner=\"[+]\", binary=False, binary_direction=\"R\", binary_marker=\"[b]\", reverse=False)\n",
    "abs_enc_i = C_NaiveAbsoluteEncoding(separator=\"[_]\", unary_joiner=\"[+]\", binary=False, binary_direction=\"R\", binary_marker=\"[b]\", reverse=True)\n",
    "\n",
    "\n",
    "encodings = [abs_enc, abs_enc_i]\n",
    "\n",
    "for encoding in encodings:\n",
    "    print(str(encoding) + \" || Incremental: \" + str(encoding.reverse))\n",
    "    encoded_tree = encoding.encode(c_tree)\n",
    "    print(encoded_tree)\n",
    "    decoded_tree = encoding.decode(encoded_tree)\n",
    "\n",
    "\n"
   ]
  }
 ],
 "metadata": {
  "kernelspec": {
   "display_name": "Python 3",
   "language": "python",
   "name": "python3"
  },
  "language_info": {
   "codemirror_mode": {
    "name": "ipython",
    "version": 3
   },
   "file_extension": ".py",
   "mimetype": "text/x-python",
   "name": "python",
   "nbconvert_exporter": "python",
   "pygments_lexer": "ipython3",
   "version": "3.11.9"
  }
 },
 "nbformat": 4,
 "nbformat_minor": 2
}
