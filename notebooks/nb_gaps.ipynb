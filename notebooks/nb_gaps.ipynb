{
 "cells": [
  {
   "cell_type": "code",
   "execution_count": 6,
   "metadata": {},
   "outputs": [
    {
     "name": "stdout",
     "output_type": "stream",
     "text": [
      "Original Tree\n",
      "(A (B (P1 w1) (P2 w2)) (C (P3 w3) (E (D (P4 w4) (P5 w5)))) (F (G (P6 w6))))\n",
      "Constituent Gaps Based Encoding R gaps mode close \n",
      "(A (B (P1 w1) (P2 w2)) (C (P3 w3) (E (D (P4 w4) (P5 w5)))) (F (G (P6 w6))))\n",
      "Constituent Gaps Based Encoding L gaps mode close \n",
      "(A (B (P1 w1) (P2 w2)) (C (P3 w3) (E (D (P4 w4) (P5 w5)))) (F (G (P6 w6))))\n",
      "Constituent Gaps Based Encoding R gaps mode open incremental \n",
      "(A (B (P1 w1) (P2 w2)) (C (P3 w3) (E (D (P4 w4) (P5 w5)))) (F (G (P6 w6))))\n",
      "Constituent Gaps Based Encoding L gaps mode open incremental \n",
      "(A (B (P1 w1) (P2 w2)) (C (P3 w3) (E (D (P4 w4) (P5 w5)))) (F (G (P6 w6))))\n"
     ]
    }
   ],
   "source": [
    "import sys\n",
    "sys.path.append('..')\n",
    "\n",
    "from codelin.models.const_tree import C_Tree\n",
    "from codelin.models.linearized_tree import LinearizedTree\n",
    "from codelin.utils.constants import C_STRAT_FIRST, C_STRAT_MAX\n",
    "from codelin.encs.enc_const import *\n",
    "\n",
    "# original_tree = (\"(S (NP (NNP Agent) (NNP Cooper)) (VP (VBZ loves) (NP (JJ black) (NN coffee))) (PUNCT .))\")\n",
    "original_tree = (\"(A (B (P1 w1) (P2 w2)) (C (P3 w3) (E (D (P4 w4) (P5 w5)))) (F (G (P6 w6))))\")\n",
    "c_tree = C_Tree.from_string(original_tree)\n",
    "print(\"Original Tree\")\n",
    "print(c_tree)\n",
    "\n",
    "\n",
    "eg_c_r = C_GapsEncoding(separator=\"_\", unary_joiner=\"+\", binary_direction=\"R\", binary_marker=\"b\", mode=\"close\", reverse=False)\n",
    "eg_c_l = C_GapsEncoding(separator=\"_\", unary_joiner=\"+\", binary_direction=\"L\", binary_marker=\"b\", mode=\"close\", reverse=False)\n",
    "eg_o_r = C_GapsEncoding(separator=\"_\", unary_joiner=\"+\", binary_direction=\"R\", binary_marker=\"b\", mode=\"open\", reverse=True)\n",
    "eg_o_l = C_GapsEncoding(separator=\"_\", unary_joiner=\"+\", binary_direction=\"L\", binary_marker=\"b\", mode=\"open\", reverse=True)\n",
    "\n",
    "encodings = [eg_c_r, eg_c_l, eg_o_r, eg_o_l]\n",
    "\n",
    "for encoding in encodings:\n",
    "    encoding_string = str(encoding)\n",
    "    encoding_string += \" \" + str(encoding.binary_direction)\n",
    "    encoding_string += \" gaps mode \" + str(encoding.mode)\n",
    "    encoding_string += \" incremental \" if encoding.reverse else \" \"\n",
    "    print(encoding_string)\n",
    "    encoded_tree = encoding.encode(c_tree)\n",
    "    decoded_tree = encoding.decode(encoded_tree)\n",
    "    print(decoded_tree)\n",
    "\n",
    "\n",
    "\n"
   ]
  },
  {
   "cell_type": "code",
   "execution_count": 1,
   "metadata": {},
   "outputs": [
    {
     "name": "stdout",
     "output_type": "stream",
     "text": [
      "(S (NP (NP (DT The) (NP (CD 49) (NP (NN stock) (NP (NN specialist) (NNS firms))))) (PP (IN on) (NP (DT the) (NP (NNP Big) (NP (NNP Board) (NN floor)))))) (NP (: --) (NP (NP (NP (DT the) (NP (NNS buyers) (NP (CC and) (NNS sellers)))) (NP (PP (IN of) (NP (JJ last) (NN resort))) (SBAR (WHNP (WP who)) (S[+]VP (VBD were) (VP (VBN criticized) (PP (IN after) (NP (DT the) (NP (CD 1987) (NN crash))))))))) (: --) (RB once))) (RB again))\n"
     ]
    }
   ],
   "source": [
    "import sys\n",
    "sys.path.append('..')\n",
    "\n",
    "from codelin.models.const_tree import C_Tree\n",
    "from codelin.models.linearized_tree import LinearizedTree\n",
    "from codelin.utils.constants import C_STRAT_FIRST, C_STRAT_MAX\n",
    "from codelin.encs.enc_const import *\n",
    "\n",
    "pred_tree=\"(S[b] (NP (NP (DT The) (NP[b] (CD 49) (NP[b] (NN stock) (NP[b] (NN specialist) (NNS firms))))) (PP (IN on) (NP (DT the) (NP[b] (NNP Big) (NP[b] (NNP Board) (NN floor)))))) (NP[b] (: --) (NP[b] (NP (NP (DT the) (NP[b] (NNS buyers) (NP[b] (CC and) (NNS sellers)))) (NP[b] (PP (IN of) (NP (JJ last) (NN resort))) (SBAR (WHNP (WP who)) (S[+]VP (VBD were) (VP (VBN criticized) (PP (IN after) (NP (DT the) (NP[b] (CD 1987) (NN crash))))))))) (: --) (RB once))) (RB again))\"\n",
    "pred_tree = C_Tree.from_string(pred_tree)\n",
    "pred_tree = pred_tree.postprocess_tree()\n",
    "print(pred_tree)"
   ]
  },
  {
   "cell_type": "code",
   "execution_count": null,
   "metadata": {},
   "outputs": [],
   "source": [
    "import sys\n",
    "sys.path.append('..')"
   ]
  }
 ],
 "metadata": {
  "kernelspec": {
   "display_name": "Python 3",
   "language": "python",
   "name": "python3"
  },
  "language_info": {
   "codemirror_mode": {
    "name": "ipython",
    "version": 3
   },
   "file_extension": ".py",
   "mimetype": "text/x-python",
   "name": "python",
   "nbconvert_exporter": "python",
   "pygments_lexer": "ipython3",
   "version": "3.11.9"
  }
 },
 "nbformat": 4,
 "nbformat_minor": 2
}
