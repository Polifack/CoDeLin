{
 "cells": [
  {
   "cell_type": "code",
   "execution_count": 1,
   "metadata": {},
   "outputs": [
    {
     "name": "stdout",
     "output_type": "stream",
     "text": [
      "-BOS-\t-BOS-\t-BOS-\n",
      "w1\tP1\t0[_]an=attach[;]pl=B\n",
      "w2\tP2\t1[_]an=attach\n",
      "w3\tP3\t1[_]an=juxtapose[;]pl=C[;]nl=A\n",
      "w4\tP4\t2[_]an=attach[;]pl=D\n",
      "w5\tP5\t3[_]an=attach\n",
      "w6\tP6\t1[_]an=attach[_]E\n",
      "-EOS-\t-EOS-\t-EOS-\n",
      "\n"
     ]
    }
   ],
   "source": [
    "from codelin.models.const_tree import C_Tree\n",
    "from codelin.models.linearized_tree import LinearizedTree\n",
    "from codelin.utils.constants import C_STRAT_FIRST, C_STRAT_MAX\n",
    "from codelin.encs.enc_const import *\n",
    "\n",
    "# original_tree = (\"(S (NP (NNP Agent) (NNP Cooper)) (VP (VBZ loves) (NP (JJ black) (NN coffee))) (PUNCT .))\")\n",
    "# original_tree = (\"(S (NP (NP (JJ Influential) (NNS members)) (PP (IN of) (NP (DT the) (NNP House) (NNP Ways) (CC and) (NNP Means) (NNP Committee)))) (VP (VBD introduced) (NP (NP (NN legislation)) (SBAR (WHNP (WDT that)) (S (VP (MD would) (VP (VB restrict) (SBAR (WHADVP (WRB how)) (S (NP (DT the) (JJ new) (JJ savings-and-loan) (NN bailout) (NN agency)) (VP (MD can) (VP (VB raise) (NP (NN capital)))))) (, ,) (S (VP (VBG creating) (NP (NP (DT another) (JJ potential) (NN obstacle)) (PP (TO to) (NP (NP (NP (DT the) (NN government) (POS 's)) (NN sale)) (PP (IN of) (NP (JJ sick) (NNS thrifts)))))))))))))) (. .))\")\n",
    "original_tree = (\"(A (B (P1 w1) (P2 w2)) (C (P3 w3) (D (P4 w4) (P5 w5))) (E (P6 w6)))\")\n",
    "\n",
    "c_tree = C_Tree.from_string(original_tree)\n",
    "\n",
    "ec_attach_juxtapose = C_JuxtaposedEncoding(separator=\"[_]\", unary_joiner=\"[+]\", binary=False, binary_direction=\"R\", binary_marker=\"[b]\")\n",
    "encodings = [ec_attach_juxtapose]\n",
    "\n",
    "for encoding in encodings:\n",
    "    encoded_tree = encoding.encode(c_tree)\n",
    "    print(encoded_tree)\n",
    "    decoded_tree = encoding.decode(encoded_tree)\n",
    "\n",
    "\n"
   ]
  }
 ],
 "metadata": {
  "kernelspec": {
   "display_name": "Python 3",
   "language": "python",
   "name": "python3"
  },
  "language_info": {
   "codemirror_mode": {
    "name": "ipython",
    "version": 3
   },
   "file_extension": ".py",
   "mimetype": "text/x-python",
   "name": "python",
   "nbconvert_exporter": "python",
   "pygments_lexer": "ipython3",
   "version": "3.11.9"
  }
 },
 "nbformat": 4,
 "nbformat_minor": 2
}
