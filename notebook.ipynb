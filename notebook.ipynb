{
 "cells": [
  {
   "attachments": {},
   "cell_type": "markdown",
   "metadata": {},
   "source": [
    "# CoDeLin Demo\n",
    "\n",
    "Constituent and Dependency Linearization System usage as a python library."
   ]
  },
  {
   "attachments": {},
   "cell_type": "markdown",
   "metadata": {},
   "source": [
    "## Constituent Parsing Linearization\n",
    "\n",
    "In this example we encode a tree in bracketing format into a sequence of labels using the Naive Absolute Encoding. After that, we decode the labels back into our constituent tree."
   ]
  },
  {
   "cell_type": "code",
   "execution_count": 3,
   "metadata": {},
   "outputs": [
    {
     "name": "stdout",
     "output_type": "stream",
     "text": [
      "\n",
      "[*] Original tree:\n",
      "(S (NP (DT The) (NNS owls)) (VP (VBP are) (RB not) (SBAR (WHNP (WP what)) (S (NP (PRP they)) (VP (VBP seem))))) (PUNCT .))\n",
      "\n",
      "[*] Encoding:\n",
      "Constituent Naive Absolute Encoding\n",
      "\n",
      "[*] Linearized tree:\n",
      "-BOS-\t-BOS-\t-BOS-\n",
      "The\tDT\t2_NP\n",
      "owls\tNNS\t1_S\n",
      "are\tVBP\t2_VP\n",
      "not\tRB\t2_VP\n",
      "what\tWP\t3_SBAR_WHNP\n",
      "they\tPRP\t4_S_NP\n",
      "seem\tVBP\t1_S_VP\n",
      ".\tPUNCT\t1_S\n",
      "-EOS-\t-EOS-\t-EOS-\n",
      "\n",
      "\n",
      "[*] Decoded tree:\n",
      "(S (NP (DT The) (NNS owls)) (VP (VBP are) (RB not) (SBAR (WHNP (WP what)) (S (NP (PRP they)) (VP (VBP seem))))) (PUNCT .))\n"
     ]
    }
   ],
   "source": [
    "from src.models.const_tree import C_Tree\n",
    "from src.utils.constants import C_STRAT_FIRST\n",
    "from src.encs.enc_const import *\n",
    "\n",
    "print(\"\\n[*] Original tree:\")\n",
    "original_tree = \"(S (NP (DT The) (NNS owls)) (VP (VBP are) (RB not) (SBAR (WHNP (WP what)) (S (NP (PRP they)) (VP (VBP seem))))) (PUNCT .))\"\n",
    "c_tree = C_Tree.from_string(original_tree)\n",
    "print(c_tree)\n",
    "\n",
    "print(\"\\n[*] Encoding:\")\n",
    "encoder = C_NaiveAbsoluteEncoding(separator=\"_\", unary_joiner=\"+\")\n",
    "print(encoder)\n",
    "\n",
    "print(\"\\n[*] Linearized tree:\")\n",
    "lc_tree = encoder.encode(c_tree)\n",
    "print(lc_tree)\n",
    "\n",
    "print(\"\\n[*] Decoded tree:\")\n",
    "c_tree = encoder.decode(lc_tree)\n",
    "c_tree.postprocess_tree(conflict_strat=C_STRAT_FIRST,clean_nulls=True)\n",
    "print(c_tree)"
   ]
  },
  {
   "attachments": {},
   "cell_type": "markdown",
   "metadata": {},
   "source": [
    "The following example deals with constituent trees with features embedded on the part of speech tags using Dynamic Encoding. The sample sentence is extracted from the SPMRL German treebank."
   ]
  },
  {
   "cell_type": "code",
   "execution_count": 2,
   "metadata": {},
   "outputs": [
    {
     "name": "stdout",
     "output_type": "stream",
     "text": [
      "\n",
      "[*] Original tree:\n",
      "(PP (APPR-AC##lem=in|_## IM) (NN-NK##lem=Blick|case=dat|number=sg|gender=masc## BLICK))\n",
      "\n",
      "[*] Encoding:\n",
      "Constituent Naive Dynamic Encoding\n",
      "\n",
      "[*] Linearized tree:\n",
      "4\n",
      "-BOS-\t-BOS-\t-BOS-\t-BOS-\t-BOS-\t-BOS-\t-BOS-\t-BOS-\n",
      "IM\tAPPR-AC\tin\t_\t_\t_\t_\t1*_PP\n",
      "BLICK\tNN-NK\tBlick\tdat\tsg\tmasc\t_\t0*_PP\n",
      "-EOS-\t-EOS-\t-EOS-\t-EOS-\t-EOS-\t-EOS-\t-EOS-\t-EOS-\n",
      "\n",
      "\n",
      "[*] Decoded tree:\n",
      "(PP (APPR-AC IM) (NN-NK BLICK))\n"
     ]
    }
   ],
   "source": [
    "print(\"\\n[*] Original tree:\")\n",
    "original_tree = \"(PP (APPR-AC##lem=in|_## IM) (NN-NK##lem=Blick|case=dat|number=sg|gender=masc## BLICK))\"\n",
    "f_idx_dict={\"lem\":0,\"case\":1,\"number\":2,\"gender\":3}\n",
    "\n",
    "c_tree = C_Tree.from_string(original_tree)\n",
    "print(c_tree)\n",
    "\n",
    "print(\"\\n[*] Encoding:\")\n",
    "encoder = C_NaiveDynamicEncoding(separator=\"_\", unary_joiner=\"+\")\n",
    "print(encoder)\n",
    "\n",
    "print(\"\\n[*] Linearized tree:\")\n",
    "lc_tree = encoder.encode(c_tree)\n",
    "print(lc_tree.n)\n",
    "print(lc_tree.to_string(f_idx_dict))\n",
    "\n",
    "print(\"\\n[*] Decoded tree:\")\n",
    "c_tree = encoder.decode(lc_tree)\n",
    "c_tree.postprocess_tree(conflict_strat=C_STRAT_FIRST,clean_nulls=True)\n",
    "print(c_tree)"
   ]
  },
  {
   "attachments": {},
   "cell_type": "markdown",
   "metadata": {},
   "source": [
    "The following block of code will run all the available encodings for CoDeLin."
   ]
  },
  {
   "cell_type": "code",
   "execution_count": 6,
   "metadata": {},
   "outputs": [
    {
     "name": "stdout",
     "output_type": "stream",
     "text": [
      "\n",
      "[*] Original tree:\n",
      "(S (NP (DT The) (NNS owls)) (VP (VBP are) (RB not) (SBAR (WHNP (WP what)) (S (NP (PRP they)) (VP (VBP seem))))) (PUNCT .))\n",
      "\n",
      "[*] Linearized tree with Absolute Encoding:\n",
      "-BOS-\t-BOS-\t-BOS-\n",
      "The\tDT\t2_NP\n",
      "owls\tNNS\t1_S\n",
      "are\tVBP\t2_VP\n",
      "not\tRB\t2_VP\n",
      "what\tWP\t3_SBAR_WHNP\n",
      "they\tPRP\t4_S_NP\n",
      "seem\tVBP\t1_S_VP\n",
      ".\tPUNCT\t1_S\n",
      "-EOS-\t-EOS-\t-EOS-\n",
      "\n",
      "\n",
      "[*] Linearized tree with Relative Encoding:\n",
      "-BOS-\t-BOS-\t-BOS-\n",
      "The\tDT\t2_NP\n",
      "owls\tNNS\t1_S\n",
      "are\tVBP\t2_VP\n",
      "not\tRB\t2_VP\n",
      "what\tWP\t3_SBAR_WHNP\n",
      "they\tPRP\t4_S_NP\n",
      "seem\tVBP\t1_S_VP\n",
      ".\tPUNCT\t1_S\n",
      "-EOS-\t-EOS-\t-EOS-\n",
      "\n",
      "\n",
      "[*] Linearized tree with Dynamic Encoding:\n",
      "-BOS-\t-BOS-\t-BOS-\n",
      "The\tDT\t2_NP\n",
      "owls\tNNS\t1_S\n",
      "are\tVBP\t2_VP\n",
      "not\tRB\t2_VP\n",
      "what\tWP\t3_SBAR_WHNP\n",
      "they\tPRP\t4_S_NP\n",
      "seem\tVBP\t1_S_VP\n",
      ".\tPUNCT\t1_S\n",
      "-EOS-\t-EOS-\t-EOS-\n",
      "\n",
      "\n",
      "[*] Linearized tree with Incremental Encoding:\n",
      "-BOS-\t-BOS-\t-BOS-\n",
      "The\tDT\t2_NP\n",
      "owls\tNNS\t1_S\n",
      "are\tVBP\t2_VP\n",
      "not\tRB\t2_VP\n",
      "what\tWP\t3_SBAR_WHNP\n",
      "they\tPRP\t4_S_NP\n",
      "seem\tVBP\t1_S_VP\n",
      ".\tPUNCT\t1_S\n",
      "-EOS-\t-EOS-\t-EOS-\n",
      "\n"
     ]
    }
   ],
   "source": [
    "print(\"\\n[*] Original tree:\")\n",
    "original_tree = \"(S (NP (DT The) (NNS owls)) (VP (VBP are) (RB not) (SBAR (WHNP (WP what)) (S (NP (PRP they)) (VP (VBP seem))))) (PUNCT .))\"\n",
    "c_tree = C_Tree.from_string(original_tree)\n",
    "print(c_tree)\n",
    "\n",
    "print(\"\\n[*] Linearized tree with Absolute Encoding:\")\n",
    "a_encoder = C_NaiveAbsoluteEncoding(separator=\"_\", unary_joiner=\"+\")\n",
    "a_lc_tree = encoder.encode(c_tree)\n",
    "print(a_lc_tree)\n",
    "\n",
    "print(\"\\n[*] Linearized tree with Relative Encoding:\")\n",
    "r_encoder = C_NaiveRelativeEncoding(separator=\"_\", unary_joiner=\"+\")\n",
    "r_lc_tree = encoder.encode(c_tree)\n",
    "print(r_lc_tree)\n",
    "\n",
    "print(\"\\n[*] Linearized tree with Dynamic Encoding:\")\n",
    "d_encoder = C_NaiveDynamicEncoding(separator=\"_\", unary_joiner=\"+\")\n",
    "d_lc_tree = encoder.encode(c_tree)\n",
    "print(d_lc_tree)\n",
    "\n",
    "print(\"\\n[*] Linearized tree with Incremental Encoding:\")\n",
    "i_encoder = C_NaiveIncrementalEncoding(separator=\"_\", unary_joiner=\"+\")\n",
    "i_lc_tree = encoder.encode(c_tree)\n",
    "print(i_lc_tree)"
   ]
  }
 ],
 "metadata": {
  "kernelspec": {
   "display_name": "tf",
   "language": "python",
   "name": "python3"
  },
  "language_info": {
   "codemirror_mode": {
    "name": "ipython",
    "version": 3
   },
   "file_extension": ".py",
   "mimetype": "text/x-python",
   "name": "python",
   "nbconvert_exporter": "python",
   "pygments_lexer": "ipython3",
   "version": "3.10.9"
  },
  "orig_nbformat": 4,
  "vscode": {
   "interpreter": {
    "hash": "6cfa9136a6dd62194a07e3de69c680f647f4acccfc6f18ef0b3fb404551b0b99"
   }
  }
 },
 "nbformat": 4,
 "nbformat_minor": 2
}
