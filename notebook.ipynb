{
 "cells": [
  {
   "cell_type": "code",
   "execution_count": 3,
   "metadata": {},
   "outputs": [],
   "source": [
    "from nltk.tree import Tree"
   ]
  },
  {
   "cell_type": "code",
   "execution_count": 4,
   "metadata": {},
   "outputs": [
    {
     "name": "stdout",
     "output_type": "stream",
     "text": [
      "                  S                          \n",
      "      ____________|_______________________    \n",
      "     |                VP                  |  \n",
      "     |         _______|____               |   \n",
      "     |        |   |       SBAR            |  \n",
      "     |        |   |    ____|____          |   \n",
      "     |        |   |   |         S         |  \n",
      "     |        |   |   |     ____|___      |   \n",
      "     NP       |   |  WHNP  NP       VP    |  \n",
      "  ___|___     |   |   |    |        |     |   \n",
      " DT     NNS  VBP  RB  WP  PRP      VBP  PUNCT\n",
      " |       |    |   |   |    |        |     |   \n",
      "The     owls are not what they     seem   .  \n",
      "\n"
     ]
    }
   ],
   "source": [
    "tree_string = '(S (NP (DT The) (NNS owls)) (VP (VBP are) (RB not) (SBAR (WHNP (WP what)) (S (NP (PRP they)) (VP (VBP seem))))) (PUNCT .))'\n",
    "tree = Tree.fromstring(tree_string)\n",
    "tree.pretty_print()"
   ]
  },
  {
   "attachments": {},
   "cell_type": "markdown",
   "metadata": {},
   "source": [
    "Naive absolute encodes the number of commons between words w<sub>i</sub> and w<sub>i+1</sub>. This number is in the label associated to w<sub>i</sub>."
   ]
  },
  {
   "cell_type": "code",
   "execution_count": 5,
   "metadata": {},
   "outputs": [
    {
     "name": "stdout",
     "output_type": "stream",
     "text": [
      "Word 'The' has 2 common ancestors with his next word. The last common ancestor is NP\n",
      "Word 'owls' has 1 common ancestors with his next word. The last common ancestor is S\n",
      "Word 'are' has 2 common ancestors with his next word. The last common ancestor is VP\n",
      "Word 'not' has 2 common ancestors with his next word. The last common ancestor is VP\n",
      "Word 'what' has 3 common ancestors with his next word. The last common ancestor is SBAR\n",
      "Word 'they' has 4 common ancestors with his next word. The last common ancestor is S\n",
      "Word 'seem' has 1 common ancestors with his next word. The last common ancestor is S\n",
      "Word '.' has 1 common ancestors with his next word. The last common ancestor is S\n"
     ]
    }
   ],
   "source": [
    "from src.encs.enc_const.naive_absolute import C_NaiveAbsoluteEncoding\n",
    "from src.models.const_tree import ConstituentTree\n",
    "\n",
    "encoder = C_NaiveAbsoluteEncoding(separator=\"_\", unary_joiner=\"+\")\n",
    "constituent_tree = ConstituentTree.from_string(tree_string)\n",
    "w, p, l, f = encoder.encode(constituent_tree)\n",
    "\n",
    "for i in range(len(w)):\n",
    "    n, lc = l[i].n_commons, l[i].last_common\n",
    "    print(\"Word '{}' has {} common ancestors with his next word. The last common ancestor is {}\".format(w[i], n, lc))\n"
   ]
  },
  {
   "attachments": {},
   "cell_type": "markdown",
   "metadata": {},
   "source": [
    "We want to encode in the word w<sub>i</sub> the number of commons between word w<sub>i-1</sub> and w<sub>i</sub>."
   ]
  },
  {
   "attachments": {},
   "cell_type": "markdown",
   "metadata": {},
   "source": [
    "```\n",
    "Word 'The' has 1 common ancestors with his previous word. The last common ancestor is S.\n",
    "Word 'owls' has 2 common ancestors with his previous word. The last common ancestor is NP.\n",
    "Word 'are' has 1 common ancestors with his previous word. The last common ancestor is S.\n",
    "Word 'not' has 2 common ancestors with his previous word. The last common ancestor is VP.\n",
    "Word 'what' has 2 common ancestors with his previous word. The last common ancestor is VP.\n",
    "Word 'they' has 3 common ancestors with his previous word. The last common ancestor is SBAR.\n",
    "Word 'seem' has 4 common ancestors with his previous word. The last common ancestor is S.\n",
    "Word '.' has 1 common ancestors with his previous word. The last common ancestor is S.\n",
    "(...)\n",
    "```\n"
   ]
  },
  {
   "attachments": {},
   "cell_type": "markdown",
   "metadata": {},
   "source": [
    "As we will have the whole tree during the decoding process, we could also reverse the order of the linearized tree rows and implement decoding backwards."
   ]
  },
  {
   "cell_type": "code",
   "execution_count": 8,
   "metadata": {},
   "outputs": [
    {
     "name": "stdout",
     "output_type": "stream",
     "text": [
      "\n",
      ">> Original Tree\n",
      "                  S                          \n",
      "      ____________|_______________________    \n",
      "     |                VP                  |  \n",
      "     |         _______|____               |   \n",
      "     |        |   |       SBAR            |  \n",
      "     |        |   |    ____|____          |   \n",
      "     |        |   |   |         S         |  \n",
      "     |        |   |   |     ____|___      |   \n",
      "     NP       |   |  WHNP  NP       VP    |  \n",
      "  ___|___     |   |   |    |        |     |   \n",
      " DT     NNS  VBP  RB  WP  PRP      VBP  PUNCT\n",
      " |       |    |   |   |    |        |     |   \n",
      "The     owls are not what they     seem   .  \n",
      "\n",
      "\n",
      ">> Linearized Tree\n",
      "\n"
     ]
    },
    {
     "ename": "AttributeError",
     "evalue": "'ConstituentLabel' object has no attribute 'split'",
     "output_type": "error",
     "traceback": [
      "\u001b[0;31m---------------------------------------------------------------------------\u001b[0m",
      "\u001b[0;31mAttributeError\u001b[0m                            Traceback (most recent call last)",
      "Cell \u001b[0;32mIn[8], line 18\u001b[0m\n\u001b[1;32m     16\u001b[0m \u001b[39mfor\u001b[39;00m line \u001b[39min\u001b[39;00m linearized_tree:\n\u001b[1;32m     17\u001b[0m     w, p, l \u001b[39m=\u001b[39m line\n\u001b[0;32m---> 18\u001b[0m     nc, lc \u001b[39m=\u001b[39m l\u001b[39m.\u001b[39;49msplit(\u001b[39m\"\u001b[39m\u001b[39m_\u001b[39m\u001b[39m\"\u001b[39m)\n\u001b[1;32m     19\u001b[0m decoded_tree \u001b[39m=\u001b[39m incr_enc\u001b[39m.\u001b[39mdecode(linearized_tree)\n\u001b[1;32m     20\u001b[0m decoded_tree\u001b[39m.\u001b[39mpostprocess_tree(conflict_strat\u001b[39m=\u001b[39mC_STRAT_MAX, clean_nulls\u001b[39m=\u001b[39m\u001b[39mTrue\u001b[39;00m)\n",
      "\u001b[0;31mAttributeError\u001b[0m: 'ConstituentLabel' object has no attribute 'split'"
     ]
    }
   ],
   "source": [
    "from src.utils.constants import C_STRAT_MAX\n",
    "from src.encs.enc_const.naive_incremental import C_NaiveIncrementalEncoding\n",
    "tree_string = '(S (NP (DT The) (NNS owls)) (VP (VBP are) (RB not) (SBAR (WHNP (WP what)) (S (NP (PRP they)) (VP (VBP seem))))) (PUNCT .))'\n",
    "tree = Tree.fromstring(tree_string)\n",
    "\n",
    "print(\"\\n>> Original Tree\")\n",
    "tree.pretty_print()\n",
    "\n",
    "incr_enc = C_NaiveIncrementalEncoding(separator=\"_\", unary_joiner=\"+\")\n",
    "constituent_tree = ConstituentTree.from_string(tree_string)\n",
    "\n",
    "w, p, l, f = incr_enc.encode(constituent_tree)\n",
    "linearized_tree = [(wi, pi, li) for wi, pi, li, fi in zip(w, p, l, f)]\n",
    "\n",
    "print(\"\\n>> Linearized Tree\\n\")\n",
    "for line in linearized_tree:\n",
    "    w, p, l = line\n",
    "    nc, lc = l.n_commons, l.last_common\n",
    "    print(\"Word '{}' has {} common ancestors with his next word. The last common ancestor is {}\".format(w, nc, lc))\n",
    "decoded_tree = incr_enc.decode(linearized_tree)\n",
    "decoded_tree.postprocess_tree(conflict_strat=C_STRAT_MAX, clean_nulls=True)\n",
    "tree = Tree.fromstring(str(decoded_tree))\n",
    "\n",
    "print(\"\\n>> Decoded Tree\")\n",
    "tree.pretty_print()"
   ]
  }
 ],
 "metadata": {
  "kernelspec": {
   "display_name": "tf",
   "language": "python",
   "name": "python3"
  },
  "language_info": {
   "codemirror_mode": {
    "name": "ipython",
    "version": 3
   },
   "file_extension": ".py",
   "mimetype": "text/x-python",
   "name": "python",
   "nbconvert_exporter": "python",
   "pygments_lexer": "ipython3",
   "version": "3.10.9"
  },
  "orig_nbformat": 4,
  "vscode": {
   "interpreter": {
    "hash": "6cfa9136a6dd62194a07e3de69c680f647f4acccfc6f18ef0b3fb404551b0b99"
   }
  }
 },
 "nbformat": 4,
 "nbformat_minor": 2
}
