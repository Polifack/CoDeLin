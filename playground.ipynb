{
 "cells": [
  {
   "cell_type": "code",
   "execution_count": 2,
   "metadata": {},
   "outputs": [],
   "source": [
    "from codelin.models.const_tree import C_Tree\n",
    "from codelin.encs.constituent import *\n",
    "from codelin.utils.constants import *\n",
    "from codelin.models.linearized_tree import LinearizedTree\n",
    "from codelin.models.const_label import C_Label\n",
    "from nltk.tree import Tree\n",
    "from nltk.treetransforms import collapse_unary\n",
    "\n",
    "import pandas as pd\n",
    "import os\n",
    "import re\n",
    "import copy\n",
    "\n",
    "def pt(t, d=True):\n",
    "    '''\n",
    "    Print tree if d is True\n",
    "    '''\n",
    "    if d:\n",
    "        if type(t) is list:\n",
    "            for i in t:\n",
    "                print(i)\n",
    "            for i in t:\n",
    "                Tree.fromstring(str(i)).pretty_print()\n",
    "        else:\n",
    "            Tree.fromstring(str(t)).pretty_print()\n",
    "\n",
    "def pb(ts, dir=\"r\"):\n",
    "    '''\n",
    "    Print binary tree\n",
    "    '''\n",
    "    t = C_Tree.from_string(str(ts))\n",
    "    t = t.collapse_unary()\n",
    "    \n",
    "    if dir == \"r\":\n",
    "        t = C_Tree.to_binary_right(t)\n",
    "    elif dir == \"l\":\n",
    "        t = C_Tree.to_binary_left(t)\n",
    "    else:\n",
    "        raise ValueError(\"dir must be 'r' or 'l'\")\n",
    "    \n",
    "    Tree.fromstring(str(t)).pretty_print()\n",
    "\n",
    "def debug_print(st, dt, lt):\n",
    "    print(\"Error unmatch at\")\n",
    "    print(st)\n",
    "    print(dt)\n",
    "    print(\"With linearization\")\n",
    "    print(lt)\n",
    "\n",
    "\n",
    "def clean_features(t):\n",
    "    '''\n",
    "    remove all characters between ## in all the nodes of the tree\n",
    "    '''\n",
    "    regex = re.compile(r'##.*?##')\n",
    "    label = regex.sub('', t.label)\n",
    "    children = [clean_features(c) for c in t.children]\n",
    "    return C_Tree(label, children)\n",
    "\n",
    "##\n",
    "# store trees that gave problems \n",
    "##\n",
    "\n",
    "# genia\n",
    "g01 = \"(ROOT (NONE The) (NONE 4-carboranyl-substituted) (NONE compounds) (NONE -LRB-) (NONE 7) (NONE , ) (NONE 11) (NONE -RRB-) (NONE showed) (NONE antagonistic) (NONE activity) (NONE but) (NONE no) (NONE agonistic) (NONE activity) (NONE even) (NONE in) (NONE the) (NONE presence) (NONE of) (NONE the) (NONE potent) (NONE synergist) (NONE HX630) (NONE .))\"\n",
    "g02 = \"(ROOT (NONE In) (NONE parallel) (NONE ,) (NONE NAC) (NONE was) (NONE shown) (NONE to) (NONE down-regulate) (NONE the) (NONE production) (NONE of) (protein (NONE cytokines)) (NONE by) (cell_type (NONE DC)) (NONE as) (NONE well) (NONE as) (NONE their) (NONE surface) (NONE expression) (NONE of) (protein (NONE HLA-DR)) (NONE ,) (protein (NONE CD86)) (NONE -LRB-) (protein (NONE B7-2)) (NONE -RRB-) (NONE ,) (NONE and) (protein (NONE CD40) (NONE molecules)) (NONE both) (NONE at) (NONE the) (NONE basal) (NONE state) (NONE and) (NONE upon) (NONE LPS) (NONE activation) (NONE .))\"\n",
    "g03 = \"(ROOT (NONE The) (RNA (protein (NONE MNDA)) (NONE mRNA)) (NONE level) (NONE in) (cell_type (NONE primary) (NONE granulocytes)) (NONE was) (NONE unaffected) (NONE by) (NONE addition) (NONE of) (protein (NONE interferon) (NONE alpha)) (NONE and) (NONE other) (NONE agents) (NONE including) (protein (NONE interferon) (NONE gamma)) (NONE ,) (protein (NONE endotoxin)) (NONE ,) (protein (NONE poly-LRB-I-RRB-) (NONE poly-LRB-C-RRB-)) (NONE ,) (NONE and) (protein (NONE FMLP)) (NONE .))\"\n",
    "g04 = \"(ROOT (NONE The) (NONE expression) (NONE of) (NONE c-fos) (NONE ,) (NONE c-jun) (NONE and) (NONE jun) (NONE B) (NONE proto-oncogenes) (NONE was) (NONE studied) (NONE in) (cell_line (protein (NONE phytohemagglutinin)) (NONE -LRB-) (protein (NONE PHA)) (NONE -RRB-) (NONE activated) (NONE peripheral) (NONE blood) (NONE lymphocytes)) (NONE -LRB-) (cell_type (NONE PBL)) (NONE -RRB-) (NONE from) (NONE young) (NONE and) (NONE aged) (NONE humans) (NONE .))\"\n",
    "g05 = \"(ROOT (cell_line (NONE E2) (NONE -stimulated) (NONE ER+) (NONE cells)) (NONE were) (NONE more) (NONE susceptible) (NONE to) (NONE lysis) (NONE by) (cell_type (NONE LAK) (NONE cells)) (NONE than) (NONE corresponding) (cell_line (NONE TAM) (NONE -treated)) (NONE or) (cell_type (NONE control) (NONE cells)) (NONE ,) (NONE while) (NONE treatment) (NONE of) (cell_line (NONE ER-cells)) (NONE with) (NONE either) (NONE E2) (NONE or) (NONE TAM) (NONE alone) (NONE did) (NONE not) (NONE alter) (NONE from) (NONE control) (NONE their) (NONE susceptibility) (NONE to) (NONE this) (NONE immune-mediated) (NONE lysis) (NONE .))\"\n",
    "# ptb\n",
    "p01 = \"(S (S (NP (JJ Big) (NN investment) (NNS banks)) (VP (VBD refused) (S (VP (TO to) (VP (VB step) (ADVP (RB up) (PP (TO to) (NP (DT the) (NN plate)))) (S (VP (TO to) (VP (VB support) (NP (DT the) (JJ beleaguered) (NN floor) (NNS traders)) (PP (IN by) (S (VP (VBG buying) (NP (NP (JJ big) (NNS blocks)) (PP (IN of) (NP (NN stock))))))))))))))) (, ,) (NP (NNS traders)) (VP (VBP say)) (. .))\"\n",
    "p02 = \"(SINV (S (ADVP (RB Once) (RB again)) (-LRB- -LCB-) (NP (DT the) (NNS specialists)) (-RRB- -RCB-) (VP (VBD were) (RB not) (ADJP (JJ able) (S (VP (TO to) (VP (VB handle) (NP (NP (DT the) (NNS imbalances)) (PP (IN on) (NP (NP (DT the) (NN floor)) (PP (IN of) (NP (DT the) (NNP New) (NNP York) (NNP Stock) (NNP Exchange)))))))))))) (, ,) ('' '') (VP (VBD said)) (NP (NP (NNP Christopher) (NNP Pedersen)) (, ,) (NP (NP (JJ senior) (NN vice) (NN president)) (PP (IN at) (NP (NNP Twenty-First) (NNP Securities) (NNP Corp))))) (. .))\"\n",
    "p03 = \"(S (NP (NP (NNP Seven) (NNP Big) (NNP Board) (NNS stocks)) (: --) (NP (NP (NNP UAL)) (, ,) (NP (NNP AMR)) (, ,) (NP (NNP BankAmerica)) (, ,) (NP (NNP Walt) (NNP Disney)) (, ,) (NP (NNP Capital) (NNP Cities\\/ABC)) (, ,) (NP (NNP Philip) (NNP Morris)) (CC and) (NP (NNP Pacific) (NNP Telesis) (NNP Group))) (: --)) (VP (VP (VBD stopped) (S (VP (NN trading)))) (CC and) (VP (ADVP (RB never)) (VBD resumed))) (. .))\"\n",
    "p04 = \"(S (S (NP (JJ Big) (NN investment) (NNS banks)) (VP (VBD refused) (S (VP (TO to) (VP (VB step) (ADVP (RB up) (PP (TO to) (NP (DT the) (NN plate)))) (S (VP (TO to) (VP (VB support) (NP (DT the) (JJ beleaguered) (NN floor) (NNS traders)) (PP (IN by) (S (VP (VBG buying) (NP (NP (JJ big) (NNS blocks)) (PP (IN of) (NP (NN stock))))))))))))))) (, ,) (NP (NNS traders)) (VP (VBP say)) (. .))\"\n",
    "p05 = \"(FRAG (SBAR (IN As) (IN in) (: :) (`` ``) (SQ (NP (PRP You)) (VP (VBD went) (NP (VBG ballooning))) (. ?) (. ?) (. !) (. !))))\"\n",
    "p06 = \"(NP (NP (NN Year)) (VP (VBN ended) (NP (NNP Dec.) (CD 31) (, ,) (CD 1988))) (X (NN !)))\"\n",
    "p07 = \"(S (INTJ (RB No)) (, ,) (NP (PRP it)) (VP (VBD was) (RB n't) (NP (NNP Black) (NNP Monday))) (. .))\"\n",
    "p08 = \"(S (NP (DT The) (JJ finger-pointing)) (VP (VBZ has) (ADVP (RB already)) (VP (VBN begun))) (. .))\"\n",
    "p09 = \"(S (`` ``) (NP (DT The) (NN equity) (NN market)) (VP (VBD was) (ADJP (JJ illiquid))) (. .))\"\n",
    "p10 = \"(S (PP (IN In) (NP (NP (DT an) (NNP Oct.) (CD 19) (NN review)) (PP (IN of) (NP (`` ``) (NP (DT The) (NN Misanthrope)) ('' '') (PP (IN at) (NP (NP (NNP Chicago) (POS 's)) (NNP Goodman) (NNP Theatre))))) (PRN (-LRB- -LRB-) (`` ``) (S (NP (JJ Revitalized) (NNS Classics)) (VP (VBP Take) (NP (DT the) (NNP Stage)) (PP (IN in) (NP (NNP Windy) (NNP City))))) (, ,) ('' '') (NP (NNP Leisure) (CC &) (NNP Arts)) (-RRB- -RRB-)))) (, ,) (NP (NP (NP (DT the) (NN role)) (PP (IN of) (NP (NNP Celimene)))) (, ,) (VP (VBN played) (PP (IN by) (NP (NNP Kim) (NNP Cattrall)))) (, ,)) (VP (VBD was) (VP (ADVP (RB mistakenly)) (VBN attributed) (PP (TO to) (NP (NNP Christina) (NNP Haag))))) (. .))\"\n",
    "p11 = \"(NP (NNP Conrail))\"\n",
    "p12 = \"(S (NP (NP (RB Not) (PDT all) (DT those)) (SBAR (WHNP (WP who)) (S (VP (VBD wrote))))) (VP (VBP oppose) (NP (DT the) (NNS changes))) (. .))\"\n",
    "p13 = \"(SINV (S (NP (DT The) (NNS changes)) (VP (VBD were) (VP (VBN proposed) (PP (IN in) (NP (DT an) (NN effort) (S (VP (TO to) (VP (VP (VB streamline) (NP (JJ federal) (NN bureaucracy))) (CC and) (VP (NN boost) (NP (NP (NN compliance)) (PP (IN by) (NP (NP (DT the) (NNS executives)) (`` ``) (SBAR (WHNP (WP who)) (S (VP (VBP are) (ADVP (RB really)) (VP (VBG calling) (NP (DT the) (NNS shots)))))))))))))))))) (, ,) ('' '') (VP (VBD said)) (NP (NP (NNP Brian) (NNP Lane)) (, ,) (NP (NP (JJ special) (NN counsel)) (PP (IN at) (NP (NP (NP (NP (DT the) (NNP SEC) (POS 's)) (NN office)) (PP (IN of) (NP (NN disclosure) (NN policy)))) (, ,) (SBAR (WHNP (WDT which)) (S (VP (VBD proposed) (NP (DT the) (NNS changes))))))))) (. .))\"\n",
    "p14 = \"(S (PP (IN In) (NP (NP (DT an) (NNP Oct.) (CD 19) (NN review)) (PP (IN of) (NP (`` ``) (NP (DT The) (NN Misanthrope)) ('' '') (PP (IN at) (NP (NP (NNP Chicago) (POS 's)) (NNP Goodman) (NNP Theatre))))) (PRN (-LRB- -LRB-) (`` ``) (S (NP (JJ Revitalized) (NNS Classics)) (VP (VBP Take) (NP (DT the) (NNP Stage)) (PP (IN in) (NP (NNP Windy) (NNP City))))) (, ,) ('' '') (NP (NNP Leisure) (CC &) (NNP Arts)) (-RRB- -RRB-)))) (, ,) (NP (NP (NP (DT the) (NN role)) (PP (IN of) (NP (NNP Celimene)))) (, ,) (VP (VBN played) (PP (IN by) (NP (NNP Kim) (NNP Cattrall)))) (, ,)) (VP (VBD was) (VP (ADVP (RB mistakenly)) (VBN attributed) (PP (TO to) (NP (NNP Christina) (NNP Haag))))) (. .))\"\n",
    "p15 = \"(S (NP (DT The) (NN luxury) (NN auto) (NN maker)) (NP (JJ last) (NN year)) (VP (VBD sold) (NP (CD 1,214) (NNS cars)) (PP (IN in) (NP (DT the) (NNP U.S.)))))\"\n",
    "\n",
    "# spmrl\n",
    "s01 = \"(VROOT (PN (NE-PNC##lem=Grand|case=*|number=*|gender=*## GRAND) (NE-PNC##lem=Rapids|case=nom|number=sg|gender=neut## RAPIDS)) ($,##lem=--|_## ,) (NP (ADJA-NK##lem=3.|case=nom|number=sg|gender=masc|degree=pos## 3.) (NN-NK##lem=Januar|case=nom|number=sg|gender=masc## Januar)) ($LRB##lem=--|_## -LRB-) (NE##lem=afp|case=nom|number=sg|gender=*## afp) ($LRB##lem=--|_## -RRB-) ($.##lem=--|_## .))\"\n",
    "s02 = \"(VROOT (S (PP-MO (APPR-AC##lem=in|_## In) (ART-NK##lem=der|case=dat|number=pl|gender=*## den) (NE-NK##lem=USA|case=dat|number=pl|gender=*## USA)) (VAFIN-HD##lem=haben|number=sg|person=3|tense=pres|mood=ind## hat) (PRF-OA##lem=sich|case=acc|number=sg|person=3## sich) (NP-SB (ART-NK##lem=ein|case=nom|number=sg|gender=neut## ein) (AP-NK (NP-AMS (CARD-NK##lem=neun|_## neun) (NN-NK##lem=Jahr|case=acc|number=pl|gender=neut## Jahre)) (ADJA-HD##lem=alt|case=nom|number=sg|gender=neut|degree=pos## altes)) (NN-NK##lem=Mädchen|case=nom|number=sg|gender=neut## Mädchen)) (CVP-OC (VP-CJ (ADJD-MO##lem=erfolgreich|degree=pos## erfolgreich) (PP-MO (APPR-AC##lem=als|_## als) (NN-NK##lem=Geburtshelferin|case=nom|number=sg|gender=fem## Geburtshelferin)) (VVPP-HD##lem=betätigen|_## betätigt)) (KON-CD##lem=und|_## und) (VP-CJ (VVPP-HD##lem=helfen|_## geholfen)))) ($,##lem=--|_## ,) (VP-OC (NP-OA (PPOSAT-NK##lem=sein|case=acc|number=sg|gender=masc## seinen) (ADJA-NK##lem=klein|case=acc|number=sg|gender=masc|degree=pos## kleinen) (NN-NK##lem=Bruder|case=acc|number=sg|gender=masc## Bruder)) (PP-MO (APPRART-AC##lem=zu|case=dat|number=sg|gender=fem## zur) (NN-NK##lem=Welt|case=dat|number=sg|gender=fem## Welt)) (VZ-HD (PTKZU-PM##lem=zu|_## zu) (VVINF-HD##lem=bringen|_## bringen))) ($.##lem=--|_## .))\"\n",
    "s03 = \"(NE##lem=USA|case=nom|number=pl|gender=*## USA)\"\n",
    "s04 = \"(VROOT (S (NP-SB (ART-NK##lem=der|case=nom|number=sg|gender=neut## Das) (NN-NK##lem=Ministerium|case=nom|number=sg|gender=neut## Ministerium)) (VAFIN-HD##lem=haben|number=sg|person=3|tense=pres|mood=ind## hat) (NP-OA (AVP-MO (ADV-HD##lem=nur|_## nur) (ADV-MO##lem=noch|_## noch)) (ART-NK##lem=der|case=acc|number=sg|gender=fem## die) (NN-NK##lem=Fachaufsicht|case=acc|number=sg|gender=fem## Fachaufsicht))) ($.##lem=--|_## .))\""
   ]
  },
  {
   "attachments": {},
   "cell_type": "markdown",
   "metadata": {},
   "source": [
    "### Get depth of a tree"
   ]
  },
  {
   "cell_type": "code",
   "execution_count": 3,
   "metadata": {},
   "outputs": [
    {
     "name": "stdout",
     "output_type": "stream",
     "text": [
      "                   S                               \n",
      "      _____________|___                             \n",
      "     |                 VP                          \n",
      "     |          _______|_______                     \n",
      "     |         |   |           VP                  \n",
      "     |         |   |    _______|___                 \n",
      "     |         |   |   |          to-P             \n",
      "     |         |   |   |    _______|____            \n",
      "     NP        |   |   |   |            VP         \n",
      "  ___|____     |   |   |   |        ____|_____      \n",
      "The     child did not try  to     eat      anything\n",
      "\n",
      "The tree has branching:  {'L': 20.0, 'R': 80.0}\n",
      "The tree has a 20.0 % of left branching\n",
      "The tree has a 80.0 % of right branching\n"
     ]
    }
   ],
   "source": [
    "from codelin.models.const_tree import C_Tree\n",
    "\n",
    "t01 = \"(ROOT (A a) (B b) (C c))\"\n",
    "t02 = \"(ROOT (A a) (B b) (C c) (D d))\"\n",
    "t03 = \"(ROOT (A a) (NT1 (B b) (C c) (NT2 (D d) (E e))))\"\n",
    "t04 = \"(S (NP (D The) (N child)) (VP (V did) (Neg not) (VP (V try) (to-P (P to) (VP (V eat) (N anything))))))\"\n",
    "\n",
    "t_str = t04\n",
    "tree = C_Tree.from_string(t_str)\n",
    "# collapse postags?\n",
    "tree = tree.collapse_unary(\"+\")\n",
    "tree = tree.remove_preterminals()\n",
    "branching = tree.branching()\n",
    "pt(tree)\n",
    "print(\"The tree has branching: \", branching)\n",
    "print(\"The tree has a {} % of left branching\".format(branching[\"L\"]))\n",
    "print(\"The tree has a {} % of right branching\".format(branching[\"R\"]))"
   ]
  },
  {
   "attachments": {},
   "cell_type": "markdown",
   "metadata": {},
   "source": [
    "### Some encodings"
   ]
  },
  {
   "cell_type": "code",
   "execution_count": 3,
   "metadata": {},
   "outputs": [
    {
     "name": "stdout",
     "output_type": "stream",
     "text": [
      "               S                  \n",
      "      _________|________________   \n",
      "     |              VP          | \n",
      "     |          ____|_____      |  \n",
      "     NP        |          NP    | \n",
      "  ___|___      |          |     |  \n",
      "NNP     NNP   VBZ        NNP    . \n",
      " |       |     |          |     |  \n",
      "Ms.     Haag plays     Elianti  . \n",
      "\n",
      "None\n",
      "(S -NONE- (VP (NNP Ms.)))\n",
      "---\n",
      "(VP (NNP Ms.) (NNP Haag))\n",
      "(S -NONE- (VP (NNP Ms.) (NNP Haag)))\n",
      "---\n",
      "None\n",
      "(S -NONE- (S (VP (NNP Ms.) (NNP Haag)) (VP (VBZ plays))))\n",
      "---\n",
      "(VP (VBZ plays) (NP (NNP Elianti)))\n",
      "(S -NONE- (S (VP (NNP Ms.) (NNP Haag)) (VP (VBZ plays) (NP (NNP Elianti)))))\n",
      "---\n",
      "(S (VP (NNP Ms.) (NNP Haag)) (VP (VBZ plays) (NP (NNP Elianti))) (. .))\n",
      "(S -NONE- (S (VP (NNP Ms.) (NNP Haag)) (VP (VBZ plays) (NP (NNP Elianti))) (. .)))\n",
      "---\n",
      "-NONE-\n"
     ]
    },
    {
     "ename": "ValueError",
     "evalue": "Tree.read(): expected '(' but got '-NONE-'\n            at index 0.\n                \"-NONE-\"\n                 ^",
     "output_type": "error",
     "traceback": [
      "\u001b[0;31m---------------------------------------------------------------------------\u001b[0m",
      "\u001b[0;31mValueError\u001b[0m                                Traceback (most recent call last)",
      "Cell \u001b[0;32mIn[3], line 27\u001b[0m\n\u001b[1;32m     25\u001b[0m dt \u001b[39m=\u001b[39m gaps_encoder\u001b[39m.\u001b[39mdecode(lt)\n\u001b[1;32m     26\u001b[0m \u001b[39mprint\u001b[39m(dt)\n\u001b[0;32m---> 27\u001b[0m pt(dt)\n",
      "Cell \u001b[0;32mIn[1], line 25\u001b[0m, in \u001b[0;36mpt\u001b[0;34m(t, d)\u001b[0m\n\u001b[1;32m     23\u001b[0m         Tree\u001b[39m.\u001b[39mfromstring(\u001b[39mstr\u001b[39m(i))\u001b[39m.\u001b[39mpretty_print()\n\u001b[1;32m     24\u001b[0m \u001b[39melse\u001b[39;00m:\n\u001b[0;32m---> 25\u001b[0m     Tree\u001b[39m.\u001b[39;49mfromstring(\u001b[39mstr\u001b[39;49m(t))\u001b[39m.\u001b[39mpretty_print()\n",
      "File \u001b[0;32m~/.conda/envs/tf/lib/python3.10/site-packages/nltk/tree/tree.py:680\u001b[0m, in \u001b[0;36mTree.fromstring\u001b[0;34m(cls, s, brackets, read_node, read_leaf, node_pattern, leaf_pattern, remove_empty_top_bracketing)\u001b[0m\n\u001b[1;32m    677\u001b[0m \u001b[39m# Leaf node\u001b[39;00m\n\u001b[1;32m    678\u001b[0m \u001b[39melse\u001b[39;00m:\n\u001b[1;32m    679\u001b[0m     \u001b[39mif\u001b[39;00m \u001b[39mlen\u001b[39m(stack) \u001b[39m==\u001b[39m \u001b[39m1\u001b[39m:\n\u001b[0;32m--> 680\u001b[0m         \u001b[39mcls\u001b[39;49m\u001b[39m.\u001b[39;49m_parse_error(s, match, open_b)\n\u001b[1;32m    681\u001b[0m     \u001b[39mif\u001b[39;00m read_leaf \u001b[39mis\u001b[39;00m \u001b[39mnot\u001b[39;00m \u001b[39mNone\u001b[39;00m:\n\u001b[1;32m    682\u001b[0m         token \u001b[39m=\u001b[39m read_leaf(token)\n",
      "File \u001b[0;32m~/.conda/envs/tf/lib/python3.10/site-packages/nltk/tree/tree.py:731\u001b[0m, in \u001b[0;36mTree._parse_error\u001b[0;34m(cls, s, match, expecting)\u001b[0m\n\u001b[1;32m    729\u001b[0m     offset \u001b[39m=\u001b[39m \u001b[39m13\u001b[39m\n\u001b[1;32m    730\u001b[0m msg \u001b[39m+\u001b[39m\u001b[39m=\u001b[39m \u001b[39m'\u001b[39m\u001b[39m\\n\u001b[39;00m\u001b[39m{}\u001b[39;00m\u001b[39m\"\u001b[39m\u001b[39m{}\u001b[39;00m\u001b[39m\"\u001b[39m\u001b[39m\\n\u001b[39;00m\u001b[39m{}\u001b[39;00m\u001b[39m^\u001b[39m\u001b[39m'\u001b[39m\u001b[39m.\u001b[39mformat(\u001b[39m\"\u001b[39m\u001b[39m \u001b[39m\u001b[39m\"\u001b[39m \u001b[39m*\u001b[39m \u001b[39m16\u001b[39m, s, \u001b[39m\"\u001b[39m\u001b[39m \u001b[39m\u001b[39m\"\u001b[39m \u001b[39m*\u001b[39m (\u001b[39m17\u001b[39m \u001b[39m+\u001b[39m offset))\n\u001b[0;32m--> 731\u001b[0m \u001b[39mraise\u001b[39;00m \u001b[39mValueError\u001b[39;00m(msg)\n",
      "\u001b[0;31mValueError\u001b[0m: Tree.read(): expected '(' but got '-NONE-'\n            at index 0.\n                \"-NONE-\"\n                 ^"
     ]
    }
   ],
   "source": [
    "# lin_tree\n",
    "# l01 = \"-BOS-\t-BOS-\t-BOS-\\n\\\n",
    "# Ms.\tNNP\t0[_]an=attach[;]pl=NP\\n\\\n",
    "# Haag\tNNP\t1[_]an=attach\\n\\\n",
    "# plays\tVBZ\t1[_]an=juxtapose[;]pl=VP[;]nl=S\\n\\\n",
    "# Elianti\tNNP\t2[_]an=attach[_]NP\\n\\\n",
    "# .\t.\t1[_]an=attach\\n\\\n",
    "# -EOS-\t-EOS-\t-EOS-\"\n",
    "\n",
    "l01 = \"-BOS-\t-BOS-\t-BOS-\\n\\\n",
    "Ms.\tNNP\t1[_]an=juxtapose[;]pl=VP[;]nl=S\\n\\\n",
    "Haag\tNNP\t1[_]an=attach\\n\\\n",
    "plays\tVBZ\t1[_]an=juxtapose[;]pl=VP[;]nl=S\\n\\\n",
    "Elianti\tNNP\t2[_]an=attach[_]NP\\n\\\n",
    ".\t.\t1[_]an=attach\\n\\\n",
    "-EOS-\t-EOS-\t-EOS-\"\n",
    "\n",
    "# juxtaposed labels:\n",
    "# (target-node-depth, action, parent-label, new-label)\n",
    "\n",
    "gold_tree = \"(S (NP (NNP Ms.) (NNP Haag)) (VP (VBZ plays) (NP (NNP Elianti))) (. .))\"\n",
    "pt(gold_tree)\n",
    "gaps_encoder = C_JuxtaposedEncoding(separator=\"[_]\", unary_joiner=\"[+]\", binary=False, binary_direction=\"R\", binary_marker=\"[b]\")\n",
    "lt = LinearizedTree.from_string(l01, mode=\"CONST\", separator=\"[_]\", unary_joiner=\"[+]\")\n",
    "dt = gaps_encoder.decode(lt)\n",
    "print(dt)\n",
    "pt(dt)"
   ]
  },
  {
   "cell_type": "code",
   "execution_count": null,
   "metadata": {},
   "outputs": [
    {
     "name": "stdout",
     "output_type": "stream",
     "text": [
      "(S (PP (IN In) (NP (NP (DT an) (NNP Oct.) (CD 19) (NN review)) (PP (IN of) (NP (`` ``) (NP (DT The) (NN Misanthrope)) ('' '') (PP (IN at) (NP (NP (NNP Chicago) (POS 's)) (NNP Goodman) (NNP Theatre))))) (PRN (-LRB- -LRB-) (`` ``) (S (NP (JJ Revitalized) (NNS Classics)) (VP (VBP Take) (NP (DT the) (NNP Stage)) (PP (IN in) (NP (NNP Windy) (NNP City))))) (, ,) ('' '') (NP (NNP Leisure) (CC &) (NNP Arts)) (-RRB- -RRB-)))) (, ,) (NP (NP (NP (DT the) (NN role)) (PP (IN of) (NP (NNP Celimene)))) (, ,) (VP (VBN played) (PP (IN by) (NP (NNP Kim) (NNP Cattrall)))) (, ,)) (VP (VBD was) (VP (ADVP (RB mistakenly)) (VBN attributed) (PP (TO to) (NP (NNP Christina) (NNP Haag))))) (. .))\n",
      "(S (NP (NNP Ms.) (NNP Haag)) (VP (VBZ plays) (NP (NNP Elianti))) (. .))\n",
      "(S (NP (NNP Rolls-Royce) (NNP Motor) (NNPS Cars) (NNP Inc.)) (VP (VBD said) (SBAR (S (NP (PRP it)) (VP (VBZ expects) (S (NP (PRP$ its) (NNP U.S.) (NNS sales)) (VP (TO to) (VP (VB remain) (ADJP (JJ steady)) (PP (IN at) (NP (QP (IN about) (CD 1,200)) (NNS cars))) (PP (IN in) (NP (CD 1990)))))))))) (. .))\n"
     ]
    }
   ],
   "source": [
    "gaps_encoder = C_JuxtaposedEncoding(separator=\"[_]\", unary_joiner=\"[+]\", binary=False, binary_direction=\"R\", binary_marker=\"[b]\")\n",
    "\n",
    "treebank_path = \"/home/poli/Treebanks/const/PENN_TREEBANK/train.trees\"\n",
    "sample_trees = open(treebank_path).readlines()\n",
    "label_set = set()\n",
    "for idx, ts in enumerate(sample_trees):\n",
    "    ts = ts.rstrip()\n",
    "    print(ts)\n",
    "    ts = C_Tree.from_string(ts)\n",
    "    lc = gaps_encoder.encode(ts)\n",
    "    dt = gaps_encoder.decode(lc)\n",
    "    assert str(ts)==str(dt), f\"Error at {idx}\\n{lc}\\n{ts}\\n{dt}\""
   ]
  },
  {
   "cell_type": "code",
   "execution_count": null,
   "metadata": {},
   "outputs": [
    {
     "name": "stdout",
     "output_type": "stream",
     "text": [
      "                                        S                                       \n",
      "             ___________________________|__________                              \n",
      "            |                                      S*                           \n",
      "            |                        ______________|________                     \n",
      "            |                       |                       VP                  \n",
      "            |                       |         ______________|____                \n",
      "            NP                      |        |                  VP*             \n",
      "  __________|___                    |        |           ________|___            \n",
      " |             NP*                  |        |          |            PP         \n",
      " |     _________|____               |        |          |         ___|___        \n",
      " |    |             NP*             NP       |          NP       |       NP     \n",
      " |    |          ____|____      ____|___     |      ____|___     |    ___|___    \n",
      " DT   NN        NN        NN   JJ       NN  VBD    CD      NNS   IN  DT     NNP \n",
      " |    |         |         |    |        |    |     |        |    |   |       |   \n",
      "The luxury     auto     maker last     year sold 1,214     cars  in the     U.S.\n",
      "\n",
      "-BOS-\t-BOS-\t-BOS-\n",
      "The\tDT\tr[_]-NONE-\n",
      "luxury\tNN\tl[_]-NONE-\n",
      "auto\tNN\tRl[_]NP[b]\n",
      "maker\tNN\tRl[_]NP[b]\n",
      "last\tJJ\tRr[_]NP\n",
      "year\tNN\tl[_]-NONE-\n",
      "sold\tVBD\tLRr[_]NP>S[b]\n",
      "1,214\tCD\tr[_]-NONE-\n",
      "cars\tNNS\tl[_]-NONE-\n",
      "in\tIN\tLRr[_]NP>VP[b]\n",
      "the\tDT\tr[_]-NONE-\n",
      "U.S.\tNNP\tlLLLR[_]-NONE->NP>PP>VP>S\n",
      "-EOS-\t-EOS-\t-EOS-\n",
      "\n"
     ]
    }
   ],
   "source": [
    "tetra_encoder = C_Tetratag(separator=\"[_]\", unary_joiner=\"[+]\", mode=\"postorder\", binary_marker=\"[b]\")\n",
    "# treebank_path = \"/home/droca1/Treebanks/const/PENN_TREEBANK/train.trees\"\n",
    "# sample_trees = open(treebank_path).readlines()\n",
    "sample_trees = [p15]\n",
    "label_set = set()\n",
    "for idx, ts in enumerate(sample_trees):\n",
    "    ts = ts.rstrip()\n",
    "    pb(ts)\n",
    "    ts = C_Tree.from_string(ts)\n",
    "    lc = tetra_encoder.encode(ts)\n",
    "    print(lc)\n",
    "    dt = tetra_encoder.decode(lc)\n",
    "    assert str(ts)==str(dt), f\"Error at {idx}\\n{lc}\\n{ts}\\n{dt}\"\n"
   ]
  },
  {
   "attachments": {},
   "cell_type": "markdown",
   "metadata": {},
   "source": [
    "### NER2Trees\n"
   ]
  },
  {
   "cell_type": "code",
   "execution_count": null,
   "metadata": {},
   "outputs": [
    {
     "name": "stdout",
     "output_type": "stream",
     "text": [
      "                                                                                                                                                         ROOT                                                                                                                                              \n",
      "  ________________________________________________________________________________________________________________________________________________________|_____________________________________________________________________________________________________________________________________________    \n",
      " |      |     |         |         |      |      |    |    |      |      |     |             |              |       |        |       |              |             |       |       |    |       |       |    |                                        DNA                    |    |    |         |        |  \n",
      " |      |     |         |         |      |      |    |    |      |      |     |             |              |       |        |       |              |             |       |       |    |       |       |    |                                   ______|________________     |    |    |         |        |   \n",
      " |      |     |         |         |      |      |    |    |      |      |     |             |              |       |        |       |              |             |       |       |    |       |       |    |                               protein                    |    |    |    |         |        |  \n",
      " |      |     |         |         |      |      |    |    |      |      |     |             |              |       |        |       |              |             |       |       |    |       |       |    |                                  |                       |    |    |    |         |        |   \n",
      " |      |     |         |         |      |      |    |    |      |      |     |             |              |       |        |       |              |             |       |       |    |       |       |    |                               protein                    |    |    |    |         |        |  \n",
      " |      |     |         |         |      |      |    |    |      |      |     |             |              |       |        |       |              |             |       |       |    |       |       |    |            ______________________|__________________     |    |    |    |         |        |   \n",
      " |      |     |      protein      |   protein   |    |    |      |      |     |         cell_type          |       |        |       |           protein          |    protein    |    |       |       |    |        protein            |      |      |     |     |    |    |    |    |         |        |  \n",
      " |      |     |         |         |      |      |    |    |      |      |     |      _______|_______       |       |        |       |       _______|______       |       |       |    |       |       |    |     ______|_______        |      |      |     |     |    |    |    |    |         |        |   \n",
      "NONE   NONE  NONE      NONE      NONE   NONE   NONE NONE NONE   NONE   NONE  NONE  NONE            NONE   NONE    NONE     NONE    NONE   NONE    NONE   NONE   NONE    NONE    NONE NONE    NONE    NONE NONE NONE           NONE    NONE   NONE   NONE  NONE  NONE NONE NONE NONE NONE      NONE     NONE\n",
      " |      |     |         |         |      |      |    |    |      |      |     |     |               |      |       |        |       |      |       |      |      |       |       |    |       |       |    |    |              |       |      |      |     |     |    |    |    |    |         |        |   \n",
      "The  binding  of  interleukin-2 -LRB-   IL-2  -RRB-  to  its  receptor  on  normal  T             cells induces nuclear expression  of  nuclear  factor kappaB -LRB- NF-kappaB -RRB-  ,   activation  of  the  IL-2         receptor -LRB-  IL-2R  -RRB- alpha chain gene  ,   and  cell proliferation  .  \n",
      "\n"
     ]
    }
   ],
   "source": [
    "from ner2trees import *\n",
    "\n",
    "g01j = '{\"tokens\": [\"The\",\"binding\",\"of\",\"interleukin-2\",\"(\",\"IL-2\",\")\",\"to\",\"its\",\"receptor\",\"on\",\"normal\",\"T\",\"cells\",\"induces\",\"nuclear\",\"expression\",\"of\",\"nuclear\",\"factor\",\"kappaB\",\"(\",\"NF-kappaB\",\")\",\",\",\"activation\",\"of\",\"the\",\"IL-2\",\"receptor\",\"(\",\"IL-2R\",\")\",\"alpha\",\"chain\",\"gene\",\",\",\"and\",\"cell\",\"proliferation\",\".\"],\"doc_id\": \"MEDLINE:98281217\",\"sent_id\": \"MEDLINE:98281217-1\",\"entity_mentions\": [{\"start\": 3,\"end\": 4,\"entity_type\": \"protein\",\"text\": \"interleukin-2\"},{\"start\": 5,\"end\": 6,\"entity_type\": \"protein\",\"text\": \"IL-2\"},{\"start\": 12,\"end\": 14,\"entity_type\": \"cell_type\",\"text\": \"T cells\"},{\"start\": 18,\"end\": 21,\"entity_type\": \"protein\",\"text\": \"nuclear factor kappaB\"},{\"start\": 22,\"end\": 23,\"entity_type\": \"protein\",\"text\": \"NF-kappaB\"},{\"start\": 28,\"end\": 29,\"entity_type\": \"protein\",\"text\": \"IL-2\"},{\"start\": 28,\"end\": 30,\"entity_type\": \"protein\",\"text\": \"IL-2 receptor\"},{\"start\": 28,\"end\": 35,\"entity_type\": \"protein\",\"text\": \"IL-2 receptor ( IL-2R ) alpha chain\"},{\"start\": 28,\"end\": 36,\"entity_type\": \"DNA\",\"text\": \"IL-2 receptor ( IL-2R ) alpha chain gene\"}]}'\n",
    "\n",
    "line = g01j\n",
    "s = json.loads(line)\n",
    "words, postags, entities = s['tokens'], [\"NONE\"]*len(s['tokens']), parse_entities(s['entity_mentions'], len(s['tokens']),  extractor=parse_genia) \n",
    "t = entities_to_tree(words, postags, entities)\n",
    "t.clean_tree()\n",
    "Tree.fromstring(str(t)).pretty_print()"
   ]
  }
 ],
 "metadata": {
  "kernelspec": {
   "display_name": "tf",
   "language": "python",
   "name": "python3"
  },
  "language_info": {
   "codemirror_mode": {
    "name": "ipython",
    "version": 3
   },
   "file_extension": ".py",
   "mimetype": "text/x-python",
   "name": "python",
   "nbconvert_exporter": "python",
   "pygments_lexer": "ipython3",
   "version": "3.10.9"
  },
  "orig_nbformat": 4
 },
 "nbformat": 4,
 "nbformat_minor": 2
}
