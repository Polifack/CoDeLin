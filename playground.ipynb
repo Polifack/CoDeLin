{
 "cells": [
  {
   "cell_type": "code",
   "execution_count": 1,
   "metadata": {},
   "outputs": [
    {
     "name": "stderr",
     "output_type": "stream",
     "text": [
      "/home/droca1/.conda/envs/tf/lib/python3.10/site-packages/tqdm/auto.py:21: TqdmWarning: IProgress not found. Please update jupyter and ipywidgets. See https://ipywidgets.readthedocs.io/en/stable/user_install.html\n",
      "  from .autonotebook import tqdm as notebook_tqdm\n"
     ]
    }
   ],
   "source": [
    "from codelin.models.const_tree import C_Tree\n",
    "from codelin.encs.constituent import *\n",
    "from codelin.utils.constants import *\n",
    "from codelin.models.linearized_tree import LinearizedTree\n",
    "from codelin.models.const_label import C_Label\n",
    "from nltk.tree import Tree\n",
    "from nltk.treetransforms import collapse_unary\n",
    "\n",
    "import pandas as pd\n",
    "import os\n",
    "import re\n",
    "import copy\n",
    "\n",
    "def pt(t, d=True):\n",
    "    '''\n",
    "    Print tree if d is True\n",
    "    '''\n",
    "    if d:\n",
    "        if type(t) is list:\n",
    "            for i in t:\n",
    "                print(i)\n",
    "            for i in t:\n",
    "                Tree.fromstring(str(i)).pretty_print()\n",
    "        else:\n",
    "            Tree.fromstring(str(t)).pretty_print()\n",
    "\n",
    "def pb(ts, dir=\"r\"):\n",
    "    '''\n",
    "    Print binary tree\n",
    "    '''\n",
    "    t = C_Tree.from_string(str(ts))\n",
    "    t = t.collapse_unary()\n",
    "    \n",
    "    if dir == \"r\":\n",
    "        t = C_Tree.to_binary_right(t)\n",
    "    elif dir == \"l\":\n",
    "        t = C_Tree.to_binary_left(t)\n",
    "    else:\n",
    "        raise ValueError(\"dir must be 'r' or 'l'\")\n",
    "    \n",
    "    Tree.fromstring(str(t)).pretty_print()\n",
    "\n",
    "def debug_print(st, dt, lt):\n",
    "    print(\"Error unmatch at\")\n",
    "    print(st)\n",
    "    print(dt)\n",
    "    print(\"With linearization\")\n",
    "    print(lt)\n",
    "\n",
    "\n",
    "def clean_features(t):\n",
    "    '''\n",
    "    remove all characters between ## in all the nodes of the tree\n",
    "    '''\n",
    "    regex = re.compile(r'##.*?##')\n",
    "    label = regex.sub('', t.label)\n",
    "    children = [clean_features(c) for c in t.children]\n",
    "    return C_Tree(label, children)\n",
    "\n",
    "##\n",
    "# store trees that gave problems \n",
    "##\n",
    "\n",
    "# genia\n",
    "g01 = \"(ROOT (NONE The) (NONE 4-carboranyl-substituted) (NONE compounds) (NONE -LRB-) (NONE 7) (NONE , ) (NONE 11) (NONE -RRB-) (NONE showed) (NONE antagonistic) (NONE activity) (NONE but) (NONE no) (NONE agonistic) (NONE activity) (NONE even) (NONE in) (NONE the) (NONE presence) (NONE of) (NONE the) (NONE potent) (NONE synergist) (NONE HX630) (NONE .))\"\n",
    "g02 = \"(ROOT (NONE In) (NONE parallel) (NONE ,) (NONE NAC) (NONE was) (NONE shown) (NONE to) (NONE down-regulate) (NONE the) (NONE production) (NONE of) (protein (NONE cytokines)) (NONE by) (cell_type (NONE DC)) (NONE as) (NONE well) (NONE as) (NONE their) (NONE surface) (NONE expression) (NONE of) (protein (NONE HLA-DR)) (NONE ,) (protein (NONE CD86)) (NONE -LRB-) (protein (NONE B7-2)) (NONE -RRB-) (NONE ,) (NONE and) (protein (NONE CD40) (NONE molecules)) (NONE both) (NONE at) (NONE the) (NONE basal) (NONE state) (NONE and) (NONE upon) (NONE LPS) (NONE activation) (NONE .))\"\n",
    "g03 = \"(ROOT (NONE The) (RNA (protein (NONE MNDA)) (NONE mRNA)) (NONE level) (NONE in) (cell_type (NONE primary) (NONE granulocytes)) (NONE was) (NONE unaffected) (NONE by) (NONE addition) (NONE of) (protein (NONE interferon) (NONE alpha)) (NONE and) (NONE other) (NONE agents) (NONE including) (protein (NONE interferon) (NONE gamma)) (NONE ,) (protein (NONE endotoxin)) (NONE ,) (protein (NONE poly-LRB-I-RRB-) (NONE poly-LRB-C-RRB-)) (NONE ,) (NONE and) (protein (NONE FMLP)) (NONE .))\"\n",
    "g04 = \"(ROOT (NONE The) (NONE expression) (NONE of) (NONE c-fos) (NONE ,) (NONE c-jun) (NONE and) (NONE jun) (NONE B) (NONE proto-oncogenes) (NONE was) (NONE studied) (NONE in) (cell_line (protein (NONE phytohemagglutinin)) (NONE -LRB-) (protein (NONE PHA)) (NONE -RRB-) (NONE activated) (NONE peripheral) (NONE blood) (NONE lymphocytes)) (NONE -LRB-) (cell_type (NONE PBL)) (NONE -RRB-) (NONE from) (NONE young) (NONE and) (NONE aged) (NONE humans) (NONE .))\"\n",
    "g05 = \"(ROOT (cell_line (NONE E2) (NONE -stimulated) (NONE ER+) (NONE cells)) (NONE were) (NONE more) (NONE susceptible) (NONE to) (NONE lysis) (NONE by) (cell_type (NONE LAK) (NONE cells)) (NONE than) (NONE corresponding) (cell_line (NONE TAM) (NONE -treated)) (NONE or) (cell_type (NONE control) (NONE cells)) (NONE ,) (NONE while) (NONE treatment) (NONE of) (cell_line (NONE ER-cells)) (NONE with) (NONE either) (NONE E2) (NONE or) (NONE TAM) (NONE alone) (NONE did) (NONE not) (NONE alter) (NONE from) (NONE control) (NONE their) (NONE susceptibility) (NONE to) (NONE this) (NONE immune-mediated) (NONE lysis) (NONE .))\"\n",
    "# ptb\n",
    "p01 = \"(S (S (NP (JJ Big) (NN investment) (NNS banks)) (VP (VBD refused) (S (VP (TO to) (VP (VB step) (ADVP (RB up) (PP (TO to) (NP (DT the) (NN plate)))) (S (VP (TO to) (VP (VB support) (NP (DT the) (JJ beleaguered) (NN floor) (NNS traders)) (PP (IN by) (S (VP (VBG buying) (NP (NP (JJ big) (NNS blocks)) (PP (IN of) (NP (NN stock))))))))))))))) (, ,) (NP (NNS traders)) (VP (VBP say)) (. .))\"\n",
    "p02 = \"(SINV (S (ADVP (RB Once) (RB again)) (-LRB- -LCB-) (NP (DT the) (NNS specialists)) (-RRB- -RCB-) (VP (VBD were) (RB not) (ADJP (JJ able) (S (VP (TO to) (VP (VB handle) (NP (NP (DT the) (NNS imbalances)) (PP (IN on) (NP (NP (DT the) (NN floor)) (PP (IN of) (NP (DT the) (NNP New) (NNP York) (NNP Stock) (NNP Exchange)))))))))))) (, ,) ('' '') (VP (VBD said)) (NP (NP (NNP Christopher) (NNP Pedersen)) (, ,) (NP (NP (JJ senior) (NN vice) (NN president)) (PP (IN at) (NP (NNP Twenty-First) (NNP Securities) (NNP Corp))))) (. .))\"\n",
    "p03 = \"(S (NP (NP (NNP Seven) (NNP Big) (NNP Board) (NNS stocks)) (: --) (NP (NP (NNP UAL)) (, ,) (NP (NNP AMR)) (, ,) (NP (NNP BankAmerica)) (, ,) (NP (NNP Walt) (NNP Disney)) (, ,) (NP (NNP Capital) (NNP Cities\\/ABC)) (, ,) (NP (NNP Philip) (NNP Morris)) (CC and) (NP (NNP Pacific) (NNP Telesis) (NNP Group))) (: --)) (VP (VP (VBD stopped) (S (VP (NN trading)))) (CC and) (VP (ADVP (RB never)) (VBD resumed))) (. .))\"\n",
    "p04 = \"(S (S (NP (JJ Big) (NN investment) (NNS banks)) (VP (VBD refused) (S (VP (TO to) (VP (VB step) (ADVP (RB up) (PP (TO to) (NP (DT the) (NN plate)))) (S (VP (TO to) (VP (VB support) (NP (DT the) (JJ beleaguered) (NN floor) (NNS traders)) (PP (IN by) (S (VP (VBG buying) (NP (NP (JJ big) (NNS blocks)) (PP (IN of) (NP (NN stock))))))))))))))) (, ,) (NP (NNS traders)) (VP (VBP say)) (. .))\"\n",
    "p05 = \"(FRAG (SBAR (IN As) (IN in) (: :) (`` ``) (SQ (NP (PRP You)) (VP (VBD went) (NP (VBG ballooning))) (. ?) (. ?) (. !) (. !))))\"\n",
    "p06 = \"(NP (NP (NN Year)) (VP (VBN ended) (NP (NNP Dec.) (CD 31) (, ,) (CD 1988))) (X (NN !)))\"\n",
    "p07 = \"(S (INTJ (RB No)) (, ,) (NP (PRP it)) (VP (VBD was) (RB n't) (NP (NNP Black) (NNP Monday))) (. .))\"\n",
    "p08 = \"(S (NP (DT The) (JJ finger-pointing)) (VP (VBZ has) (ADVP (RB already)) (VP (VBN begun))) (. .))\"\n",
    "p09 = \"(S (`` ``) (NP (DT The) (NN equity) (NN market)) (VP (VBD was) (ADJP (JJ illiquid))) (. .))\"\n",
    "p10 = \"(S (PP (IN In) (NP (NP (DT an) (NNP Oct.) (CD 19) (NN review)) (PP (IN of) (NP (`` ``) (NP (DT The) (NN Misanthrope)) ('' '') (PP (IN at) (NP (NP (NNP Chicago) (POS 's)) (NNP Goodman) (NNP Theatre))))) (PRN (-LRB- -LRB-) (`` ``) (S (NP (JJ Revitalized) (NNS Classics)) (VP (VBP Take) (NP (DT the) (NNP Stage)) (PP (IN in) (NP (NNP Windy) (NNP City))))) (, ,) ('' '') (NP (NNP Leisure) (CC &) (NNP Arts)) (-RRB- -RRB-)))) (, ,) (NP (NP (NP (DT the) (NN role)) (PP (IN of) (NP (NNP Celimene)))) (, ,) (VP (VBN played) (PP (IN by) (NP (NNP Kim) (NNP Cattrall)))) (, ,)) (VP (VBD was) (VP (ADVP (RB mistakenly)) (VBN attributed) (PP (TO to) (NP (NNP Christina) (NNP Haag))))) (. .))\"\n",
    "p11 = \"(NP (NNP Conrail))\"\n",
    "p12 = \"(S (NP (NP (RB Not) (PDT all) (DT those)) (SBAR (WHNP (WP who)) (S (VP (VBD wrote))))) (VP (VBP oppose) (NP (DT the) (NNS changes))) (. .))\"\n",
    "p13 = \"(SINV (S (NP (DT The) (NNS changes)) (VP (VBD were) (VP (VBN proposed) (PP (IN in) (NP (DT an) (NN effort) (S (VP (TO to) (VP (VP (VB streamline) (NP (JJ federal) (NN bureaucracy))) (CC and) (VP (NN boost) (NP (NP (NN compliance)) (PP (IN by) (NP (NP (DT the) (NNS executives)) (`` ``) (SBAR (WHNP (WP who)) (S (VP (VBP are) (ADVP (RB really)) (VP (VBG calling) (NP (DT the) (NNS shots)))))))))))))))))) (, ,) ('' '') (VP (VBD said)) (NP (NP (NNP Brian) (NNP Lane)) (, ,) (NP (NP (JJ special) (NN counsel)) (PP (IN at) (NP (NP (NP (NP (DT the) (NNP SEC) (POS 's)) (NN office)) (PP (IN of) (NP (NN disclosure) (NN policy)))) (, ,) (SBAR (WHNP (WDT which)) (S (VP (VBD proposed) (NP (DT the) (NNS changes))))))))) (. .))\"\n",
    "p14 = \"(S (PP (IN In) (NP (NP (DT an) (NNP Oct.) (CD 19) (NN review)) (PP (IN of) (NP (`` ``) (NP (DT The) (NN Misanthrope)) ('' '') (PP (IN at) (NP (NP (NNP Chicago) (POS 's)) (NNP Goodman) (NNP Theatre))))) (PRN (-LRB- -LRB-) (`` ``) (S (NP (JJ Revitalized) (NNS Classics)) (VP (VBP Take) (NP (DT the) (NNP Stage)) (PP (IN in) (NP (NNP Windy) (NNP City))))) (, ,) ('' '') (NP (NNP Leisure) (CC &) (NNP Arts)) (-RRB- -RRB-)))) (, ,) (NP (NP (NP (DT the) (NN role)) (PP (IN of) (NP (NNP Celimene)))) (, ,) (VP (VBN played) (PP (IN by) (NP (NNP Kim) (NNP Cattrall)))) (, ,)) (VP (VBD was) (VP (ADVP (RB mistakenly)) (VBN attributed) (PP (TO to) (NP (NNP Christina) (NNP Haag))))) (. .))\"\n",
    "p15 = \"(S (NP (DT The) (NN luxury) (NN auto) (NN maker)) (NP (JJ last) (NN year)) (VP (VBD sold) (NP (CD 1,214) (NNS cars)) (PP (IN in) (NP (DT the) (NNP U.S.)))))\"\n",
    "\n",
    "# spmrl\n",
    "s01 = \"(VROOT (PN (NE-PNC##lem=Grand|case=*|number=*|gender=*## GRAND) (NE-PNC##lem=Rapids|case=nom|number=sg|gender=neut## RAPIDS)) ($,##lem=--|_## ,) (NP (ADJA-NK##lem=3.|case=nom|number=sg|gender=masc|degree=pos## 3.) (NN-NK##lem=Januar|case=nom|number=sg|gender=masc## Januar)) ($LRB##lem=--|_## -LRB-) (NE##lem=afp|case=nom|number=sg|gender=*## afp) ($LRB##lem=--|_## -RRB-) ($.##lem=--|_## .))\"\n",
    "s02 = \"(VROOT (S (PP-MO (APPR-AC##lem=in|_## In) (ART-NK##lem=der|case=dat|number=pl|gender=*## den) (NE-NK##lem=USA|case=dat|number=pl|gender=*## USA)) (VAFIN-HD##lem=haben|number=sg|person=3|tense=pres|mood=ind## hat) (PRF-OA##lem=sich|case=acc|number=sg|person=3## sich) (NP-SB (ART-NK##lem=ein|case=nom|number=sg|gender=neut## ein) (AP-NK (NP-AMS (CARD-NK##lem=neun|_## neun) (NN-NK##lem=Jahr|case=acc|number=pl|gender=neut## Jahre)) (ADJA-HD##lem=alt|case=nom|number=sg|gender=neut|degree=pos## altes)) (NN-NK##lem=Mädchen|case=nom|number=sg|gender=neut## Mädchen)) (CVP-OC (VP-CJ (ADJD-MO##lem=erfolgreich|degree=pos## erfolgreich) (PP-MO (APPR-AC##lem=als|_## als) (NN-NK##lem=Geburtshelferin|case=nom|number=sg|gender=fem## Geburtshelferin)) (VVPP-HD##lem=betätigen|_## betätigt)) (KON-CD##lem=und|_## und) (VP-CJ (VVPP-HD##lem=helfen|_## geholfen)))) ($,##lem=--|_## ,) (VP-OC (NP-OA (PPOSAT-NK##lem=sein|case=acc|number=sg|gender=masc## seinen) (ADJA-NK##lem=klein|case=acc|number=sg|gender=masc|degree=pos## kleinen) (NN-NK##lem=Bruder|case=acc|number=sg|gender=masc## Bruder)) (PP-MO (APPRART-AC##lem=zu|case=dat|number=sg|gender=fem## zur) (NN-NK##lem=Welt|case=dat|number=sg|gender=fem## Welt)) (VZ-HD (PTKZU-PM##lem=zu|_## zu) (VVINF-HD##lem=bringen|_## bringen))) ($.##lem=--|_## .))\"\n",
    "s03 = \"(NE##lem=USA|case=nom|number=pl|gender=*## USA)\"\n",
    "s04 = \"(VROOT (S (NP-SB (ART-NK##lem=der|case=nom|number=sg|gender=neut## Das) (NN-NK##lem=Ministerium|case=nom|number=sg|gender=neut## Ministerium)) (VAFIN-HD##lem=haben|number=sg|person=3|tense=pres|mood=ind## hat) (NP-OA (AVP-MO (ADV-HD##lem=nur|_## nur) (ADV-MO##lem=noch|_## noch)) (ART-NK##lem=der|case=acc|number=sg|gender=fem## die) (NN-NK##lem=Fachaufsicht|case=acc|number=sg|gender=fem## Fachaufsicht))) ($.##lem=--|_## .))\""
   ]
  },
  {
   "attachments": {},
   "cell_type": "markdown",
   "metadata": {},
   "source": [
    "### Some encodings"
   ]
  },
  {
   "cell_type": "code",
   "execution_count": 3,
   "metadata": {},
   "outputs": [],
   "source": [
    "encoder = C_JuxtaposedEncoding(separator=\"[_]\", unary_joiner=\"[+]\", reverse=False, binary=False, binary_direction=\"L\", binary_marker=\"[b]\")\n",
    "treebank_path = \"/home/droca1/Treebanks/const/PENN_TREEBANK/train.trees\"\n",
    "sample_trees = open(treebank_path).readlines()\n",
    "for idx, ts in enumerate(sample_trees):\n",
    "    ts = ts.rstrip()\n",
    "    t = C_Tree.from_string(ts)\n",
    "    lc = encoder.encode(t)\n",
    "    dt = encoder.decode(lc)\n",
    "    assert str(ts)==str(dt), f\"Error at {idx}\\n{lc}\\n{ts}\\n{dt}\""
   ]
  },
  {
   "cell_type": "code",
   "execution_count": 4,
   "metadata": {},
   "outputs": [],
   "source": [
    "gaps_encoder = C_GapsEncoding(separator=\"[_]\", unary_joiner=\"[+]\", reverse=False, binary=True, binary_direction=\"R\", binary_marker=\"[b]\")\n",
    "\n",
    "treebank_path = \"/home/droca1/Treebanks/const/PENN_TREEBANK/train.trees\"\n",
    "sample_trees = open(treebank_path).readlines()\n",
    "label_set = set()\n",
    "for idx, ts in enumerate(sample_trees):\n",
    "    ts = ts.rstrip()\n",
    "    ts = C_Tree.from_string(ts)\n",
    "    lc = gaps_encoder.encode(ts)\n",
    "    dt = gaps_encoder.decode(lc)\n",
    "    assert str(ts)==str(dt), f\"Error at {idx}\\n{lc}\\n{ts}\\n{dt}\""
   ]
  },
  {
   "cell_type": "code",
   "execution_count": 2,
   "metadata": {},
   "outputs": [],
   "source": [
    "tetra_encoder = C_Tetratag(separator=\"[_]\", unary_joiner=\"[+]\", mode=\"postorder\", binary_marker=\"[b]\")\n",
    "treebank_path = \"/home/droca1/Treebanks/const/PENN_TREEBANK/train.trees\"\n",
    "sample_trees = open(treebank_path).readlines()\n",
    "label_set = set()\n",
    "for idx, ts in enumerate(sample_trees):\n",
    "    ts = ts.rstrip()\n",
    "    ts = C_Tree.from_string(ts)\n",
    "    lc = tetra_encoder.encode(ts)\n",
    "    dt = tetra_encoder.decode(lc)\n",
    "    assert str(ts)==str(dt), f\"Error at {idx}\\n{lc}\\n{ts}\\n{dt}\"\n"
   ]
  },
  {
   "attachments": {},
   "cell_type": "markdown",
   "metadata": {},
   "source": [
    "### NER2Trees\n"
   ]
  },
  {
   "cell_type": "code",
   "execution_count": 6,
   "metadata": {},
   "outputs": [
    {
     "name": "stdout",
     "output_type": "stream",
     "text": [
      "                                                                                                                                                         ROOT                                                                                                                                              \n",
      "  ________________________________________________________________________________________________________________________________________________________|_____________________________________________________________________________________________________________________________________________    \n",
      " |      |     |         |         |      |      |    |    |      |      |     |             |              |       |        |       |              |             |       |       |    |       |       |    |                                        DNA                    |    |    |         |        |  \n",
      " |      |     |         |         |      |      |    |    |      |      |     |             |              |       |        |       |              |             |       |       |    |       |       |    |                                   ______|________________     |    |    |         |        |   \n",
      " |      |     |         |         |      |      |    |    |      |      |     |             |              |       |        |       |              |             |       |       |    |       |       |    |                               protein                    |    |    |    |         |        |  \n",
      " |      |     |         |         |      |      |    |    |      |      |     |             |              |       |        |       |              |             |       |       |    |       |       |    |                                  |                       |    |    |    |         |        |   \n",
      " |      |     |         |         |      |      |    |    |      |      |     |             |              |       |        |       |              |             |       |       |    |       |       |    |                               protein                    |    |    |    |         |        |  \n",
      " |      |     |         |         |      |      |    |    |      |      |     |             |              |       |        |       |              |             |       |       |    |       |       |    |            ______________________|__________________     |    |    |    |         |        |   \n",
      " |      |     |      protein      |   protein   |    |    |      |      |     |         cell_type          |       |        |       |           protein          |    protein    |    |       |       |    |        protein            |      |      |     |     |    |    |    |    |         |        |  \n",
      " |      |     |         |         |      |      |    |    |      |      |     |      _______|_______       |       |        |       |       _______|______       |       |       |    |       |       |    |     ______|_______        |      |      |     |     |    |    |    |    |         |        |   \n",
      "NONE   NONE  NONE      NONE      NONE   NONE   NONE NONE NONE   NONE   NONE  NONE  NONE            NONE   NONE    NONE     NONE    NONE   NONE    NONE   NONE   NONE    NONE    NONE NONE    NONE    NONE NONE NONE           NONE    NONE   NONE   NONE  NONE  NONE NONE NONE NONE NONE      NONE     NONE\n",
      " |      |     |         |         |      |      |    |    |      |      |     |     |               |      |       |        |       |      |       |      |      |       |       |    |       |       |    |    |              |       |      |      |     |     |    |    |    |    |         |        |   \n",
      "The  binding  of  interleukin-2 -LRB-   IL-2  -RRB-  to  its  receptor  on  normal  T             cells induces nuclear expression  of  nuclear  factor kappaB -LRB- NF-kappaB -RRB-  ,   activation  of  the  IL-2         receptor -LRB-  IL-2R  -RRB- alpha chain gene  ,   and  cell proliferation  .  \n",
      "\n"
     ]
    }
   ],
   "source": [
    "from ner2trees import *\n",
    "\n",
    "g01j = '{\"tokens\": [\"The\",\"binding\",\"of\",\"interleukin-2\",\"(\",\"IL-2\",\")\",\"to\",\"its\",\"receptor\",\"on\",\"normal\",\"T\",\"cells\",\"induces\",\"nuclear\",\"expression\",\"of\",\"nuclear\",\"factor\",\"kappaB\",\"(\",\"NF-kappaB\",\")\",\",\",\"activation\",\"of\",\"the\",\"IL-2\",\"receptor\",\"(\",\"IL-2R\",\")\",\"alpha\",\"chain\",\"gene\",\",\",\"and\",\"cell\",\"proliferation\",\".\"],\"doc_id\": \"MEDLINE:98281217\",\"sent_id\": \"MEDLINE:98281217-1\",\"entity_mentions\": [{\"start\": 3,\"end\": 4,\"entity_type\": \"protein\",\"text\": \"interleukin-2\"},{\"start\": 5,\"end\": 6,\"entity_type\": \"protein\",\"text\": \"IL-2\"},{\"start\": 12,\"end\": 14,\"entity_type\": \"cell_type\",\"text\": \"T cells\"},{\"start\": 18,\"end\": 21,\"entity_type\": \"protein\",\"text\": \"nuclear factor kappaB\"},{\"start\": 22,\"end\": 23,\"entity_type\": \"protein\",\"text\": \"NF-kappaB\"},{\"start\": 28,\"end\": 29,\"entity_type\": \"protein\",\"text\": \"IL-2\"},{\"start\": 28,\"end\": 30,\"entity_type\": \"protein\",\"text\": \"IL-2 receptor\"},{\"start\": 28,\"end\": 35,\"entity_type\": \"protein\",\"text\": \"IL-2 receptor ( IL-2R ) alpha chain\"},{\"start\": 28,\"end\": 36,\"entity_type\": \"DNA\",\"text\": \"IL-2 receptor ( IL-2R ) alpha chain gene\"}]}'\n",
    "\n",
    "line = g01j\n",
    "s = json.loads(line)\n",
    "words, postags, entities = s['tokens'], [\"NONE\"]*len(s['tokens']), parse_entities(s['entity_mentions'], len(s['tokens']),  extractor=parse_genia) \n",
    "t = entities_to_tree(words, postags, entities)\n",
    "t.clean_tree()\n",
    "Tree.fromstring(str(t)).pretty_print()"
   ]
  }
 ],
 "metadata": {
  "kernelspec": {
   "display_name": "tf",
   "language": "python",
   "name": "python3"
  },
  "language_info": {
   "codemirror_mode": {
    "name": "ipython",
    "version": 3
   },
   "file_extension": ".py",
   "mimetype": "text/x-python",
   "name": "python",
   "nbconvert_exporter": "python",
   "pygments_lexer": "ipython3",
   "version": "3.10.9"
  },
  "orig_nbformat": 4
 },
 "nbformat": 4,
 "nbformat_minor": 2
}
