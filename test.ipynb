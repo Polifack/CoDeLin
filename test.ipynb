{
 "cells": [
  {
   "cell_type": "code",
   "execution_count": 26,
   "metadata": {},
   "outputs": [],
   "source": [
    "from codelin.models.const_tree import C_Tree\n",
    "from codelin.encs.constituent import *\n",
    "from codelin.utils.constants import *\n",
    "from codelin.models.linearized_tree import LinearizedTree\n",
    "from codelin.models.const_label import C_Label\n",
    "from nltk.tree import Tree\n",
    "\n",
    "import pandas as pd\n",
    "import os\n",
    "import copy\n",
    "\n",
    "def pt(d, t):\n",
    "    if d:\n",
    "        Tree.fromstring(str(t)).pretty_print()"
   ]
  },
  {
   "cell_type": "code",
   "execution_count": 23,
   "metadata": {},
   "outputs": [],
   "source": [
    "ts0 = \"(NTA (PA a) (NTB (NTC (NTD (PB b) (NTE (PC c) (NTF (NTG (PD d) (PE e)) (PF f)))) (PG g)) (PH h)))\"\n",
    "ts1 = \"(S (S (NP (JJ Big) (NN investment) (NNS banks)) (VP (VBD refused) (S (VP (TO to) (VP (VB step) (ADVP (RB up) (PP (TO to) (NP (DT the) (NN plate)))) (S (VP (TO to) (VP (VB support) (NP (DT the) (JJ beleaguered) (NN floor) (NNS traders)) (PP (IN by) (S (VP (VBG buying) (NP (NP (JJ big) (NNS blocks)) (PP (IN of) (NP (NN stock))))))))))))))) (, ,) (NP (NNS traders)) (VP (VBP say)) (. .))\"\n",
    "ts2 = \"(SINV (S (ADVP (RB Once) (RB again)) (-LRB- -LCB-) (NP (DT the) (NNS specialists)) (-RRB- -RCB-) (VP (VBD were) (RB not) (ADJP (JJ able) (S (VP (TO to) (VP (VB handle) (NP (NP (DT the) (NNS imbalances)) (PP (IN on) (NP (NP (DT the) (NN floor)) (PP (IN of) (NP (DT the) (NNP New) (NNP York) (NNP Stock) (NNP Exchange)))))))))))) (, ,) ('' '') (VP (VBD said)) (NP (NP (NNP Christopher) (NNP Pedersen)) (, ,) (NP (NP (JJ senior) (NN vice) (NN president)) (PP (IN at) (NP (NNP Twenty-First) (NNP Securities) (NNP Corp))))) (. .))\"\n",
    "ts3 = \"(S (NP (NP (NNP Seven) (NNP Big) (NNP Board) (NNS stocks)) (: --) (NP (NP (NNP UAL)) (, ,) (NP (NNP AMR)) (, ,) (NP (NNP BankAmerica)) (, ,) (NP (NNP Walt) (NNP Disney)) (, ,) (NP (NNP Capital) (NNP Cities\\/ABC)) (, ,) (NP (NNP Philip) (NNP Morris)) (CC and) (NP (NNP Pacific) (NNP Telesis) (NNP Group))) (: --)) (VP (VP (VBD stopped) (S (VP (NN trading)))) (CC and) (VP (ADVP (RB never)) (VBD resumed))) (. .))\"\n",
    "ts4 = \"(S (S (NP (JJ Big) (NN investment) (NNS banks)) (VP (VBD refused) (S (VP (TO to) (VP (VB step) (ADVP (RB up) (PP (TO to) (NP (DT the) (NN plate)))) (S (VP (TO to) (VP (VB support) (NP (DT the) (JJ beleaguered) (NN floor) (NNS traders)) (PP (IN by) (S (VP (VBG buying) (NP (NP (JJ big) (NNS blocks)) (PP (IN of) (NP (NN stock))))))))))))))) (, ,) (NP (NNS traders)) (VP (VBP say)) (. .))\"\n",
    "ts5 = \"(FRAG (SBAR (IN As) (IN in) (: :) (`` ``) (SQ (NP (PRP You)) (VP (VBD went) (NP (VBG ballooning))) (. ?) (. ?) (. !) (. !))))\"\n",
    "ts6 = \"(NP (NP (NN Year)) (VP (VBN ended) (NP (NNP Dec.) (CD 31) (, ,) (CD 1988))) (X (NN \\*)))\"\n",
    "ts7 = \"(S (INTJ (RB No)) (, ,) (NP (PRP it)) (VP (VBD was) (RB n't) (NP (NNP Black) (NNP Monday))) (. .))\"\n",
    "ts8 = \"(S (NP (DT The) (JJ finger-pointing)) (VP (VBZ has) (ADVP (RB already)) (VP (VBN begun))) (. .))\"\n",
    "ts9 = \"(S (`` ``) (NP (DT The) (NN equity) (NN market)) (VP (VBD was) (ADJP (JJ illiquid))) (. .))\""
   ]
  },
  {
   "attachments": {},
   "cell_type": "markdown",
   "metadata": {},
   "source": [
    "## Encoding playground"
   ]
  },
  {
   "cell_type": "code",
   "execution_count": 28,
   "metadata": {},
   "outputs": [],
   "source": [
    "all_ts = [ts0, ts1, ts2, ts3, ts4, ts5, ts6, ts7, ts8, ts9]\n",
    "debug = False\n",
    "encoder = C_NaiveAbsoluteEncoding(separator=\"_\",\n",
    "                                    unary_joiner=\"++\",\n",
    "                                    reverse=True,\n",
    "                                    binary=True,\n",
    "                                    binary_direction=\"R\",\n",
    "                                    binary_marker=\"[*]\")\n",
    "for ts in all_ts:\n",
    "    pt(debug, ts)\n",
    "    \n",
    "    tree = C_Tree.from_string(ts)\n",
    "    lc_tree = encoder.encode(tree)\n",
    "    dec_tree = encoder.decode(lc_tree)\n",
    "    dec_tree = dec_tree.postprocess_tree(conflict_strat=C_STRAT_MAX, clean_nulls=True)\n",
    "    \n",
    "    pt(debug, dec_tree)\n",
    "    \n",
    "    assert str(dec_tree) == ts"
   ]
  },
  {
   "attachments": {},
   "cell_type": "markdown",
   "metadata": {},
   "source": [
    "## Labels equivalence"
   ]
  },
  {
   "cell_type": "code",
   "execution_count": 2,
   "metadata": {},
   "outputs": [
    {
     "name": "stdout",
     "output_type": "stream",
     "text": [
      "Reading PTB from /home/droca1/Treebanks/const/PENN_TREEBANK/\n"
     ]
    }
   ],
   "source": [
    "ptb_path = \"~/Treebanks/const/PENN_TREEBANK/\"\n",
    "ptb_path = os.path.expanduser(ptb_path)\n",
    "print(\"Reading PTB from\",ptb_path)    \n",
    "df = pd.DataFrame(columns=[\"Word\", \"Relative\", \"Tetratag\"])\n",
    "with open(os.path.join(ptb_path,\"test.trees\")) as f:\n",
    "    ptb = f.read().splitlines()\n",
    "\n",
    "for tree_string in ptb:\n",
    "    tree = C_Tree.from_string(tree_string)\n",
    "    rel_encoder = C_NaiveRelativeEncoding(separator=\"_\", unary_joiner=\"+\", reverse=False, binary=True, binary_marker=\"[*]\")\n",
    "    tet_encoder = C_Tetratag(separator=\"_\", unary_joiner=\"+\", reverse=False, binary_marker=\"[*]\")\n",
    "\n",
    "    t_lin_tree = tet_encoder.encode(copy.deepcopy(tree))\n",
    "    r_lin_tree = rel_encoder.encode(copy.deepcopy(tree))\n",
    "\n",
    "    df_temp = pd.DataFrame(columns=[\"Word\", \"Relative\", \"Tetratag\"])\n",
    "    \n",
    "    df_temp[\"Word\"] = r_lin_tree.words\n",
    "    df_temp[\"Relative\"] = [str(l.n_commons) for l in r_lin_tree.labels]\n",
    "    df_temp[\"Tetratag\"] = [l.n_commons for l in t_lin_tree.labels]\n",
    "    \n",
    "    df = pd.concat([df, df_temp], axis=0)\n",
    "\n",
    "    \n",
    "    r_decoded_tree = rel_encoder.decode(r_lin_tree)\n",
    "    r_decoded_tree = r_decoded_tree.postprocess_tree(conflict_strat=C_STRAT_MAX, clean_nulls=True)\n",
    "    \n",
    "    t_decoded_tree = tet_encoder.decode(t_lin_tree)\n",
    "    t_decoded_tree = t_decoded_tree.postprocess_tree(conflict_strat=C_STRAT_MAX, clean_nulls=True)\n",
    "        \n",
    "    if not (str(r_decoded_tree)==tree_string):\n",
    "        print(\"Decoded tree is different from original\")\n",
    "        print(\"Original:\",tree_string)\n",
    "        print(\"Decoded:\",r_decoded_tree)"
   ]
  },
  {
   "cell_type": "code",
   "execution_count": 3,
   "metadata": {},
   "outputs": [
    {
     "name": "stdout",
     "output_type": "stream",
     "text": [
      "Tetratag: l \n",
      "\t==> Relative: ['-3' '-4' '-1' '-2' '-5' '0' '-6' '-7' '-12' '-9' '-14' '-8' '-10' '-11']\n",
      "Tetratag: lL \n",
      "\t==> Relative: ['-3' '-4' '-1' '-5' '-13' '-6' '-2' '-11' '-8' '-14' '-7' '-10' '-12'\n",
      " '-9' '-19' '-16' '-15' '-17' '-27' '-22' '-20' '-18' '-25' '-21' '-23'\n",
      " '-30' '-26']\n",
      "Tetratag: lR \n",
      "\t==> Relative: ['-4' '-6' '-5' '-3' '-2' '-13' '-1' '-15' '-7' '-9' '-11' '-8' '-17'\n",
      " '-10' '-14' '-12' '-16' '-19']\n",
      "Tetratag: r \n",
      "\t==> Relative: ['1']\n",
      "Tetratag: rL \n",
      "\t==> Relative: ['1' '2' '0' '3']\n",
      "Tetratag: rR \n",
      "\t==> Relative: ['1' '2' '3' '4' '5' '6']\n"
     ]
    }
   ],
   "source": [
    "# print relative values for each of the unique values of tetratag\n",
    "tetra_values = df[\"Tetratag\"].unique()\n",
    "tetra_values.sort()\n",
    "for tetratag in tetra_values:\n",
    "    print(\"Tetratag:\",tetratag,\\\n",
    "        \"\\n\\t==> Relative:\",df[df[\"Tetratag\"]==tetratag][\"Relative\"].unique())"
   ]
  }
 ],
 "metadata": {
  "kernelspec": {
   "display_name": "tf",
   "language": "python",
   "name": "python3"
  },
  "language_info": {
   "codemirror_mode": {
    "name": "ipython",
    "version": 3
   },
   "file_extension": ".py",
   "mimetype": "text/x-python",
   "name": "python",
   "nbconvert_exporter": "python",
   "pygments_lexer": "ipython3",
   "version": "3.10.9"
  },
  "orig_nbformat": 4
 },
 "nbformat": 4,
 "nbformat_minor": 2
}
