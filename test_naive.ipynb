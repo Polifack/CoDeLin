{
 "cells": [
  {
   "cell_type": "code",
   "execution_count": 1,
   "metadata": {},
   "outputs": [
    {
     "name": "stderr",
     "output_type": "stream",
     "text": [
      "/home/droca1/.conda/envs/tf/lib/python3.10/site-packages/tqdm/auto.py:21: TqdmWarning: IProgress not found. Please update jupyter and ipywidgets. See https://ipywidgets.readthedocs.io/en/stable/user_install.html\n",
      "  from .autonotebook import tqdm as notebook_tqdm\n"
     ]
    },
    {
     "name": "stdout",
     "output_type": "stream",
     "text": [
      "              S                          \n",
      "  ____________|________________________   \n",
      " |    |   |       VP                   | \n",
      " |    |   |    ___|_________           |  \n",
      "INTJ  |   NP  |   |         NP         | \n",
      " |    |   |   |   |     ____|____      |  \n",
      " RB   ,  PRP VBD  RB  NNP       NNP    . \n",
      " |    |   |   |   |    |         |     |  \n",
      " No   ,   it was n't Black     Monday  . \n",
      "\n",
      "-BOS-\t-BOS-\t-BOS-\n",
      "No\tRB\t1_S_INTJ\n",
      ",\t,\t1_S\n",
      "it\tPRP\t1_S_NP\n",
      "was\tVBD\t2_VP\n",
      "n't\tRB\t2_VP\n",
      "Black\tNNP\t3_NP\n",
      "Monday\tNNP\t1_S\n",
      ".\t.\t1_S\n",
      "-EOS-\t-EOS-\t-EOS-\n",
      "\n"
     ]
    }
   ],
   "source": [
    "from src.models.const_tree import C_Tree\n",
    "from src.encs.constituent import *\n",
    "from src.utils.constants import *\n",
    "from src.models.linearized_tree import LinearizedTree\n",
    "from nltk.tree import Tree\n",
    "\n",
    "gold = \"(S (INTJ (RB No)) (, ,) (NP (PRP it)) (VP (VBD was) (RB n't) (NP (NNP Black) (NNP Monday))) (. .))\"\n",
    "t_gold = Tree.fromstring(gold)\n",
    "t_gold.pretty_print()\n",
    "enc = C_NaiveAbsoluteEncoding(separator=\"_\", unary_joiner=\"+\")\n",
    "t_encoded = enc.encode(C_Tree.from_string(gold))\n",
    "print(t_encoded)"
   ]
  },
  {
   "cell_type": "code",
   "execution_count": 6,
   "metadata": {},
   "outputs": [
    {
     "name": "stdout",
     "output_type": "stream",
     "text": [
      "              S                          \n",
      "  ____________|________________________   \n",
      " |    |   |       VP                   | \n",
      " |    |   |    ___|_________           |  \n",
      " |    |   |   |   |         VP         | \n",
      " |    |   |   |   |     ____|____      |  \n",
      "INTJ  |   NP  |   |   ADJP       NP    | \n",
      " |    |   |   |   |    |         |     |  \n",
      " RB   ,  PRP VBD  RB  NNP       NNP    . \n",
      " |    |   |   |   |    |         |     |  \n",
      " No   ,   it was n't Black     Monday  . \n",
      "\n"
     ]
    }
   ],
   "source": [
    "lin = \"-BOS-\t-BOS-\t-BOS-\"+\"\\n\"+\\\n",
    "\"No\tRB\t1_S_INTJ\"+\"\\n\"+\\\n",
    "\",\t,\t1_S\"+\"\\n\"+\\\n",
    "\"it\tPRP\t1_S_NP\"+\"\\n\"+\\\n",
    "\"was\tVBD\t2_VP\"+\"\\n\"+\\\n",
    "\"n't\tRB\t2_VP\"+\"\\n\"+\\\n",
    "\"Black\tNNP\t2_VP_ADJP\"+\"\\n\"+\\\n",
    "\"Monday\tNNP\t1_S_NP\"+\"\\n\"+\\\n",
    "\".\t.\t1_S\"+\"\\n\"+\\\n",
    "\"-EOS-\t-EOS-\t-EOS-\"\n",
    "lin = LinearizedTree.from_string(lin, mode=\"CONST\", separator=\"_\", unary_joiner=\"+\")\n",
    "enc = C_NaiveAbsoluteEncoding(separator=\"_\", unary_joiner=\"+\")\n",
    "t_decoded = enc.decode(lin)\n",
    "t_decoded = t_decoded.postprocess_tree(conflict_strat=C_STRAT_MAX, clean_nulls=True)\n",
    "t_decoded = Tree.fromstring(str(t_decoded))\n",
    "t_decoded.pretty_print()"
   ]
  }
 ],
 "metadata": {
  "kernelspec": {
   "display_name": "tf",
   "language": "python",
   "name": "python3"
  },
  "language_info": {
   "codemirror_mode": {
    "name": "ipython",
    "version": 3
   },
   "file_extension": ".py",
   "mimetype": "text/x-python",
   "name": "python",
   "nbconvert_exporter": "python",
   "pygments_lexer": "ipython3",
   "version": "3.10.9"
  },
  "orig_nbformat": 4
 },
 "nbformat": 4,
 "nbformat_minor": 2
}
