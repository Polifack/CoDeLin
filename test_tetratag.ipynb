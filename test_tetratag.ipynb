{
 "cells": [
  {
   "cell_type": "code",
   "execution_count": 1,
   "metadata": {},
   "outputs": [
    {
     "name": "stderr",
     "output_type": "stream",
     "text": [
      "/home/poli/.conda/envs/tf/lib/python3.10/site-packages/tqdm/auto.py:22: TqdmWarning: IProgress not found. Please update jupyter and ipywidgets. See https://ipywidgets.readthedocs.io/en/stable/user_install.html\n",
      "  from .autonotebook import tqdm as notebook_tqdm\n"
     ]
    }
   ],
   "source": [
    "from codelin.models.const_tree import C_Tree\n",
    "from codelin.encs.constituent import *\n",
    "from codelin.utils.constants import *\n",
    "from codelin.models.linearized_tree import LinearizedTree\n",
    "from codelin.models.const_label import C_Label\n",
    "from nltk.tree import Tree"
   ]
  },
  {
   "attachments": {},
   "cell_type": "markdown",
   "metadata": {},
   "source": [
    "Arbol que paso David:\n",
    "```\n",
    "(0 (A a) (1 (2 (3 (B b) (4 (C c) (5 (6 (D d) (E e)) (F f)))) (G g)) (H h))) <br>\n",
    "```\n"
   ]
  },
  {
   "attachments": {},
   "cell_type": "markdown",
   "metadata": {},
   "source": [
    "## Testing from file"
   ]
  },
  {
   "cell_type": "code",
   "execution_count": 5,
   "metadata": {},
   "outputs": [
    {
     "name": "stdout",
     "output_type": "stream",
     "text": [
      "              S                          \n",
      "  ____________|________________________   \n",
      " |    |   |       VP                   | \n",
      " |    |   |    ___|_________           |  \n",
      "INTJ  |   NP  |   |         NP         | \n",
      " |    |   |   |   |     ____|____      |  \n",
      " RB   ,  PRP VBD  RB  NNP       NNP    . \n",
      " |    |   |   |   |    |         |     |  \n",
      " No   ,   it was n't Black     Monday  . \n",
      "\n",
      "====================================\n",
      "-BOS-\t-BOS-\t-BOS-\n",
      "No\tRB\trR_S_INTJ\n",
      ",\t,\trL_S~\n",
      "it\tPRP\trL_S~_NP\n",
      "was\tVBD\trR_VP\n",
      "n't\tRB\trL_VP~\n",
      "Black\tNNP\trL_NP\n",
      "Monday\tNNP\tlL_S~\n",
      ".\t.\tl_NONE\n",
      "-EOS-\t-EOS-\t-EOS-\n",
      "\n",
      "====================================\n",
      "[G] (S (INTJ (RB No)) (, ,) (NP (PRP it)) (VP (VBD was) (RB n't) (NP (NNP Black) (NNP Monday))) (. .))\n",
      "[D] (S (INTJ (RB No)) (, ,) (NP (PRP it)) (VP (VBD was) (RB n't) (NP (NNP Black) (NNP Monday))) (. .))\n",
      "====================================\n",
      "              S                          \n",
      "  ____________|________________________   \n",
      " |    |   |       VP                   | \n",
      " |    |   |    ___|_________           |  \n",
      "INTJ  |   NP  |   |         NP         | \n",
      " |    |   |   |   |     ____|____      |  \n",
      " RB   ,  PRP VBD  RB  NNP       NNP    . \n",
      " |    |   |   |   |    |         |     |  \n",
      " No   ,   it was n't Black     Monday  . \n",
      "\n",
      "True\n"
     ]
    }
   ],
   "source": [
    "# tree_string = \"(S (S (NP (JJ Big) (NN investment) (NNS banks)) (VP (VBD refused) (S (VP (TO to) (VP (VB step) (ADVP (RB up) (PP (TO to) (NP (DT the) (NN plate)))) (S (VP (TO to) (VP (VB support) (NP (DT the) (JJ beleaguered) (NN floor) (NNS traders)) (PP (IN by) (S (VP (VBG buying) (NP (NP (JJ big) (NNS blocks)) (PP (IN of) (NP (NN stock))))))))))))))) (, ,) (NP (NNS traders)) (VP (VBP say)) (. .))\"\n",
    "# tree_string = \"(SINV (S (ADVP (RB Once) (RB again)) (-LRB- -LCB-) (NP (DT the) (NNS specialists)) (-RRB- -RCB-) (VP (VBD were) (RB not) (ADJP (JJ able) (S (VP (TO to) (VP (VB handle) (NP (NP (DT the) (NNS imbalances)) (PP (IN on) (NP (NP (DT the) (NN floor)) (PP (IN of) (NP (DT the) (NNP New) (NNP York) (NNP Stock) (NNP Exchange)))))))))))) (, ,) ('' '') (VP (VBD said)) (NP (NP (NNP Christopher) (NNP Pedersen)) (, ,) (NP (NP (JJ senior) (NN vice) (NN president)) (PP (IN at) (NP (NNP Twenty-First) (NNP Securities) (NNP Corp))))) (. .))\"\n",
    "# tree_string = \"(S (NP (NP (NNP Seven) (NNP Big) (NNP Board) (NNS stocks)) (: --) (NP (NP (NNP UAL)) (, ,) (NP (NNP AMR)) (, ,) (NP (NNP BankAmerica)) (, ,) (NP (NNP Walt) (NNP Disney)) (, ,) (NP (NNP Capital) (NNP Cities\\/ABC)) (, ,) (NP (NNP Philip) (NNP Morris)) (CC and) (NP (NNP Pacific) (NNP Telesis) (NNP Group))) (: --)) (VP (VP (VBD stopped) (S (VP (NN trading)))) (CC and) (VP (ADVP (RB never)) (VBD resumed))) (. .))\"\n",
    "# tree_string = \"(S (S (NP (JJ Big) (NN investment) (NNS banks)) (VP (VBD refused) (S (VP (TO to) (VP (VB step) (ADVP (RB up) (PP (TO to) (NP (DT the) (NN plate)))) (S (VP (TO to) (VP (VB support) (NP (DT the) (JJ beleaguered) (NN floor) (NNS traders)) (PP (IN by) (S (VP (VBG buying) (NP (NP (JJ big) (NNS blocks)) (PP (IN of) (NP (NN stock))))))))))))))) (, ,) (NP (NNS traders)) (VP (VBP say)) (. .))\"\n",
    "# tree_string = \"(FRAG (SBAR (IN As) (IN in) (: :) (`` ``) (SQ (NP (PRP You)) (VP (VBD went) (NP (VBG ballooning))) (. ?) (. ?) (. !) (. !))))\"\n",
    "# tree_string = \"(NP (NP (NN Year)) (VP (VBN ended) (NP (NNP Dec.) (CD 31) (, ,) (CD 1988))) (X (NN \\*)))\"\n",
    "tree_string = \"(S (INTJ (RB No)) (, ,) (NP (PRP it)) (VP (VBD was) (RB n't) (NP (NNP Black) (NNP Monday))) (. .))\"\n",
    "\n",
    "Tree.fromstring(tree_string).pretty_print()\n",
    "tetraencoder = C_Tetratag(separator=\"_\", unary_joiner=\"+\", reverse=False, binary_marker=\"~\")\n",
    "gold_tree = C_Tree.from_string(tree_string)\n",
    "lin_tree = tetraencoder.encode(gold_tree)\n",
    "print(\"====================================\")\n",
    "print(lin_tree)\n",
    "print(\"====================================\")\n",
    "decoded_tree = tetraencoder.decode(lin_tree)\n",
    "print(\"[G]\", gold_tree)\n",
    "print(\"[D]\", decoded_tree)\n",
    "print(\"====================================\")\n",
    "Tree.fromstring(str(decoded_tree)).pretty_print()\n",
    "print(\"====================================\")\n",
    "print(\"Do trees match?\",str(decoded_tree) == str(gold_tree))"
   ]
  }
 ],
 "metadata": {
  "kernelspec": {
   "display_name": "tf",
   "language": "python",
   "name": "python3"
  },
  "language_info": {
   "codemirror_mode": {
    "name": "ipython",
    "version": 3
   },
   "file_extension": ".py",
   "mimetype": "text/x-python",
   "name": "python",
   "nbconvert_exporter": "python",
   "pygments_lexer": "ipython3",
   "version": "3.10.9"
  },
  "orig_nbformat": 4
 },
 "nbformat": 4,
 "nbformat_minor": 2
}
