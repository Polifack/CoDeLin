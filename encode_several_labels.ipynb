{
 "cells": [
  {
   "attachments": {},
   "cell_type": "markdown",
   "metadata": {},
   "source": [
    "File to get several label as outputs for the same input (for example)\n",
    "\n",
    "```\n",
    "Word    POS     last_common     n_commons (rel)     n_commons (abs)\n",
    "------------------------------------------------------------------\n",
    "The     Det     NP              -1                  1\n",
    "(...)   (...)   (...)           (...)               (...)\n",
    "```"
   ]
  },
  {
   "attachments": {},
   "cell_type": "markdown",
   "metadata": {},
   "source": [
    "Remark that we employ a separate column for last_common because it is redundant information in comparison to n_commons"
   ]
  },
  {
   "cell_type": "code",
   "execution_count": 6,
   "metadata": {},
   "outputs": [],
   "source": [
    "from codelin.models.const_tree import C_Tree\n",
    "from codelin.encs.constituent import *\n",
    "from codelin.utils.constants import *\n",
    "\n",
    "# Constituent encoding\n",
    "\n",
    "separator=\"_\"\n",
    "unary_joiner=\"+\"\n",
    "\n",
    "\n",
    "encoders = [C_NaiveAbsoluteEncoding(separator=separator, unary_joiner=unary_joiner, reverse=False, binary=False, binary_direction=None, binary_marker=None), \n",
    "            C_NaiveRelativeEncoding(separator=separator, unary_joiner=unary_joiner, reverse=False, binary=False, binary_direction=None, binary_marker=None)]\n",
    "treebank_path = \"/home/poli/Treebanks/const/PENN_TREEBANK/train.trees\"\n",
    "sample_trees = open(treebank_path).readlines()\n",
    "label_set = set()\n",
    "\n",
    "\n",
    "encoded_trees = []\n",
    "for idx, ts in enumerate(sample_trees):\n",
    "    ts = ts.rstrip()\n",
    "    ts = C_Tree.from_string(ts)\n",
    "    current_tree = {\"words\": ts.get_words(), \"postags\": ts.get_postags()}\n",
    "    for enc in encoders:\n",
    "        lc = enc.encode(ts)\n",
    "        current_tree[str(enc)] = lc.labels\n",
    "    encoded_trees.append(current_tree)\n",
    "\n",
    "output_path = \"./output.labels\"\n",
    "with open(output_path, \"w\") as f:\n",
    "    for et in encoded_trees:\n",
    "        for idx, word in enumerate(et[\"words\"]):\n",
    "            f.write(word)\n",
    "            f.write(\"\\t\")\n",
    "            f.write(et[\"postags\"][idx])\n",
    "            for enc in encoders:\n",
    "                f.write(\"\\t\")\n",
    "                f.write(str(et[str(enc)][idx]))\n",
    "            f.write(\"\\n\")\n",
    "        f.write(\"\\n\")"
   ]
  }
 ],
 "metadata": {
  "kernelspec": {
   "display_name": "tf",
   "language": "python",
   "name": "python3"
  },
  "language_info": {
   "codemirror_mode": {
    "name": "ipython",
    "version": 3
   },
   "file_extension": ".py",
   "mimetype": "text/x-python",
   "name": "python",
   "nbconvert_exporter": "python",
   "pygments_lexer": "ipython3",
   "version": "3.10.9"
  },
  "orig_nbformat": 4
 },
 "nbformat": 4,
 "nbformat_minor": 2
}
