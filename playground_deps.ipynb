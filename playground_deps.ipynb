{
 "cells": [
  {
   "attachments": {},
   "cell_type": "markdown",
   "metadata": {},
   "source": [
    "## Dependency Linearization Playground"
   ]
  },
  {
   "cell_type": "code",
   "execution_count": 1,
   "metadata": {},
   "outputs": [
    {
     "name": "stdout",
     "output_type": "stream",
     "text": [
      "0\t-ROOT-\t_\t-ROOT-\t_\t_\t0\t-NOREL-\t_\t_\n",
      "1\tWhat\twhat\tPRON\tWP\t['PronType=Int']\t0\troot\t0:root\t_\n",
      "2\tif\tif\tSCONJ\tIN\t[None]\t4\tmark\t4:mark\t_\n",
      "3\tGoogle\tGoogle\tPROPN\tNNP\t['Number=Sing']\t4\tnsubj\t4:nsubj\t_\n",
      "4\tMorphed\tmorph\tVERB\tVBD\t['Mood=Ind', 'Number=Sing', 'Person=3', 'Tense=Past', 'VerbForm=Fin']\t1\tadvcl\t1:advcl:if\t_\n",
      "5\tInto\tinto\tADP\tIN\t[None]\t6\tcase\t6:case\t_\n",
      "6\tGoogleOS\tGoogleOS\tPROPN\tNNP\t['Number=Sing']\t4\tobl\t4:obl:into\tSpaceAfter=No\n",
      "7\t?\t?\tPUNCT\t.\t[None]\t4\tpunct\t4:punct\t_\n",
      "\n",
      "\n",
      "\\begin{dependency}[theme = simple]\n",
      "\\begin{deptext}[row sep=.25em, column sep=1.5em]\n",
      "$w_i$ \\& -ROOT- \\& What \\& if \\& Google \\& Morphed \\& Into \\& GoogleOS \\& ? \\\\ \n",
      "\\end{deptext}\n",
      "\\depedge{2}{3}{root}\n",
      "\\depedge{6}{4}{mark}\n",
      "\\depedge{6}{5}{nsubj}\n",
      "\\depedge{3}{6}{advcl}\n",
      "\\depedge{8}{7}{case}\n",
      "\\depedge{6}{8}{obl}\n",
      "\\depedge{6}{9}{punct}\n",
      "\\end{dependency}\n",
      "\n"
     ]
    }
   ],
   "source": [
    "from codelin.encs.enc_deps import *\n",
    "from codelin.models.deps_tree import D_Tree\n",
    "from codelin.models.linearized_tree import LinearizedTree\n",
    "\n",
    "deps_treebank = \"/home/poli/Treebanks/deps/UD_ENGLISH_EWT/test.conllu\"\n",
    "trees = D_Tree.read_conllu_file(deps_treebank, filter_projective=True)\n",
    "\n",
    "sample_tree = trees[0]\n",
    "print(sample_tree)\n",
    "print(D_Tree.to_latex(sample_tree))"
   ]
  },
  {
   "attachments": {},
   "cell_type": "markdown",
   "metadata": {},
   "source": [
    "<div style=\"text-align:center\"><img src=\"./pics/notebooks/d_tree_1.png\" /></div>"
   ]
  },
  {
   "attachments": {},
   "cell_type": "markdown",
   "metadata": {},
   "source": [
    "### Encode with 4-bits encoding"
   ]
  },
  {
   "cell_type": "code",
   "execution_count": 2,
   "metadata": {},
   "outputs": [
    {
     "name": "stdout",
     "output_type": "stream",
     "text": [
      "LAS = 1.0\n"
     ]
    }
   ],
   "source": [
    "enc_4b = D_Brk4BitsEncoding(separator=\"_\")\n",
    "lin_tree = enc_4b.encode(sample_tree)\n",
    "dec_tree = enc_4b.decode(lin_tree)\n",
    "print(\"LAS =\",dec_tree.las_score(sample_tree))"
   ]
  },
  {
   "attachments": {},
   "cell_type": "markdown",
   "metadata": {},
   "source": [
    "### Test for all trees"
   ]
  },
  {
   "cell_type": "code",
   "execution_count": 3,
   "metadata": {},
   "outputs": [
    {
     "name": "stdout",
     "output_type": "stream",
     "text": [
      "0 \t\t -ROOT- \t\t 0 \t\t -NOREL-\n",
      "1 \t\t You \t\t 3 \t\t nsubj\n",
      "2 \t\t 'll \t\t 3 \t\t aux\n",
      "3 \t\t have \t\t 0 \t\t root\n",
      "4 \t\t to \t\t 5 \t\t mark\n",
      "5 \t\t drive \t\t 3 \t\t xcomp\n",
      "6 \t\t 10 \t\t 7 \t\t nummod\n",
      "7 \t\t miles \t\t 9 \t\t nmod:npmod\n",
      "8 \t\t down \t\t 9 \t\t case\n",
      "9 \t\t 75 \t\t 5 \t\t obl\n",
      "10 \t\t to \t\t 11 \t\t case\n",
      "11 \t\t Allen \t\t 5 \t\t obl\n",
      "12 \t\t . \t\t 3 \t\t punct\n",
      "=====================================\n",
      "-BOS-\t-BOS-\t-BOS-\n",
      "-ROOT-\t-ROOT-\t/_-NOREL-\n",
      "You\tPRON\t<*_nsubj\n",
      "'ll\tAUX\t<_aux\n",
      "have\tVERB\t\\>*/_root\n",
      "to\tPART\t<*_mark\n",
      "drive\tVERB\t\\>/_xcomp\n",
      "10\tNUM\t<*_nummod\n",
      "miles\tNOUN\t\\<*_nmod:npmod\n",
      "down\tADP\t<_case\n",
      "75\tNUM\t\\>_obl\n",
      "to\tADP\t<*_case\n",
      "Allen\tPROPN\t\\>*_obl\n",
      ".\tPUNCT\t>*_punct\n",
      "-EOS-\t-EOS-\t-EOS-\n",
      "\n",
      "=====================================\n",
      "1 \t\t You \t\t 3 \t\t nsubj\n",
      "2 \t\t 'll \t\t 3 \t\t aux\n",
      "3 \t\t have \t\t 0 \t\t root\n",
      "4 \t\t to \t\t 5 \t\t mark\n",
      "5 \t\t drive \t\t 3 \t\t xcomp\n",
      "6 \t\t 10 \t\t 7 \t\t nummod\n",
      "7 \t\t miles \t\t 9 \t\t nmod:npmod\n",
      "8 \t\t down \t\t 9 \t\t case\n",
      "9 \t\t 75 \t\t 5 \t\t obl\n",
      "10 \t\t to \t\t 11 \t\t case\n",
      "11 \t\t Allen \t\t 5 \t\t obl\n",
      "12 \t\t . \t\t 3 \t\t punct\n",
      "LAS = 1.0\n"
     ]
    }
   ],
   "source": [
    "tree = trees[1816]\n",
    "D_Tree.short_print(tree)\n",
    "lin_tree = enc_4b.encode(tree)\n",
    "print(\"=====================================\")\n",
    "print(lin_tree)\n",
    "print(\"=====================================\")\n",
    "dec_tree = enc_4b.decode(lin_tree)\n",
    "D_Tree.short_print(dec_tree)\n",
    "print(\"LAS =\",dec_tree.las_score(tree))"
   ]
  },
  {
   "cell_type": "code",
   "execution_count": 5,
   "metadata": {},
   "outputs": [],
   "source": [
    "enc_4b = D_Brk4BitsEncoding(separator=\"_\")\n",
    "for i, sample_tree in enumerate(trees):\n",
    "    lin_tree = enc_4b.encode(sample_tree)\n",
    "    dec_tree = enc_4b.decode(lin_tree)\n",
    "    las = dec_tree.las_score(sample_tree)\n",
    "    \n",
    "    if las != 1:\n",
    "        print(\"Error at tree\",i,\"length\",len(sample_tree))\n",
    "        print(\"LAS =\",dec_tree.las_score(sample_tree))"
   ]
  }
 ],
 "metadata": {
  "kernelspec": {
   "display_name": "tf",
   "language": "python",
   "name": "python3"
  },
  "language_info": {
   "codemirror_mode": {
    "name": "ipython",
    "version": 3
   },
   "file_extension": ".py",
   "mimetype": "text/x-python",
   "name": "python",
   "nbconvert_exporter": "python",
   "pygments_lexer": "ipython3",
   "version": "3.10.9"
  },
  "orig_nbformat": 4
 },
 "nbformat": 4,
 "nbformat_minor": 2
}
