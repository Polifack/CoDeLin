{
 "cells": [
  {
   "attachments": {},
   "cell_type": "markdown",
   "metadata": {},
   "source": [
    "## Dependency Linearization Playground"
   ]
  },
  {
   "cell_type": "code",
   "execution_count": null,
   "metadata": {},
   "outputs": [],
   "source": [
    "from codelin.encs.enc_deps import *\n",
    "from codelin.models.deps_tree import D_Tree\n",
    "from codelin.models.linearized_tree import LinearizedTree\n",
    "\n",
    "deps_treebank = \"./ptb-dev.conllx\"\n",
    "trees = D_Tree.read_conllu_file(deps_treebank, filter_projective=True)\n",
    "\n",
    "sample_tree = trees[0]\n",
    "print(sample_tree)\n",
    "print(D_Tree.to_latex(sample_tree))"
   ]
  },
  {
   "attachments": {},
   "cell_type": "markdown",
   "metadata": {},
   "source": [
    "<div style=\"text-align:center\"><img src=\"./pics/notebooks/d_tree_1.png\" /></div>"
   ]
  },
  {
   "attachments": {},
   "cell_type": "markdown",
   "metadata": {},
   "source": [
    "### Encode with 4-bits encoding"
   ]
  },
  {
   "cell_type": "code",
   "execution_count": null,
   "metadata": {},
   "outputs": [],
   "source": [
    "enc_4b = D_Brk4BitsEncoding(separator=\"_\")\n",
    "lin_tree = enc_4b.encode(sample_tree)\n",
    "print(lin_tree)\n",
    "dec_tree = enc_4b.decode(lin_tree)\n",
    "print(\"LAS =\",dec_tree.las_score(sample_tree))"
   ]
  },
  {
   "attachments": {},
   "cell_type": "markdown",
   "metadata": {},
   "source": [
    "### Test for all trees"
   ]
  },
  {
   "cell_type": "code",
   "execution_count": null,
   "metadata": {},
   "outputs": [],
   "source": [
    "enc_4b = D_Brk4BitsEncoding(separator=\"_\")\n",
    "for i, sample_tree in enumerate(trees):\n",
    "    lin_tree = enc_4b.encode(sample_tree)\n",
    "    dec_tree = enc_4b.decode(lin_tree)\n",
    "    las = dec_tree.las_score(sample_tree)\n",
    "    \n",
    "    if las != 1:\n",
    "        print(\"Error at tree\",i,\"length\",len(sample_tree))\n",
    "        print(\"LAS =\",dec_tree.las_score(sample_tree))"
   ]
  },
  {
   "attachments": {},
   "cell_type": "markdown",
   "metadata": {},
   "source": [
    "### Planar extraction"
   ]
  },
  {
   "cell_type": "code",
   "execution_count": null,
   "metadata": {},
   "outputs": [],
   "source": [
    "from codelin.encs.enc_deps import *\n",
    "from codelin.models.deps_tree import D_Tree\n",
    "import os\n",
    "import pandas as pd\n",
    "\n",
    "# read all folders\n",
    "ud_path=\"/home/poli/Treebanks/gold/universal_dependencies/\"\n",
    "ud_folders = [os.path.join(ud_path, f) for f in os.listdir(ud_path) if os.path.isdir(os.path.join(ud_path, f))]\n",
    "results_df = pd.DataFrame(columns=[\"treebank\",\"n_trees\",\"planarity\"])\n",
    "\n",
    "for ud_folder in ud_folders:\n",
    "    treebank_name = (ud_folder.split(\"/\")[-1])\n",
    "    \n",
    "    # get all conllu files in ud_folder\n",
    "    conllu_files = [os.path.join(ud_folder, f) for f in os.listdir(ud_folder) if f.endswith(\".conllu\")]\n",
    "    total_trees = []\n",
    "    for conllu_file in conllu_files:\n",
    "        deps_treebank = os.path.join(ud_folder, conllu_file)\n",
    "        trees = D_Tree.read_conllu_file(deps_treebank, filter_projective=False)\n",
    "        total_trees += trees\n",
    "    \n",
    "    plan_perc = D_Tree.get_planarity_percentage(total_trees)\n",
    "    results_df = pd.concat([results_df, pd.DataFrame([[treebank_name, len(total_trees), plan_perc[0]]], columns=[\"treebank\",\"n_trees\",\"planarity\"])], ignore_index=True)\n",
    "\n",
    "results_df.sort_values(by=[\"planarity\"], ascending=False)\n",
    "results_df[\"treebank\"] = results_df[\"treebank\"].apply(lambda x: \"${}$\".format(x))\n",
    "print(results_df.sort_values(by=[\"planarity\"], ascending=False).to_latex(index=False))"
   ]
  },
  {
   "cell_type": "code",
   "execution_count": 6,
   "metadata": {},
   "outputs": [],
   "source": [
    "import json\n",
    "\n",
    "config_singletask = {\n",
    "    \"dependency\":{\n",
    "        \"train_data_path\":\"XXX\",\n",
    "        \"dev_data_path\":\"XXX\",\n",
    "        \"word_idx\":0,\n",
    "        \"tasks\":{\n",
    "            \"label\":{\n",
    "                \"task_type\":\"seq\",\n",
    "                \"column_idx\":2\n",
    "            }\n",
    "        }\n",
    "    }\n",
    "}\n",
    "\n",
    "config_multitask = {\n",
    "    \"dependency\":{\n",
    "        \"train_data_path\":\"XXX\",\n",
    "        \"dev_data_path\":\"XXX\",\n",
    "        \"word_idx\":0,\n",
    "        \"tasks\":{\n",
    "            \"brk\":{\n",
    "                \"task_type\":\"seq\",\n",
    "                \"column_idx\":2\n",
    "            },\n",
    "            \"reltype\":{\n",
    "                \"task_type\":\"seq\",\n",
    "                \"column_idx\":3\n",
    "            }\n",
    "        }\n",
    "    }\n",
    "}"
   ]
  },
  {
   "cell_type": "code",
   "execution_count": 7,
   "metadata": {},
   "outputs": [
    {
     "name": "stdout",
     "output_type": "stream",
     "text": [
      "[INFO] Processing /home/poli/Treebanks/20ag/UD_Finnish-TDT\n",
      "[INFO] Processing /home/poli/Treebanks/20ag/PTB\n",
      "[INFO] Processing /home/poli/Treebanks/20ag/UD_Wolof-WTB\n",
      "[INFO] Processing /home/poli/Treebanks/20ag/UD_Ancient_Greek-Perseus\n",
      "[INFO] Processing /home/poli/Treebanks/20ag/UD_English-EWT\n",
      "[INFO] Processing /home/poli/Treebanks/20ag/UD_Chinese-GSD\n",
      "[INFO] Processing /home/poli/Treebanks/20ag/UD_Russian-GSD\n",
      "[INFO] Processing /home/poli/Treebanks/20ag/UD_Tamil-TTB\n",
      "[INFO] Processing /home/poli/Treebanks/20ag/UD_German-GSD\n",
      "[INFO] Processing /home/poli/Treebanks/20ag/UD_Hebrew-HTB\n",
      "[INFO] Processing /home/poli/Treebanks/20ag/UD_Uyghur-UDT\n",
      "[INFO] Processing /home/poli/Treebanks/20ag/UD_Finnish-TDT\n",
      "[INFO] Processing /home/poli/Treebanks/20ag/PTB\n",
      "[INFO] Processing /home/poli/Treebanks/20ag/UD_Wolof-WTB\n",
      "[INFO] Processing /home/poli/Treebanks/20ag/UD_Ancient_Greek-Perseus\n",
      "[INFO] Processing /home/poli/Treebanks/20ag/UD_English-EWT\n",
      "[INFO] Processing /home/poli/Treebanks/20ag/UD_Chinese-GSD\n",
      "[INFO] Processing /home/poli/Treebanks/20ag/UD_Russian-GSD\n",
      "[INFO] Processing /home/poli/Treebanks/20ag/UD_Tamil-TTB\n",
      "[INFO] Processing /home/poli/Treebanks/20ag/UD_German-GSD\n",
      "[INFO] Processing /home/poli/Treebanks/20ag/UD_Hebrew-HTB\n",
      "[INFO] Processing /home/poli/Treebanks/20ag/UD_Uyghur-UDT\n"
     ]
    }
   ],
   "source": [
    "from codelin.encs.enc_deps import *\n",
    "from codelin.models.deps_tree import D_Tree\n",
    "import os\n",
    "\n",
    "ag20_path=\"/home/poli/Treebanks/20ag/\"\n",
    "ag20_folders = [os.path.join(ag20_path, f) for f in os.listdir(ag20_path) if os.path.isdir(os.path.join(ag20_path, f))]\n",
    "mtl = [True, False]\n",
    "encoder = D_Brk4BitsEncoding(separator=\"[_]\")\n",
    "\n",
    "for t in mtl:\n",
    "    for ag20_folder in ag20_folders:\n",
    "        print(\"[INFO] Processing\",ag20_folder)\n",
    "        # get all conllu files\n",
    "        treebank_name = (ag20_folder.split(\"/\")[-1])\n",
    "        conllu_files = [os.path.join(ag20_folder, f) for f in os.listdir(ag20_folder) if (f.endswith(\".conllu\"))]\n",
    "        \n",
    "        train_file = None\n",
    "        dev_file = None\n",
    "\n",
    "        # encode\n",
    "        for conllu_file in conllu_files:\n",
    "            deps_treebank = os.path.join(ag20_folder, conllu_file)\n",
    "            output_file = os.path.join(ag20_folder, conllu_file)\n",
    "            target_extension = \"_st.labels\" if not t else \"_mtl.labels\"\n",
    "            output_file = output_file.replace(\".conllu\", target_extension)  \n",
    "            \n",
    "            if \"train\" in output_file:\n",
    "                train_file = output_file\n",
    "            elif \"dev\" in output_file:\n",
    "                dev_file = output_file\n",
    "                \n",
    "            trees = D_Tree.read_conllu_file(deps_treebank, filter_projective=False)\n",
    "\n",
    "            with open(output_file, \"w\") as f:\n",
    "                for tree in trees:\n",
    "                    lin_tree = encoder.encode(tree)\n",
    "                    f.write(lin_tree.to_string(None, True, t) +\"\\n\")\n",
    "        \n",
    "        current_config = config_singletask.copy()\n",
    "        current_config[\"dependency\"][\"train_data_path\"] = train_file\n",
    "        current_config[\"dependency\"][\"dev_data_path\"] = dev_file\n",
    "\n",
    "        config_name = \"config_st.json\" if not t else \"config_mtl.json\"\n",
    "        with open(os.path.join(ag20_folder, config_name), \"w\") as f:\n",
    "            json.dump(current_config, f, indent=4)"
   ]
  }
 ],
 "metadata": {
  "kernelspec": {
   "display_name": "tf",
   "language": "python",
   "name": "python3"
  },
  "language_info": {
   "codemirror_mode": {
    "name": "ipython",
    "version": 3
   },
   "file_extension": ".py",
   "mimetype": "text/x-python",
   "name": "python",
   "nbconvert_exporter": "python",
   "pygments_lexer": "ipython3",
   "version": "3.10.9"
  },
  "orig_nbformat": 4
 },
 "nbformat": 4,
 "nbformat_minor": 2
}
