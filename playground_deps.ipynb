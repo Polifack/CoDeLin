{
 "cells": [
  {
   "attachments": {},
   "cell_type": "markdown",
   "metadata": {},
   "source": [
    "## Dependency Linearization Playground"
   ]
  },
  {
   "cell_type": "code",
   "execution_count": 1,
   "metadata": {},
   "outputs": [],
   "source": [
    "from codelin.encs.enc_deps import *\n",
    "from codelin.utils.constants import *\n",
    "from codelin.models.deps_tree import D_Tree\n",
    "from codelin.models.linearized_tree import LinearizedTree"
   ]
  },
  {
   "attachments": {},
   "cell_type": "markdown",
   "metadata": {},
   "source": [
    "### Deps2Latex"
   ]
  },
  {
   "cell_type": "code",
   "execution_count": 2,
   "metadata": {},
   "outputs": [
    {
     "name": "stdout",
     "output_type": "stream",
     "text": [
      "0\t-ROOT-\t_\t-ROOT-\t_\t_\t0\t-NOREL-\t_\t_\n",
      "1\tWhat\twhat\tPRON\tWP\t['PronType=Int']\t0\troot\t0:root\t_\n",
      "2\tif\tif\tSCONJ\tIN\t[None]\t4\tmark\t4:mark\t_\n",
      "3\tGoogle\tGoogle\tPROPN\tNNP\t['Number=Sing']\t4\tnsubj\t4:nsubj\t_\n",
      "4\tMorphed\tmorph\tVERB\tVBD\t['Mood=Ind', 'Number=Sing', 'Person=3', 'Tense=Past', 'VerbForm=Fin']\t1\tadvcl\t1:advcl:if\t_\n",
      "5\tInto\tinto\tADP\tIN\t[None]\t6\tcase\t6:case\t_\n",
      "6\tGoogleOS\tGoogleOS\tPROPN\tNNP\t['Number=Sing']\t4\tobl\t4:obl:into\tSpaceAfter=No\n",
      "7\t?\t?\tPUNCT\t.\t[None]\t4\tpunct\t4:punct\t_\n",
      "\n",
      "\n",
      "\\begin{dependency}[theme = simple]\n",
      "\\begin{deptext}[row sep=.25em, column sep=1.5em]\n",
      "$i$ \\& 0 \\& 1 \\& 2 \\& 3 \\& 4 \\& 5 \\& 6 \\& 7 \\\\ \n",
      "$w_i$ \\& -ROOT- \\& What \\& if \\& Google \\& Morphed \\& Into \\& GoogleOS \\& ? \\\\ \n",
      "\\end{deptext}\n",
      "\\depedge{2}{3}{root}\n",
      "\\depedge{6}{4}{mark}\n",
      "\\depedge{6}{5}{nsubj}\n",
      "\\depedge{3}{6}{advcl}\n",
      "\\depedge{8}{7}{case}\n",
      "\\depedge{6}{8}{obl}\n",
      "\\depedge{6}{9}{punct}\n",
      "\\end{dependency}\n",
      "\n"
     ]
    }
   ],
   "source": [
    "deps_treebank = \"/home/poli/Treebanks/deps/UD_ENGLISH_EWT/test.conllu\"\n",
    "trees = D_Tree.read_conllu_file(deps_treebank, filter_projective=True)\n",
    "\n",
    "sample_tree = trees[0]\n",
    "print(sample_tree)\n",
    "print(D_Tree.to_latex(sample_tree))"
   ]
  },
  {
   "attachments": {},
   "cell_type": "markdown",
   "metadata": {},
   "source": [
    "<div style=\"text-align:center\"><img src=\"./pics/notebooks/d_tree_1.png\" /></div>"
   ]
  },
  {
   "attachments": {},
   "cell_type": "markdown",
   "metadata": {},
   "source": [
    "### Encode a whole treebank"
   ]
  },
  {
   "cell_type": "code",
   "execution_count": 3,
   "metadata": {},
   "outputs": [
    {
     "name": "stdout",
     "output_type": "stream",
     "text": [
      "Error at tree 512 w/ length 23\n",
      "LAS = 0.8636363636363636\n",
      "Error at tree 3270 w/ length 14\n",
      "LAS = 0.7692307692307693\n",
      "Error at tree 6172 w/ length 44\n",
      "LAS = 0.9302325581395349\n",
      "Error at tree 12613 w/ length 52\n",
      "LAS = 0.9411764705882353\n",
      "Error at tree 13145 w/ length 8\n",
      "LAS = 0.42857142857142855\n",
      "Error at tree 15627 w/ length 27\n",
      "LAS = 0.8846153846153846\n",
      "Total errors: 6\n"
     ]
    }
   ],
   "source": [
    "deps_treebank = \"/home/poli/Treebanks/deps/UD_ENGLISH_EWT/total.conllu\"\n",
    "trees = D_Tree.read_conllu_file(deps_treebank, filter_projective = False)\n",
    "\n",
    "encoder = D_Brk7BitsEncoding(separator = \"_\", planar_alg = D_2P_PROP)\n",
    "#encoder = D_Brk2PBasedEncoding(separator = \"_\", planar_alg = D_2P_PROP, displacement=False)\n",
    "err_count = 0\n",
    "for i, sample_tree in enumerate(trees):\n",
    "    lin_tree = encoder.encode(sample_tree)\n",
    "    dec_tree = encoder.decode(lin_tree)\n",
    "    las = dec_tree.las_score(sample_tree)\n",
    "    \n",
    "    if las != 1:\n",
    "        print(\"Error at tree\",i,\"w/ length\",len(sample_tree))\n",
    "        print(\"LAS =\",dec_tree.las_score(sample_tree))\n",
    "        err_count += 1\n",
    "\n",
    "print(\"Total errors:\",err_count)\n",
    "\n"
   ]
  }
 ],
 "metadata": {
  "kernelspec": {
   "display_name": "tf",
   "language": "python",
   "name": "python3"
  },
  "language_info": {
   "codemirror_mode": {
    "name": "ipython",
    "version": 3
   },
   "file_extension": ".py",
   "mimetype": "text/x-python",
   "name": "python",
   "nbconvert_exporter": "python",
   "pygments_lexer": "ipython3",
   "version": "3.10.9"
  },
  "orig_nbformat": 4
 },
 "nbformat": 4,
 "nbformat_minor": 2
}
