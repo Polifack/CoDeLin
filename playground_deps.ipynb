{
 "cells": [
  {
   "attachments": {},
   "cell_type": "markdown",
   "metadata": {},
   "source": [
    "## Dependency Linearization Playground"
   ]
  },
  {
   "attachments": {},
   "cell_type": "markdown",
   "metadata": {},
   "source": [
    "### Dependencies to latex"
   ]
  },
  {
   "cell_type": "code",
   "execution_count": 3,
   "metadata": {},
   "outputs": [
    {
     "name": "stdout",
     "output_type": "stream",
     "text": [
      "0\t-ROOT-\t_\t-ROOT-\t_\t_\t0\t-NOREL-\t_\t_\n",
      "1\tRetailer\t_\tNN\tNN\t[None]\t2\tnsubj\t_\t_\n",
      "2\tSees\t_\tVBZ\tVBZ\t[None]\t0\troot\t_\t_\n",
      "3\tPitfalls\t_\tNNP\tNNP\t[None]\t2\tdobj\t_\t_\n",
      "4\tIn\t_\tNNP\tNNP\t[None]\t2\tprep\t_\t_\n",
      "5\tEnvironmental\t_\tNNP\tNNP\t[None]\t6\tamod\t_\t_\n",
      "6\tPush\t_\tVB\tVB\t[None]\t4\tpobj\t_\t_\n",
      "\n",
      "\n",
      "\\begin{dependency}[theme = simple]\n",
      "\\begin{deptext}[row sep=.25em, column sep=1.5em]\n",
      "$i$ \\& 0 \\& 1 \\& 2 \\& 3 \\& 4 \\& 5 \\& 6 \\\\ \n",
      "$w_i$ \\& -ROOT- \\& Retailer \\& Sees \\& Pitfalls \\& In \\& Environmental \\& Push \\\\ \n",
      "\\end{deptext}\n",
      "\\depedge{4}{3}{nsubj}\n",
      "\\depedge{2}{4}{root}\n",
      "\\depedge{4}{5}{dobj}\n",
      "\\depedge{4}{6}{prep}\n",
      "\\depedge{8}{7}{amod}\n",
      "\\depedge{6}{8}{pobj}\n",
      "\\end{dependency}\n",
      "\n"
     ]
    }
   ],
   "source": [
    "from codelin.encs.enc_deps import *\n",
    "from codelin.models.deps_tree import D_Tree\n",
    "\n",
    "# ptb-dev path\n",
    "deps_treebank = \"/home/droca1/Treebanks/20ag/Penn-Treebank/ptb-dev.conllu\"\n",
    "trees = D_Tree.read_conllu_file(deps_treebank, filter_projective=True)\n",
    "\n",
    "sample_tree=trees[554]\n",
    "print(sample_tree)\n",
    "print(D_Tree.to_latex(sample_tree))"
   ]
  },
  {
   "attachments": {},
   "cell_type": "markdown",
   "metadata": {},
   "source": [
    "<div style=\"text-align:center\"><img src=\"./pics/notebooks/d_tree_1.png\" /></div>"
   ]
  },
  {
   "attachments": {},
   "cell_type": "markdown",
   "metadata": {},
   "source": [
    "### Encode with 4-bits encoding"
   ]
  },
  {
   "cell_type": "code",
   "execution_count": null,
   "metadata": {},
   "outputs": [],
   "source": [
    "enc_4b = D_Brk4BitsEncoding(separator=\"_\")\n",
    "lin_tree = enc_4b.encode(sample_tree)\n",
    "print(lin_tree)\n",
    "dec_tree = enc_4b.decode(lin_tree)\n",
    "print(\"LAS =\",dec_tree.las_score(sample_tree))"
   ]
  },
  {
   "cell_type": "code",
   "execution_count": null,
   "metadata": {},
   "outputs": [],
   "source": [
    "enc_4b = D_Brk4BitsEncoding(separator=\"_\")\n",
    "for i, sample_tree in enumerate(trees):\n",
    "    lin_tree = enc_4b.encode(sample_tree)\n",
    "    dec_tree = enc_4b.decode(lin_tree)\n",
    "    las = dec_tree.las_score(sample_tree)\n",
    "    \n",
    "    if las != 1:\n",
    "        print(\"Error at tree\",i,\"length\",len(sample_tree))\n",
    "        print(\"LAS =\",dec_tree.las_score(sample_tree))"
   ]
  },
  {
   "attachments": {},
   "cell_type": "markdown",
   "metadata": {},
   "source": [
    "### Planar extraction for all UD Trees"
   ]
  },
  {
   "cell_type": "code",
   "execution_count": 2,
   "metadata": {},
   "outputs": [
    {
     "name": "stdout",
     "output_type": "stream",
     "text": [
      "\\begin{tabular}{llrrrr}\n",
      "\\toprule\n",
      "                treebank & n\\_trees &  planarity &   r\\_deps &   l\\_deps &  avg\\_dependants \\\\\n",
      "\\midrule\n",
      "           PENN-TREEBANK &   43948 &   0.998953 & 0.487397 & 0.512603 &        2.295559 \\\\\n",
      "           UD-Hebrew-HTB &    6143 &   0.987140 & 0.463491 & 0.536509 &        2.301833 \\\\\n",
      "            UD-Tamil-TTB &     600 &   0.983333 & 0.685628 & 0.314372 &        2.262076 \\\\\n",
      "          UD-English-EWT &   16622 &   0.972747 & 0.572834 & 0.427166 &        2.530780 \\\\\n",
      "            UD-Wolof-WTB &    2107 &   0.970100 & 0.482173 & 0.517827 &        2.519338 \\\\\n",
      "          UD-Chinese-GSD &    4997 &   0.969382 & 0.616777 & 0.383223 &        2.426972 \\\\\n",
      "          UD-Russian-GSD &    5030 &   0.938767 & 0.490234 & 0.509766 &        2.263321 \\\\\n",
      "          UD-Finnish-TDT &   15136 &   0.938689 & 0.528854 & 0.471146 &        2.365725 \\\\\n",
      "           UD-Uyghur-UDT &    3456 &   0.918403 & 0.667189 & 0.332811 &        2.216945 \\\\\n",
      "           UD-German-GSD &   15590 &   0.906671 & 0.606649 & 0.393351 &        2.590553 \\\\\n",
      "UD-Ancient-Greek-Perseus &   13919 &   0.376679 & 0.528112 & 0.471888 &        2.447137 \\\\\n",
      "\\bottomrule\n",
      "\\end{tabular}\n",
      "\n"
     ]
    },
    {
     "name": "stderr",
     "output_type": "stream",
     "text": [
      "/tmp/ipykernel_74670/3730994995.py:29: FutureWarning: In future versions `DataFrame.to_latex` is expected to utilise the base implementation of `Styler.to_latex` for formatting and rendering. The arguments signature may therefore change. It is recommended instead to use `DataFrame.style.to_latex` which also contains additional functionality.\n",
      "  print(results_df.sort_values(by=[\"planarity\"], ascending=False).to_latex(index=False))\n"
     ]
    }
   ],
   "source": [
    "from codelin.encs.enc_deps import *\n",
    "from codelin.models.deps_tree import D_Tree\n",
    "import os\n",
    "import pandas as pd\n",
    "\n",
    "# read all folders\n",
    "ud_path=\"/home/droca1/Treebanks/20ag/\"\n",
    "ud_folders = [os.path.join(ud_path, f) for f in os.listdir(ud_path) if os.path.isdir(os.path.join(ud_path, f))]\n",
    "results_df = pd.DataFrame(columns=[\"treebank\",\"n_trees\",\"planarity\",\"r_deps\",\"l_deps\",\"avg_dependants\"])\n",
    "\n",
    "for ud_folder in ud_folders:\n",
    "    treebank_name = (ud_folder.split(\"/\")[-1]).replace(\"_\",\"-\")\n",
    "    \n",
    "    # get all conllu files in ud_folder\n",
    "    conllu_files = [os.path.join(ud_folder, f) for f in os.listdir(ud_folder) if f.endswith(\".conllu\")]\n",
    "    total_trees = []\n",
    "    for conllu_file in conllu_files:\n",
    "        deps_treebank = os.path.join(ud_folder, conllu_file)\n",
    "        trees = D_Tree.read_conllu_file(deps_treebank, filter_projective=False)\n",
    "        total_trees += trees\n",
    "    \n",
    "    plan_perc = D_Tree.get_planarity_percentage(total_trees)\n",
    "    r_deps, l_deps = D_Tree.get_dependency_direction_percentage(total_trees)\n",
    "    avg_dependants = D_Tree.get_avg_dependants(total_trees)\n",
    "    results_df = pd.concat([results_df, pd.DataFrame([[treebank_name, len(total_trees), plan_perc[0], r_deps, l_deps, avg_dependants]], \n",
    "                                                     columns=[\"treebank\",\"n_trees\",\"planarity\",\"r_deps\",\"l_deps\",\"avg_dependants\"])], ignore_index=True)\n",
    "\n",
    "results_df.sort_values(by=[\"planarity\"], ascending=False)\n",
    "print(results_df.sort_values(by=[\"planarity\"], ascending=False).to_latex(index=False))"
   ]
  },
  {
   "attachments": {},
   "cell_type": "markdown",
   "metadata": {},
   "source": [
    "### Clean multi-expression lines from CONLLU files"
   ]
  },
  {
   "cell_type": "code",
   "execution_count": 5,
   "metadata": {},
   "outputs": [
    {
     "name": "stdout",
     "output_type": "stream",
     "text": [
      "[INFO] Processing /home/droca1/Treebanks/20ag/UD_Russian-GSD\n",
      "[INFO] Processing /home/droca1/Treebanks/20ag/UD_Finnish-TDT\n",
      "[INFO] Processing /home/droca1/Treebanks/20ag/UD_German-GSD\n",
      "[INFO] Processing /home/droca1/Treebanks/20ag/UD_Ancient_Greek-Perseus\n",
      "[INFO] Processing /home/droca1/Treebanks/20ag/UD_Chinese-GSD\n",
      "[INFO] Processing /home/droca1/Treebanks/20ag/Penn-Treebank\n",
      "[INFO] Processing /home/droca1/Treebanks/20ag/UD_Hebrew-HTB\n",
      "[INFO] Processing /home/droca1/Treebanks/20ag/UD_Tamil-TTB\n",
      "[INFO] Processing /home/droca1/Treebanks/20ag/UD_Uyghur-UDT\n",
      "[INFO] Processing /home/droca1/Treebanks/20ag/UD_Wolof-WTB\n",
      "[INFO] Processing /home/droca1/Treebanks/20ag/UD_English-EWT\n"
     ]
    }
   ],
   "source": [
    "from codelin.encs.enc_deps import *\n",
    "from codelin.models.deps_tree import D_Tree\n",
    "import os\n",
    "import re\n",
    "\n",
    "ag20_path=\"/home/droca1/Treebanks/20ag/\"\n",
    "ag20_folders = [os.path.join(ag20_path, f) for f in os.listdir(ag20_path) if os.path.isdir(os.path.join(ag20_path, f))]\n",
    "mtl = [True, False]\n",
    "encoder = D_Brk4BitsEncoding(separator=\"[_]\")\n",
    "\n",
    "\n",
    "for ag20_folder in ag20_folders:\n",
    "    # remove all -clean files\n",
    "    os.system(\"rm {}/*-clean.conllu\".format(ag20_folder))\n",
    "\n",
    "    print(\"[INFO] Processing\",ag20_folder)\n",
    "    # get all conllu files\n",
    "    treebank_name = (ag20_folder.split(\"/\")[-1])\n",
    "    conllu_files = [os.path.join(ag20_folder, f) for f in os.listdir(ag20_folder) if (f.endswith(\".conllu\"))]\n",
    "    \n",
    "    train_file = None\n",
    "    dev_file = None\n",
    "\n",
    "    # encode\n",
    "    for conllu_file in conllu_files:\n",
    "        deps_treebank = os.path.join(ag20_folder, conllu_file)\n",
    "        output_file = os.path.join(ag20_folder, conllu_file)\n",
    "        target_extension = \"-clean.conllu\"\n",
    "        output_file = output_file.replace(\".conllu\", target_extension)\n",
    "        \n",
    "        with open(deps_treebank, \"r\") as f:\n",
    "            lines = f.readlines()\n",
    "        \n",
    "        with open(deps_treebank, \"w\") as f:\n",
    "            for line in lines:\n",
    "                if re.match(r\"^\\d+-.*\", line):\n",
    "                    continue\n",
    "                f.write(line)"
   ]
  },
  {
   "attachments": {},
   "cell_type": "markdown",
   "metadata": {},
   "source": [
    "### Encode and generate machamp config for training"
   ]
  },
  {
   "cell_type": "code",
   "execution_count": 4,
   "metadata": {},
   "outputs": [
    {
     "name": "stdout",
     "output_type": "stream",
     "text": [
      "[INFO] Processing /home/droca1/Treebanks/20ag/UD_Russian-GSD\n",
      "[INFO] Processing /home/droca1/Treebanks/20ag/UD_Finnish-TDT\n",
      "[INFO] Processing /home/droca1/Treebanks/20ag/UD_German-GSD\n",
      "[INFO] Processing /home/droca1/Treebanks/20ag/PENN_TREEBANK\n",
      "[INFO] Processing /home/droca1/Treebanks/20ag/UD_Ancient_Greek-Perseus\n",
      "[INFO] Processing /home/droca1/Treebanks/20ag/UD_Chinese-GSD\n",
      "[INFO] Processing /home/droca1/Treebanks/20ag/UD_Hebrew-HTB\n",
      "[INFO] Processing /home/droca1/Treebanks/20ag/UD_Tamil-TTB\n",
      "[INFO] Processing /home/droca1/Treebanks/20ag/UD_Uyghur-UDT\n",
      "[INFO] Processing /home/droca1/Treebanks/20ag/UD_Wolof-WTB\n",
      "[INFO] Processing /home/droca1/Treebanks/20ag/UD_English-EWT\n"
     ]
    }
   ],
   "source": [
    "from codelin.encs.enc_deps import *\n",
    "from codelin.models.deps_tree import D_Tree\n",
    "import os\n",
    "\n",
    "import json\n",
    "\n",
    "config_singletask = {\n",
    "    \"dependency\":{\n",
    "        \"train_data_path\":\"XXX\",\n",
    "        \"dev_data_path\":\"XXX\",\n",
    "        \"word_idx\":0,\n",
    "        \"tasks\":{\n",
    "            \"label\":{\n",
    "                \"task_type\":\"seq\",\n",
    "                \"column_idx\":2\n",
    "            }\n",
    "        }\n",
    "    }\n",
    "}\n",
    "\n",
    "config_multitask = {\n",
    "    \"dependency\":{\n",
    "        \"train_data_path\":\"XXX\",\n",
    "        \"dev_data_path\":\"XXX\",\n",
    "        \"word_idx\":0,\n",
    "        \"tasks\":{\n",
    "            \"brk\":{\n",
    "                \"task_type\":\"seq\",\n",
    "                \"column_idx\":2\n",
    "            },\n",
    "            \"reltype\":{\n",
    "                \"task_type\":\"seq\",\n",
    "                \"column_idx\":3\n",
    "            }\n",
    "        }\n",
    "    }\n",
    "}\n",
    "\n",
    "ag20_path=\"/home/droca1/Treebanks/20ag/\"\n",
    "ag20_folders = [os.path.join(ag20_path, f) for f in os.listdir(ag20_path)]\n",
    "mtl = [True, False]\n",
    "\n",
    "encoder = D_Brk7BitsEncoding(separator=\"[_]\")\n",
    "encoder = D_Brk2PBasedEncoding(separator=\"[_]\")\n",
    "\n",
    "for ag20_folder in ag20_folders:\n",
    "    print(\"[INFO] Processing\",ag20_folder)\n",
    "    # get all conllu files\n",
    "    treebank_name = (ag20_folder.split(\"/\")[-1])\n",
    "    conllu_files = [os.path.join(ag20_folder, f) for f in os.listdir(ag20_folder) if (f.endswith(\".conllu\"))]\n",
    "    \n",
    "    train_file = None\n",
    "    dev_file = None\n",
    "\n",
    "    # encode\n",
    "    for conllu_file in conllu_files:\n",
    "        deps_treebank = os.path.join(ag20_folder, conllu_file)\n",
    "        output_file = os.path.join(ag20_folder, conllu_file)\n",
    "        target_extension = \".labels\"\n",
    "        output_file = output_file.replace(\".conllu\", target_extension)  \n",
    "        \n",
    "        if \"train\" in output_file:\n",
    "            train_file = output_file\n",
    "        elif \"dev\" in output_file:\n",
    "            dev_file = output_file\n",
    "            \n",
    "        trees = D_Tree.read_conllu_file(deps_treebank, filter_projective=False)\n",
    "\n",
    "        with open(output_file, \"w\") as f:\n",
    "            for tree in trees:\n",
    "                lin_tree = encoder.encode(tree)\n",
    "                f.write(lin_tree.to_string(f_idx_dict=None, add_bos_eos=True, separate_columns=True) +\"\\n\")\n",
    "    \n",
    "    current_config = config_multitask.copy()\n",
    "    current_config[\"dependency\"][\"train_data_path\"] = train_file.replace('droca1', 'diego.roca')\n",
    "    current_config[\"dependency\"][\"dev_data_path\"] = dev_file.replace('droca1', 'diego.roca')\n",
    "\n",
    "    config_name = \"config.json\"\n",
    "    with open(os.path.join(ag20_folder, config_name), \"w\") as f:\n",
    "        json.dump(current_config, f, indent=4)"
   ]
  }
 ],
 "metadata": {
  "kernelspec": {
   "display_name": "tf",
   "language": "python",
   "name": "python3"
  },
  "language_info": {
   "codemirror_mode": {
    "name": "ipython",
    "version": 3
   },
   "file_extension": ".py",
   "mimetype": "text/x-python",
   "name": "python",
   "nbconvert_exporter": "python",
   "pygments_lexer": "ipython3",
   "version": "3.10.9"
  },
  "orig_nbformat": 4
 },
 "nbformat": 4,
 "nbformat_minor": 2
}
