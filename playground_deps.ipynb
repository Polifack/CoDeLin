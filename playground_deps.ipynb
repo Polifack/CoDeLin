{
 "cells": [
  {
   "attachments": {},
   "cell_type": "markdown",
   "metadata": {},
   "source": [
    "## Dependency Linearization Playground"
   ]
  },
  {
   "cell_type": "code",
   "execution_count": 1,
   "metadata": {},
   "outputs": [
    {
     "name": "stdout",
     "output_type": "stream",
     "text": [
      "0\t-ROOT-\t_\t-ROOT-\t_\t_\t0\t-NOREL-\t_\t_\n",
      "1\tInfluential\t_\tJJ\tJJ\t[None]\t2\tamod\t_\t_\n",
      "2\tmembers\t_\tNNS\tNNS\t[None]\t10\tnsubj\t_\t_\n",
      "3\tof\t_\tIN\tIN\t[None]\t2\tprep\t_\t_\n",
      "4\tthe\t_\tDT\tDT\t[None]\t6\tdet\t_\t_\n",
      "5\tHouse\t_\tNNP\tNNP\t[None]\t6\tnn\t_\t_\n",
      "6\tWays\t_\tNNP\tNNP\t[None]\t3\tpobj\t_\t_\n",
      "7\tand\t_\tCC\tCC\t[None]\t6\tcc\t_\t_\n",
      "8\tMeans\t_\tNNP\tNNP\t[None]\t9\tnn\t_\t_\n",
      "9\tCommittee\t_\tNNP\tNNP\t[None]\t6\tconj\t_\t_\n",
      "10\tintroduced\t_\tVBD\tVBD\t[None]\t0\troot\t_\t_\n",
      "11\tlegislation\t_\tNN\tNN\t[None]\t10\tdobj\t_\t_\n",
      "12\tthat\t_\tWDT\tWDT\t[None]\t14\tnsubj\t_\t_\n",
      "13\twould\t_\tMD\tMD\t[None]\t14\taux\t_\t_\n",
      "14\trestrict\t_\tVB\tVB\t[None]\t11\trcmod\t_\t_\n",
      "15\thow\t_\tWRB\tWRB\t[None]\t22\tadvmod\t_\t_\n",
      "16\tthe\t_\tDT\tDT\t[None]\t20\tdet\t_\t_\n",
      "17\tnew\t_\tJJ\tJJ\t[None]\t20\tamod\t_\t_\n",
      "18\tsavings-and-loan\t_\tJJ\tJJ\t[None]\t20\tnn\t_\t_\n",
      "19\tbailout\t_\tNN\tNN\t[None]\t20\tnn\t_\t_\n",
      "20\tagency\t_\tNN\tNN\t[None]\t22\tnsubj\t_\t_\n",
      "21\tcan\t_\tMD\tMD\t[None]\t22\taux\t_\t_\n",
      "22\traise\t_\tVB\tVB\t[None]\t14\tccomp\t_\t_\n",
      "23\tcapital\t_\tNN\tNN\t[None]\t22\tdobj\t_\t_\n",
      "24\t,\t_\t,\t,\t[None]\t14\tpunct\t_\t_\n",
      "25\tcreating\t_\tVBG\tVBG\t[None]\t14\txcomp\t_\t_\n",
      "26\tanother\t_\tDT\tDT\t[None]\t28\tdet\t_\t_\n",
      "27\tpotential\t_\tJJ\tJJ\t[None]\t28\tamod\t_\t_\n",
      "28\tobstacle\t_\tNN\tNN\t[None]\t25\tdobj\t_\t_\n",
      "29\tto\t_\tTO\tTO\t[None]\t28\tprep\t_\t_\n",
      "30\tthe\t_\tDT\tDT\t[None]\t31\tdet\t_\t_\n",
      "31\tgovernment\t_\tNN\tNN\t[None]\t33\tposs\t_\t_\n",
      "32\t's\t_\tPOS\tPOS\t[None]\t31\tpossessive\t_\t_\n",
      "33\tsale\t_\tNN\tNN\t[None]\t29\tpobj\t_\t_\n",
      "34\tof\t_\tIN\tIN\t[None]\t33\tprep\t_\t_\n",
      "35\tsick\t_\tJJ\tJJ\t[None]\t36\tamod\t_\t_\n",
      "36\tthrifts\t_\tNNS\tNNS\t[None]\t34\tpobj\t_\t_\n",
      "37\t.\t_\t.\t.\t[None]\t10\tpunct\t_\t_\n",
      "\n",
      "\n",
      "\\begin{dependency}[theme = simple]\n",
      "\\begin{deptext}[row sep=.25em, column sep=1.5em]\n",
      "$w_i$ \\& -ROOT- \\& Influential \\& members \\& of \\& the \\& House \\& Ways \\& and \\& Means \\& Committee \\& introduced \\& legislation \\& that \\& would \\& restrict \\& how \\& the \\& new \\& savings-and-loan \\& bailout \\& agency \\& can \\& raise \\& capital \\& , \\& creating \\& another \\& potential \\& obstacle \\& to \\& the \\& government \\& 's \\& sale \\& of \\& sick \\& thrifts \\& . \\\\ \n",
      "\\end{deptext}\n",
      "\\depedge{4}{3}{amod}\n",
      "\\depedge{12}{4}{nsubj}\n",
      "\\depedge{4}{5}{prep}\n",
      "\\depedge{8}{6}{det}\n",
      "\\depedge{8}{7}{nn}\n",
      "\\depedge{5}{8}{pobj}\n",
      "\\depedge{8}{9}{cc}\n",
      "\\depedge{11}{10}{nn}\n",
      "\\depedge{8}{11}{conj}\n",
      "\\depedge{2}{12}{root}\n",
      "\\depedge{12}{13}{dobj}\n",
      "\\depedge{16}{14}{nsubj}\n",
      "\\depedge{16}{15}{aux}\n",
      "\\depedge{13}{16}{rcmod}\n",
      "\\depedge{24}{17}{advmod}\n",
      "\\depedge{22}{18}{det}\n",
      "\\depedge{22}{19}{amod}\n",
      "\\depedge{22}{20}{nn}\n",
      "\\depedge{22}{21}{nn}\n",
      "\\depedge{24}{22}{nsubj}\n",
      "\\depedge{24}{23}{aux}\n",
      "\\depedge{16}{24}{ccomp}\n",
      "\\depedge{24}{25}{dobj}\n",
      "\\depedge{16}{26}{punct}\n",
      "\\depedge{16}{27}{xcomp}\n",
      "\\depedge{30}{28}{det}\n",
      "\\depedge{30}{29}{amod}\n",
      "\\depedge{27}{30}{dobj}\n",
      "\\depedge{30}{31}{prep}\n",
      "\\depedge{33}{32}{det}\n",
      "\\depedge{35}{33}{poss}\n",
      "\\depedge{33}{34}{possessive}\n",
      "\\depedge{31}{35}{pobj}\n",
      "\\depedge{35}{36}{prep}\n",
      "\\depedge{38}{37}{amod}\n",
      "\\depedge{36}{38}{pobj}\n",
      "\\depedge{12}{39}{punct}\n",
      "\\end{dependency}\n",
      "\n"
     ]
    }
   ],
   "source": [
    "from codelin.encs.enc_deps import *\n",
    "from codelin.models.deps_tree import D_Tree\n",
    "from codelin.models.linearized_tree import LinearizedTree\n",
    "\n",
    "deps_treebank = \"./ptb-dev.conllx\"\n",
    "trees = D_Tree.read_conllu_file(deps_treebank, filter_projective=True)\n",
    "\n",
    "sample_tree = trees[0]\n",
    "print(sample_tree)\n",
    "print(D_Tree.to_latex(sample_tree))"
   ]
  },
  {
   "attachments": {},
   "cell_type": "markdown",
   "metadata": {},
   "source": [
    "<div style=\"text-align:center\"><img src=\"./pics/notebooks/d_tree_1.png\" /></div>"
   ]
  },
  {
   "attachments": {},
   "cell_type": "markdown",
   "metadata": {},
   "source": [
    "### Encode with 4-bits encoding"
   ]
  },
  {
   "cell_type": "code",
   "execution_count": 2,
   "metadata": {},
   "outputs": [
    {
     "name": "stdout",
     "output_type": "stream",
     "text": [
      "-BOS-\t-BOS-\t-BOS-\n",
      "-ROOT-\t-ROOT-\t/_-NOREL-\n",
      "Influential\tJJ\t<*_amod\n",
      "members\tNNS\t\\<*/_nsubj\n",
      "of\tIN\t>*/_prep\n",
      "the\tDT\t<*_det\n",
      "House\tNNP\t<_nn\n",
      "Ways\tNNP\t\\>*/_pobj\n",
      "and\tCC\t>_cc\n",
      "Means\tNNP\t<*_nn\n",
      "Committee\tNNP\t\\>*_conj\n",
      "introduced\tVBD\t\\>*/_root\n",
      "legislation\tNN\t>/_dobj\n",
      "that\tWDT\t<*_nsubj\n",
      "would\tMD\t<_aux\n",
      "restrict\tVB\t\\>*/_rcmod\n",
      "how\tWRB\t<*_advmod\n",
      "the\tDT\t<*_det\n",
      "new\tJJ\t<_amod\n",
      "savings-and-loan\tJJ\t<_nn\n",
      "bailout\tNN\t<_nn\n",
      "agency\tNN\t\\<_nsubj\n",
      "can\tMD\t<_aux\n",
      "raise\tVB\t\\>/_ccomp\n",
      "capital\tNN\t>*_dobj\n",
      ",\t,\t>_punct\n",
      "creating\tVBG\t>*/_xcomp\n",
      "another\tDT\t<*_det\n",
      "potential\tJJ\t<_amod\n",
      "obstacle\tNN\t\\>*/_dobj\n",
      "to\tTO\t>*/_prep\n",
      "the\tDT\t<*_det\n",
      "government\tNN\t\\<*/_poss\n",
      "'s\tPOS\t>*_possessive\n",
      "sale\tNN\t\\>*/_pobj\n",
      "of\tIN\t>*/_prep\n",
      "sick\tJJ\t<*_amod\n",
      "thrifts\tNNS\t\\>*_pobj\n",
      ".\t.\t>*_punct\n",
      "-EOS-\t-EOS-\t-EOS-\n",
      "\n",
      "LAS = 1.0\n"
     ]
    }
   ],
   "source": [
    "enc_4b = D_Brk4BitsEncoding(separator=\"_\")\n",
    "lin_tree = enc_4b.encode(sample_tree)\n",
    "print(lin_tree)\n",
    "dec_tree = enc_4b.decode(lin_tree)\n",
    "print(\"LAS =\",dec_tree.las_score(sample_tree))"
   ]
  },
  {
   "attachments": {},
   "cell_type": "markdown",
   "metadata": {},
   "source": [
    "### Test for all trees"
   ]
  },
  {
   "cell_type": "code",
   "execution_count": 3,
   "metadata": {},
   "outputs": [],
   "source": [
    "enc_4b = D_Brk4BitsEncoding(separator=\"_\")\n",
    "for i, sample_tree in enumerate(trees):\n",
    "    lin_tree = enc_4b.encode(sample_tree)\n",
    "    dec_tree = enc_4b.decode(lin_tree)\n",
    "    las = dec_tree.las_score(sample_tree)\n",
    "    \n",
    "    if las != 1:\n",
    "        print(\"Error at tree\",i,\"length\",len(sample_tree))\n",
    "        print(\"LAS =\",dec_tree.las_score(sample_tree))"
   ]
  }
 ],
 "metadata": {
  "kernelspec": {
   "display_name": "tf",
   "language": "python",
   "name": "python3"
  },
  "language_info": {
   "codemirror_mode": {
    "name": "ipython",
    "version": 3
   },
   "file_extension": ".py",
   "mimetype": "text/x-python",
   "name": "python",
   "nbconvert_exporter": "python",
   "pygments_lexer": "ipython3",
   "version": "3.10.9"
  },
  "orig_nbformat": 4
 },
 "nbformat": 4,
 "nbformat_minor": 2
}
