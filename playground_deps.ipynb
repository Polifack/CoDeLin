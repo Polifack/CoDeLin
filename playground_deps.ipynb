{
 "cells": [
  {
   "attachments": {},
   "cell_type": "markdown",
   "metadata": {},
   "source": [
    "## Dependency Linearization Playground"
   ]
  },
  {
   "cell_type": "code",
   "execution_count": 1,
   "metadata": {},
   "outputs": [
    {
     "ename": "FileNotFoundError",
     "evalue": "[Errno 2] No such file or directory: './ptb-dev.conllx'",
     "output_type": "error",
     "traceback": [
      "\u001b[0;31m---------------------------------------------------------------------------\u001b[0m",
      "\u001b[0;31mFileNotFoundError\u001b[0m                         Traceback (most recent call last)",
      "Cell \u001b[0;32mIn[1], line 6\u001b[0m\n\u001b[1;32m      3\u001b[0m \u001b[39mfrom\u001b[39;00m \u001b[39mcodelin\u001b[39;00m\u001b[39m.\u001b[39;00m\u001b[39mmodels\u001b[39;00m\u001b[39m.\u001b[39;00m\u001b[39mlinearized_tree\u001b[39;00m \u001b[39mimport\u001b[39;00m LinearizedTree\n\u001b[1;32m      5\u001b[0m deps_treebank \u001b[39m=\u001b[39m \u001b[39m\"\u001b[39m\u001b[39m./ptb-dev.conllx\u001b[39m\u001b[39m\"\u001b[39m\n\u001b[0;32m----> 6\u001b[0m trees \u001b[39m=\u001b[39m D_Tree\u001b[39m.\u001b[39;49mread_conllu_file(deps_treebank, filter_projective\u001b[39m=\u001b[39;49m\u001b[39mTrue\u001b[39;49;00m)\n\u001b[1;32m      8\u001b[0m sample_tree \u001b[39m=\u001b[39m trees[\u001b[39m0\u001b[39m]\n\u001b[1;32m      9\u001b[0m \u001b[39mprint\u001b[39m(sample_tree)\n",
      "File \u001b[0;32m~/CoDeLin/codelin/models/deps_tree.py:432\u001b[0m, in \u001b[0;36mD_Tree.read_conllu_file\u001b[0;34m(file_path, filter_projective)\u001b[0m\n\u001b[1;32m    427\u001b[0m \u001b[39m@staticmethod\u001b[39m\n\u001b[1;32m    428\u001b[0m \u001b[39mdef\u001b[39;00m \u001b[39mread_conllu_file\u001b[39m(file_path, filter_projective \u001b[39m=\u001b[39m \u001b[39mTrue\u001b[39;00m):\n\u001b[1;32m    429\u001b[0m \u001b[39m    \u001b[39m\u001b[39m'''\u001b[39;00m\n\u001b[1;32m    430\u001b[0m \u001b[39m    Read a conllu file and return a list of ConllTree objects.\u001b[39;00m\n\u001b[1;32m    431\u001b[0m \u001b[39m    '''\u001b[39;00m\n\u001b[0;32m--> 432\u001b[0m     \u001b[39mwith\u001b[39;00m \u001b[39mopen\u001b[39;49m(file_path, \u001b[39m'\u001b[39;49m\u001b[39mr\u001b[39;49m\u001b[39m'\u001b[39;49m) \u001b[39mas\u001b[39;00m f:\n\u001b[1;32m    433\u001b[0m         data \u001b[39m=\u001b[39m f\u001b[39m.\u001b[39mread()\n\u001b[1;32m    434\u001b[0m     data \u001b[39m=\u001b[39m data\u001b[39m.\u001b[39msplit(\u001b[39m'\u001b[39m\u001b[39m\\n\u001b[39;00m\u001b[39m\\n\u001b[39;00m\u001b[39m'\u001b[39m)\n",
      "\u001b[0;31mFileNotFoundError\u001b[0m: [Errno 2] No such file or directory: './ptb-dev.conllx'"
     ]
    }
   ],
   "source": [
    "from codelin.encs.enc_deps import *\n",
    "from codelin.models.deps_tree import D_Tree\n",
    "from codelin.models.linearized_tree import LinearizedTree\n",
    "\n",
    "deps_treebank = \"./ptb-dev.conllx\"\n",
    "trees = D_Tree.read_conllu_file(deps_treebank, filter_projective=True)\n",
    "\n",
    "sample_tree = trees[0]\n",
    "print(sample_tree)\n",
    "print(D_Tree.to_latex(sample_tree))"
   ]
  },
  {
   "attachments": {},
   "cell_type": "markdown",
   "metadata": {},
   "source": [
    "<div style=\"text-align:center\"><img src=\"./pics/notebooks/d_tree_1.png\" /></div>"
   ]
  },
  {
   "attachments": {},
   "cell_type": "markdown",
   "metadata": {},
   "source": [
    "### Encode with 4-bits encoding"
   ]
  },
  {
   "cell_type": "code",
   "execution_count": null,
   "metadata": {},
   "outputs": [
    {
     "name": "stdout",
     "output_type": "stream",
     "text": [
      "-BOS-\t-BOS-\t-BOS-\n",
      "-ROOT-\t-ROOT-\t/_-NOREL-\n",
      "Influential\tJJ\t<*_amod\n",
      "members\tNNS\t\\<*/_nsubj\n",
      "of\tIN\t>*/_prep\n",
      "the\tDT\t<*_det\n",
      "House\tNNP\t<_nn\n",
      "Ways\tNNP\t\\>*/_pobj\n",
      "and\tCC\t>_cc\n",
      "Means\tNNP\t<*_nn\n",
      "Committee\tNNP\t\\>*_conj\n",
      "introduced\tVBD\t\\>*/_root\n",
      "legislation\tNN\t>/_dobj\n",
      "that\tWDT\t<*_nsubj\n",
      "would\tMD\t<_aux\n",
      "restrict\tVB\t\\>*/_rcmod\n",
      "how\tWRB\t<*_advmod\n",
      "the\tDT\t<*_det\n",
      "new\tJJ\t<_amod\n",
      "savings-and-loan\tJJ\t<_nn\n",
      "bailout\tNN\t<_nn\n",
      "agency\tNN\t\\<_nsubj\n",
      "can\tMD\t<_aux\n",
      "raise\tVB\t\\>/_ccomp\n",
      "capital\tNN\t>*_dobj\n",
      ",\t,\t>_punct\n",
      "creating\tVBG\t>*/_xcomp\n",
      "another\tDT\t<*_det\n",
      "potential\tJJ\t<_amod\n",
      "obstacle\tNN\t\\>*/_dobj\n",
      "to\tTO\t>*/_prep\n",
      "the\tDT\t<*_det\n",
      "government\tNN\t\\<*/_poss\n",
      "'s\tPOS\t>*_possessive\n",
      "sale\tNN\t\\>*/_pobj\n",
      "of\tIN\t>*/_prep\n",
      "sick\tJJ\t<*_amod\n",
      "thrifts\tNNS\t\\>*_pobj\n",
      ".\t.\t>*_punct\n",
      "-EOS-\t-EOS-\t-EOS-\n",
      "\n",
      "LAS = 1.0\n"
     ]
    }
   ],
   "source": [
    "enc_4b = D_Brk4BitsEncoding(separator=\"_\")\n",
    "lin_tree = enc_4b.encode(sample_tree)\n",
    "print(lin_tree)\n",
    "dec_tree = enc_4b.decode(lin_tree)\n",
    "print(\"LAS =\",dec_tree.las_score(sample_tree))"
   ]
  },
  {
   "attachments": {},
   "cell_type": "markdown",
   "metadata": {},
   "source": [
    "### Test for all trees"
   ]
  },
  {
   "cell_type": "code",
   "execution_count": null,
   "metadata": {},
   "outputs": [],
   "source": [
    "enc_4b = D_Brk4BitsEncoding(separator=\"_\")\n",
    "for i, sample_tree in enumerate(trees):\n",
    "    lin_tree = enc_4b.encode(sample_tree)\n",
    "    dec_tree = enc_4b.decode(lin_tree)\n",
    "    las = dec_tree.las_score(sample_tree)\n",
    "    \n",
    "    if las != 1:\n",
    "        print(\"Error at tree\",i,\"length\",len(sample_tree))\n",
    "        print(\"LAS =\",dec_tree.las_score(sample_tree))"
   ]
  },
  {
   "attachments": {},
   "cell_type": "markdown",
   "metadata": {},
   "source": [
    "### Planar extraction"
   ]
  },
  {
   "cell_type": "code",
   "execution_count": 3,
   "metadata": {},
   "outputs": [
    {
     "name": "stdout",
     "output_type": "stream",
     "text": [
      "/home/droca1/Treebanks/deps/UD_GERMAN_GSD\n",
      "Number of trees: 29170\n",
      "Planarity percentage: (1.0, 0.0)\n",
      "/home/droca1/Treebanks/deps/UD_FRENCH_GSD\n",
      "Number of trees: 31646\n",
      "Planarity percentage: (1.0, 0.0)\n",
      "/home/droca1/Treebanks/deps/UD_ENGLISH_EWT\n",
      "Number of trees: 32404\n",
      "Planarity percentage: (1.0, 0.0)\n",
      "/home/droca1/Treebanks/deps/UD_HUNGARIAN_SZEGED\n",
      "Number of trees: 3206\n",
      "Planarity percentage: (1.0, 0.0)\n",
      "/home/droca1/Treebanks/deps/UD_POLISH_PDB\n",
      "Number of trees: 43613\n",
      "Planarity percentage: (1.0, 0.0)\n",
      "/home/droca1/Treebanks/deps/UD_BASQUE_BDT\n",
      "Number of trees: 13247\n",
      "Planarity percentage: (1.0, 0.0)\n",
      "/home/droca1/Treebanks/deps/UD_HEBREW_IAHLTWIKI\n",
      "Number of trees: 10155\n"
     ]
    },
    {
     "ename": "KeyboardInterrupt",
     "evalue": "",
     "output_type": "error",
     "traceback": [
      "\u001b[0;31m---------------------------------------------------------------------------\u001b[0m",
      "\u001b[0;31mKeyboardInterrupt\u001b[0m                         Traceback (most recent call last)",
      "Cell \u001b[0;32mIn[3], line 19\u001b[0m\n\u001b[1;32m     16\u001b[0m     total_trees \u001b[39m+\u001b[39m\u001b[39m=\u001b[39m trees\n\u001b[1;32m     18\u001b[0m \u001b[39mprint\u001b[39m(\u001b[39m\"\u001b[39m\u001b[39mNumber of trees:\u001b[39m\u001b[39m\"\u001b[39m,\u001b[39mlen\u001b[39m(total_trees))\n\u001b[0;32m---> 19\u001b[0m plan_perc \u001b[39m=\u001b[39m D_Tree\u001b[39m.\u001b[39;49mget_planarity_percentage(total_trees)\n\u001b[1;32m     20\u001b[0m \u001b[39mprint\u001b[39m(\u001b[39m\"\u001b[39m\u001b[39mPlanarity percentage:\u001b[39m\u001b[39m\"\u001b[39m,plan_perc)\n",
      "File \u001b[0;32m~/CoDeLin/codelin/models/deps_tree.py:613\u001b[0m, in \u001b[0;36mD_Tree.get_planarity_percentage\u001b[0;34m(trees)\u001b[0m\n\u001b[1;32m    611\u001b[0m two_planar \u001b[39m=\u001b[39m \u001b[39m0\u001b[39m\n\u001b[1;32m    612\u001b[0m \u001b[39mfor\u001b[39;00m tree \u001b[39min\u001b[39;00m trees:\n\u001b[0;32m--> 613\u001b[0m     p1,p2 \u001b[39m=\u001b[39m D_Tree\u001b[39m.\u001b[39;49mtwo_planar_greedy(tree)\n\u001b[1;32m    614\u001b[0m     \u001b[39mif\u001b[39;00m \u001b[39mlen\u001b[39m(p2) \u001b[39m==\u001b[39m \u001b[39m0\u001b[39m:\n\u001b[1;32m    615\u001b[0m         planar \u001b[39m+\u001b[39m\u001b[39m=\u001b[39m \u001b[39m1\u001b[39m\n",
      "File \u001b[0;32m~/CoDeLin/codelin/models/deps_tree.py:529\u001b[0m, in \u001b[0;36mD_Tree.two_planar_greedy\u001b[0;34m(dep_tree)\u001b[0m\n\u001b[1;32m    525\u001b[0m \u001b[39mfor\u001b[39;00m i \u001b[39min\u001b[39;00m \u001b[39mrange\u001b[39m(\u001b[39mlen\u001b[39m(dep_tree)):\n\u001b[1;32m    526\u001b[0m     \u001b[39mfor\u001b[39;00m j \u001b[39min\u001b[39;00m \u001b[39mrange\u001b[39m(i, \u001b[39m-\u001b[39m\u001b[39m1\u001b[39m, \u001b[39m-\u001b[39m\u001b[39m1\u001b[39m):\n\u001b[1;32m    527\u001b[0m         \u001b[39m# if the node in position 'i' has an arc to 'j' \u001b[39;00m\n\u001b[1;32m    528\u001b[0m         \u001b[39m# or node in position 'j' has an arc to 'i'\u001b[39;00m\n\u001b[0;32m--> 529\u001b[0m         next_arc \u001b[39m=\u001b[39m dep_tree\u001b[39m.\u001b[39;49mget_next_edge(i, j)\n\u001b[1;32m    530\u001b[0m         \u001b[39mif\u001b[39;00m next_arc \u001b[39mis\u001b[39;00m \u001b[39mNone\u001b[39;00m:\n\u001b[1;32m    531\u001b[0m             \u001b[39mcontinue\u001b[39;00m\n",
      "File \u001b[0;32m~/CoDeLin/codelin/models/deps_tree.py:197\u001b[0m, in \u001b[0;36mD_Tree.get_next_edge\u001b[0;34m(self, idx_l, idx_r)\u001b[0m\n\u001b[1;32m    194\u001b[0m \u001b[39mdef\u001b[39;00m \u001b[39mget_next_edge\u001b[39m(\u001b[39mself\u001b[39m, idx_l, idx_r):\n\u001b[1;32m    195\u001b[0m     next_arc \u001b[39m=\u001b[39m \u001b[39mNone\u001b[39;00m\n\u001b[0;32m--> 197\u001b[0m     \u001b[39mif\u001b[39;00m \u001b[39mself\u001b[39m[idx_l]\u001b[39m.\u001b[39mhead \u001b[39m==\u001b[39m idx_r:\n\u001b[1;32m    198\u001b[0m         next_arc \u001b[39m=\u001b[39m \u001b[39mself\u001b[39m[idx_l]\n\u001b[1;32m    200\u001b[0m     \u001b[39melif\u001b[39;00m \u001b[39mself\u001b[39m[idx_r]\u001b[39m.\u001b[39mhead \u001b[39m==\u001b[39m idx_l:\n",
      "\u001b[0;31mKeyboardInterrupt\u001b[0m: "
     ]
    }
   ],
   "source": [
    "import os\n",
    "\n",
    "# read all folders\n",
    "ud_path=\"/home/droca1/Treebanks/deps\"\n",
    "ud_folders = [os.path.join(ud_path, f) for f in os.listdir(ud_path) if os.path.isdir(os.path.join(ud_path, f))]\n",
    "\n",
    "for ud_folder in ud_folders:\n",
    "    print(ud_folder)\n",
    "    \n",
    "    # get all conllu files in ud_folder\n",
    "    conllu_files = [os.path.join(ud_folder, f) for f in os.listdir(ud_folder) if f.endswith(\".conllu\")]\n",
    "    total_trees = []\n",
    "    for conllu_file in conllu_files:\n",
    "        deps_treebank = os.path.join(ud_folder, conllu_file)\n",
    "        trees = D_Tree.read_conllu_file(deps_treebank, filter_projective=True)\n",
    "        total_trees += trees\n",
    "    \n",
    "    print(\"Number of trees:\",len(total_trees))\n",
    "    plan_perc = D_Tree.get_planarity_percentage(total_trees)\n",
    "    print(\"Planarity percentage:\",plan_perc)"
   ]
  }
 ],
 "metadata": {
  "kernelspec": {
   "display_name": "tf",
   "language": "python",
   "name": "python3"
  },
  "language_info": {
   "codemirror_mode": {
    "name": "ipython",
    "version": 3
   },
   "file_extension": ".py",
   "mimetype": "text/x-python",
   "name": "python",
   "nbconvert_exporter": "python",
   "pygments_lexer": "ipython3",
   "version": "3.10.9"
  },
  "orig_nbformat": 4
 },
 "nbformat": 4,
 "nbformat_minor": 2
}
